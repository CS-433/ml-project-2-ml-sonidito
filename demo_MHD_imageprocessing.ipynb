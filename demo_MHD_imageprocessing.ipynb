{
 "cells": [
  {
   "cell_type": "code",
   "execution_count": 18,
   "id": "37dee998",
   "metadata": {},
   "outputs": [],
   "source": [
    "import os\n",
    "import numpy as np\n",
    "import matplotlib.pyplot as plt\n",
    "import glob\n",
    "from scipy.ndimage import gaussian_filter"
   ]
  },
  {
   "cell_type": "code",
   "execution_count": 19,
   "id": "d6d42605",
   "metadata": {},
   "outputs": [],
   "source": [
    "# choose whether to load dataset with pickle or hdf5 files (using hickle)\n",
    "use_pickle = False\n",
    "\n",
    "data_root = 'data'\n",
    "\n",
    "if use_pickle:\n",
    "    import pickle\n",
    "    data_path = \"dataset_pickle\"\n",
    "    file_ext = \"pickle\"\n",
    "else:\n",
    "    import hickle\n",
    "    data_path = \"dataset_h5\"\n",
    "    file_ext = \"h5\"\n",
    "\n",
    "data_path = os.path.join(data_root, data_path)"
   ]
  },
  {
   "cell_type": "code",
   "execution_count": 28,
   "id": "2448bd5d",
   "metadata": {},
   "outputs": [],
   "source": [
    "def load_shot(shotno):\n",
    "    with open(os.path.join(data_path, f\"{shotno}.{file_ext}\"), \"rb\") as f:\n",
    "        if use_pickle:\n",
    "            return pickle.load(f)\n",
    "        else:\n",
    "            return hickle.load(f)\n",
    "        \n",
    "def walk(struct, prefix=\"\", append=\"  \"):\n",
    "    # simple function to inspect dict without printing all contents\n",
    "    for key, item in struct.items():\n",
    "        if not isinstance(item, dict):\n",
    "            postfix = \"\" if not isinstance(item, np.ndarray) else f\"{item.shape}\"\n",
    "            print(f\"{prefix}{key}: var <{type(item).__name__}> {postfix}\")\n",
    "        else:\n",
    "            print(f\"{prefix}{key}\\n{prefix}\" + \"{\")\n",
    "            walk(item, prefix=prefix+append, append=append)\n",
    "            print(f\"{prefix}\" + \"}\")"
   ]
  },
  {
   "cell_type": "code",
   "execution_count": 29,
   "id": "32931501",
   "metadata": {},
   "outputs": [],
   "source": [
    "# get all shot nos\n",
    "all_shots = [int(os.path.basename(x.split(f\".{file_ext}\")[0])) \n",
    "             for x in glob.glob(os.path.join(data_path, f\"*.{file_ext}\"))]\n",
    "if len(all_shots) < 94:  # check if all data is there\n",
    "    print(f\"[using dataset mode {'pickle' if use_pickle else 'hdf5'}]\")\n",
    "    raise ValueError(f\"Not all shots found in path /{data_path}/; found only {len(all_shots)} out of 94\")"
   ]
  },
  {
   "cell_type": "code",
   "execution_count": 30,
   "id": "dc0357a5",
   "metadata": {},
   "outputs": [
    {
     "name": "stdout",
     "output_type": "stream",
     "text": [
      "List of all shots/pulses:\n",
      "[64374, 64376, 64378, 64389, 64392, 64394, 64401, 64646, 64647, 64648, 64649, 64650, 64658, 64659, 64662, 64664, 64666, 64668, 64670, 64673, 64675, 64677, 64678, 64680, 64682, 64684, 64686, 64770, 64774, 64778, 64820, 64834, 70355, 70356, 70357, 70359, 70380, 70381, 70382, 70383, 70387, 70388, 70389, 70390, 70391, 70392, 70393, 70394, 71182, 71186, 71188, 71189, 71190, 71192, 71193, 71194, 71222, 71223, 71224, 71225, 71226, 71255, 71256, 71259, 71260, 71264, 71265, 71266, 71292, 71300, 71303, 72196, 72198, 72919, 72920, 72925, 72926, 72927, 72928, 72929, 72930, 72959, 72961, 72963, 72964, 72965, 72966, 72967, 73018, 73019, 73020, 73021, 73022, 73023]\n"
     ]
    }
   ],
   "source": [
    "print(f\"List of all shots/pulses:\")\n",
    "print(all_shots)"
   ]
  },
  {
   "cell_type": "code",
   "execution_count": 31,
   "id": "da18212e",
   "metadata": {},
   "outputs": [
    {
     "name": "stdout",
     "output_type": "stream",
     "text": [
      "Example structure of shot #70382:\n",
      "data\\dataset_h5\\70382.h5\n",
      "<class '_io.BufferedReader'>\n"
     ]
    },
    {
     "ename": "FileError",
     "evalue": "Cannot open file. Please pass either a filename string, a file object, or a h5py.File",
     "output_type": "error",
     "traceback": [
      "\u001b[1;31m---------------------------------------------------------------------------\u001b[0m",
      "\u001b[1;31mFileError\u001b[0m                                 Traceback (most recent call last)",
      "\u001b[1;32mc:\\Users\\ChauYing\\Desktop\\Projets\\MA3\\ml-project-2-ml-sonidito\\demo_MHD_imageprocessing.ipynb Cell 6\u001b[0m line \u001b[0;36m3\n\u001b[0;32m      <a href='vscode-notebook-cell:/c%3A/Users/ChauYing/Desktop/Projets/MA3/ml-project-2-ml-sonidito/demo_MHD_imageprocessing.ipynb#W5sZmlsZQ%3D%3D?line=0'>1</a>\u001b[0m shotno \u001b[39m=\u001b[39m all_shots[\u001b[39m38\u001b[39m]\n\u001b[0;32m      <a href='vscode-notebook-cell:/c%3A/Users/ChauYing/Desktop/Projets/MA3/ml-project-2-ml-sonidito/demo_MHD_imageprocessing.ipynb#W5sZmlsZQ%3D%3D?line=1'>2</a>\u001b[0m \u001b[39mprint\u001b[39m(\u001b[39mf\u001b[39m\u001b[39m\"\u001b[39m\u001b[39mExample structure of shot #\u001b[39m\u001b[39m{\u001b[39;00mshotno\u001b[39m}\u001b[39;00m\u001b[39m:\u001b[39m\u001b[39m\"\u001b[39m)\n\u001b[1;32m----> <a href='vscode-notebook-cell:/c%3A/Users/ChauYing/Desktop/Projets/MA3/ml-project-2-ml-sonidito/demo_MHD_imageprocessing.ipynb#W5sZmlsZQ%3D%3D?line=2'>3</a>\u001b[0m data_shot \u001b[39m=\u001b[39m load_shot(shotno)\n\u001b[0;32m      <a href='vscode-notebook-cell:/c%3A/Users/ChauYing/Desktop/Projets/MA3/ml-project-2-ml-sonidito/demo_MHD_imageprocessing.ipynb#W5sZmlsZQ%3D%3D?line=3'>4</a>\u001b[0m walk(data_shot)\n",
      "\u001b[1;32mc:\\Users\\ChauYing\\Desktop\\Projets\\MA3\\ml-project-2-ml-sonidito\\demo_MHD_imageprocessing.ipynb Cell 6\u001b[0m line \u001b[0;36m7\n\u001b[0;32m      <a href='vscode-notebook-cell:/c%3A/Users/ChauYing/Desktop/Projets/MA3/ml-project-2-ml-sonidito/demo_MHD_imageprocessing.ipynb#W5sZmlsZQ%3D%3D?line=4'>5</a>\u001b[0m     \u001b[39mreturn\u001b[39;00m pickle\u001b[39m.\u001b[39mload(f)\n\u001b[0;32m      <a href='vscode-notebook-cell:/c%3A/Users/ChauYing/Desktop/Projets/MA3/ml-project-2-ml-sonidito/demo_MHD_imageprocessing.ipynb#W5sZmlsZQ%3D%3D?line=5'>6</a>\u001b[0m \u001b[39melse\u001b[39;00m:\n\u001b[1;32m----> <a href='vscode-notebook-cell:/c%3A/Users/ChauYing/Desktop/Projets/MA3/ml-project-2-ml-sonidito/demo_MHD_imageprocessing.ipynb#W5sZmlsZQ%3D%3D?line=6'>7</a>\u001b[0m     \u001b[39mreturn\u001b[39;00m hickle\u001b[39m.\u001b[39;49mload(f)\n",
      "File \u001b[1;32mi:\\miniconda\\envs\\ml_project2\\Lib\\site-packages\\hickle\\hickle.py:489\u001b[0m, in \u001b[0;36mload\u001b[1;34m(fileobj, path, safe)\u001b[0m\n\u001b[0;32m    486\u001b[0m close_flag \u001b[39m=\u001b[39m \u001b[39mFalse\u001b[39;00m\n\u001b[0;32m    488\u001b[0m \u001b[39mtry\u001b[39;00m:\n\u001b[1;32m--> 489\u001b[0m     h5f, close_flag \u001b[39m=\u001b[39m file_opener(fileobj)\n\u001b[0;32m    490\u001b[0m     h_root_group \u001b[39m=\u001b[39m h5f\u001b[39m.\u001b[39mget(path)\n\u001b[0;32m    491\u001b[0m     \u001b[39mtry\u001b[39;00m:\n",
      "File \u001b[1;32mi:\\miniconda\\envs\\ml_project2\\Lib\\site-packages\\hickle\\hickle.py:194\u001b[0m, in \u001b[0;36mfile_opener\u001b[1;34m(f, mode, track_times)\u001b[0m\n\u001b[0;32m    192\u001b[0m \u001b[39melse\u001b[39;00m:\n\u001b[0;32m    193\u001b[0m     \u001b[39mprint\u001b[39m(f\u001b[39m.\u001b[39m\u001b[39m__class__\u001b[39m)\n\u001b[1;32m--> 194\u001b[0m     \u001b[39mraise\u001b[39;00m FileError\n\u001b[0;32m    196\u001b[0m h5f\u001b[39m.\u001b[39m\u001b[39m__class__\u001b[39m \u001b[39m=\u001b[39m H5FileWrapper\n\u001b[0;32m    197\u001b[0m h5f\u001b[39m.\u001b[39mtrack_times \u001b[39m=\u001b[39m track_times\n",
      "\u001b[1;31mFileError\u001b[0m: Cannot open file. Please pass either a filename string, a file object, or a h5py.File"
     ]
    }
   ],
   "source": [
    "shotno = all_shots[38]\n",
    "print(f\"Example structure of shot #{shotno}:\")\n",
    "data_shot = load_shot(shotno)\n",
    "walk(data_shot)"
   ]
  },
  {
   "cell_type": "markdown",
   "id": "46b71577",
   "metadata": {},
   "source": [
    "The main purpose of this project is to identify modes, which can be spotted as 'lines' or 'bands' in the frequency spectrum. More precisely, we want to find the start:end time given these 2D plots, see below:\n"
   ]
  },
  {
   "cell_type": "code",
   "execution_count": null,
   "id": "7f3c1bb1",
   "metadata": {},
   "outputs": [
    {
     "ename": "",
     "evalue": "",
     "output_type": "error",
     "traceback": [
      "\u001b[1;31mRunning cells with 'ml_project2' requires the ipykernel package.\n",
      "\u001b[1;31mRun the following command to install 'ipykernel' into the Python environment. \n",
      "\u001b[1;31mCommand: 'conda install -n ml_project2 ipykernel --update-deps --force-reinstall'"
     ]
    }
   ],
   "source": [
    "inputs = data_shot[\"x\"][\"spectrogram\"]\n",
    "spec_even = inputs[\"EvenN\"]\n",
    "spec_odd = inputs[\"OddN\"]\n",
    "f = inputs[\"frequency\"]\n",
    "t = inputs[\"time\"]\n",
    "fig, ax = plt.subplots()\n",
    "ax.imshow(spec_even[::, ::-1].T, extent=(t[0], t[-1], f[0], f[-1]), aspect='auto', cmap='jet')\n",
    "ax.set_xlim(t[0], t[-1])\n",
    "ax.set_ylim(f[0], f[-1])\n",
    "ax.set_xlabel(\"time [s]\")\n",
    "ax.set_ylabel(\"frequency [Hz]\")\n",
    "fig.set_dpi(150)\n",
    "plt.title(\"Even N\")\n",
    "plt.show()\n",
    "fig, ax = plt.subplots()\n",
    "ax.imshow(spec_odd[::, ::-1].T, extent=(t[0], t[-1], f[0], f[-1]), aspect='auto', cmap='jet')\n",
    "ax.set_xlim(t[0], t[-1])\n",
    "ax.set_ylim(f[0], f[-1])\n",
    "ax.set_xlabel(\"time [s]\")\n",
    "ax.set_ylabel(\"frequency [Hz]\")\n",
    "fig.set_dpi(150)\n",
    "plt.title(\"Odd N\")\n",
    "plt.show()"
   ]
  },
  {
   "cell_type": "markdown",
   "id": "5da24435",
   "metadata": {},
   "source": [
    "Both the Even N / Odd N spectrograms can be used, in the following example we can clearly identify a mode around ~1.35s (Bestl illustrated in the Odd N spectrogram, zooming in on the lower frequences):"
   ]
  },
  {
   "cell_type": "code",
   "execution_count": null,
   "id": "980aaf76",
   "metadata": {
    "scrolled": false
   },
   "outputs": [
    {
     "ename": "",
     "evalue": "",
     "output_type": "error",
     "traceback": [
      "\u001b[1;31mRunning cells with 'ml_project2' requires the ipykernel package.\n",
      "\u001b[1;31mRun the following command to install 'ipykernel' into the Python environment. \n",
      "\u001b[1;31mCommand: 'conda install -n ml_project2 ipykernel --update-deps --force-reinstall'"
     ]
    }
   ],
   "source": [
    "f_zoomed = f[:500] # zoom in on first frequency range\n",
    "spec_odd_zoomed = spec_odd[:, :500]\n",
    "fig, ax = plt.subplots()\n",
    "ax.imshow(spec_odd_zoomed[::, ::-1].T, extent=(t[0], t[-1], f_zoomed[0], f_zoomed[-1]), aspect='auto', cmap='jet')\n",
    "\n",
    "# annotate 2 modes\n",
    "mode_timing = (1.34, 1.65)\n",
    "ax.annotate('', xy=(mode_timing[0] / t[-1], 0.35), xycoords='axes fraction', xytext=(mode_timing[1] / t[-1], 0.35), \n",
    "                    arrowprops=dict(arrowstyle=\"<->\", color='black'))\n",
    "\n",
    "ax.set_xlim(t[0], t[-1])\n",
    "ax.set_ylim(f_zoomed[0], f_zoomed[-1])\n",
    "ax.set_xlabel(\"time [s]\")\n",
    "ax.set_ylabel(\"frequency [Hz]\")\n",
    "fig.set_dpi(150)\n",
    "plt.title(\"Odd N\")\n",
    "plt.show()"
   ]
  },
  {
   "cell_type": "markdown",
   "id": "1c3a3ce4",
   "metadata": {},
   "source": [
    "Traditional computer vision techniques could be used to extract start/end times of this shape directly from the spectrogram (looking for e.g. lines). \n",
    "Alternatively, one could use other measurements to create 'pseudo labels' to build a data driven model.\n",
    "\n",
    "We store these extra measurements in 'y'. Note that 'y' is not assumed to be directly available: you can use it to build a dataset as in traditional machine learning, but it is not available at test time. An example of these mode amplitudes is plotted below:"
   ]
  },
  {
   "cell_type": "code",
   "execution_count": null,
   "id": "768c6b3c",
   "metadata": {},
   "outputs": [
    {
     "ename": "",
     "evalue": "",
     "output_type": "error",
     "traceback": [
      "\u001b[1;31mRunning cells with 'ml_project2' requires the ipykernel package.\n",
      "\u001b[1;31mRun the following command to install 'ipykernel' into the Python environment. \n",
      "\u001b[1;31mCommand: 'conda install -n ml_project2 ipykernel --update-deps --force-reinstall'"
     ]
    }
   ],
   "source": [
    "label_sources = data_shot[\"y\"][\"modes\"]\n",
    "fig, ax = plt.subplots()\n",
    "fig.set_size_inches((8, 6))\n",
    "\n",
    "time = label_sources[\"time\"]\n",
    "for i in range(5):\n",
    "    ax.plot(time, label_sources[f\"N{i}\"], label=f\"n={i}\")\n",
    "ax.set_ylim(0, 0.002)\n",
    "ax.set_xlabel(\"time [s]\")\n",
    "ax.set_ylabel(\"Modes N [T]\")\n",
    "plt.legend()\n",
    "plt.show()\n",
    "\n",
    "fig, ax = plt.subplots()\n",
    "fig.set_size_inches((8, 6))\n",
    "\n",
    "time = label_sources[\"time\"]\n",
    "ax.plot(time, label_sources[f\"LM\"], label=f\"n={i}\")\n",
    "ax.set_xlabel(\"time [s]\")\n",
    "ax.set_ylabel(\"Locked Mode [T]\")\n",
    "plt.show()"
   ]
  },
  {
   "cell_type": "markdown",
   "id": "3835e151",
   "metadata": {},
   "source": [
    "An example method to get 'pseudo labels' (low quality automatically generated labels) is to take ranges of these signals above some threshold as a 'mode'. This could be used as the output of a data-driven method to predict start/end ranges from spectrograms (but do experiment with this yourself, e.g. defining labels yourself, other computer vision/image processing driven methods, different approaches to pseudo-labels):"
   ]
  },
  {
   "cell_type": "code",
   "execution_count": null,
   "id": "dac54bcb",
   "metadata": {},
   "outputs": [
    {
     "ename": "",
     "evalue": "",
     "output_type": "error",
     "traceback": [
      "\u001b[1;31mRunning cells with 'ml_project2' requires the ipykernel package.\n",
      "\u001b[1;31mRun the following command to install 'ipykernel' into the Python environment. \n",
      "\u001b[1;31mCommand: 'conda install -n ml_project2 ipykernel --update-deps --force-reinstall'"
     ]
    }
   ],
   "source": [
    "def get_approx_timeranges(label_sources, mode_thresh=0.0005, nt_thresh=100, above_ratio=.9, min_t=.04):\n",
    "    modes = np.sum(np.stack([label_sources[f\"N{i}\"] for i in range(5)]), axis=0)\n",
    "    time = label_sources[\"time\"]\n",
    "    modes = gaussian_filter(modes, sigma=30)\n",
    "    indices = list(np.where(modes > mode_thresh)[0])\n",
    "    indices = [0] + indices + [len(label_sources[\"N0\"])-1]\n",
    "    nrange = []\n",
    "    # find indices where there is a switch from above / below threshold, with 'nt_thresh' steps between\n",
    "    indices_filter = [indices[i] for i in range(1, len(indices)-1) if (abs(indices[i-1] - indices[i]) > nt_thresh or abs(indices[i+1] -indices[i]) > nt_thresh)]\n",
    "    # get corresponding start/end times\n",
    "    tss, tes = [], []\n",
    "    for i in range(0, len(indices_filter)):\n",
    "        if i+1 >= len(indices_filter):\n",
    "            break\n",
    "        ia, ib = indices_filter[i], indices_filter[i+1]\n",
    "        dinterval = modes[ia:ib]                                        \n",
    "        if np.sum(dinterval > mode_thresh) < (ib - ia) * above_ratio:\n",
    "            continue\n",
    "        ts, te = time[ia], time[ib]\n",
    "        if te - ts < min_t:\n",
    "            continue\n",
    "        tss.append(time[ia])\n",
    "        tes.append(time[ib])\n",
    "    return list(zip(tss, tes))"
   ]
  },
  {
   "cell_type": "code",
   "execution_count": null,
   "id": "4fe138c4",
   "metadata": {},
   "outputs": [
    {
     "ename": "",
     "evalue": "",
     "output_type": "error",
     "traceback": [
      "\u001b[1;31mRunning cells with 'ml_project2' requires the ipykernel package.\n",
      "\u001b[1;31mRun the following command to install 'ipykernel' into the Python environment. \n",
      "\u001b[1;31mCommand: 'conda install -n ml_project2 ipykernel --update-deps --force-reinstall'"
     ]
    }
   ],
   "source": [
    "# get pseudo labels\n",
    "mode_timings_auto = get_approx_timeranges(label_sources)\n",
    "\n",
    "# plot the auto-generated ranges on the previously used spectrogram\n",
    "fig, ax = plt.subplots()\n",
    "ax.imshow(spec_odd_zoomed[::, ::-1].T, extent=(t[0], t[-1], f_zoomed[0], f_zoomed[-1]), aspect='auto', cmap='jet')\n",
    "\n",
    "for ts, te in mode_timings_auto:\n",
    "    ax.annotate('', xy=(ts / t[-1], -0.10), xycoords='axes fraction', xytext=(te / t[-1], -0.10), \n",
    "                        arrowprops=dict(arrowstyle=\"<->\", color='black'))\n",
    "\n",
    "ax.set_xlim(t[0], t[-1])\n",
    "ax.set_ylim(f_zoomed[0], f_zoomed[-1])\n",
    "ax.set_xlabel(\"time [s]\")\n",
    "ax.set_ylabel(\"frequency [Hz]\")\n",
    "fig.set_dpi(150)\n",
    "plt.title(\"Odd N\")\n",
    "plt.show()"
   ]
  }
 ],
 "metadata": {
  "kernelspec": {
   "display_name": "Python 3 (ipykernel)",
   "language": "python",
   "name": "python3"
  },
  "language_info": {
   "codemirror_mode": {
    "name": "ipython",
    "version": 3
   },
   "file_extension": ".py",
   "mimetype": "text/x-python",
   "name": "python",
   "nbconvert_exporter": "python",
   "pygments_lexer": "ipython3",
   "version": "3.12.0"
  }
 },
 "nbformat": 4,
 "nbformat_minor": 5
}
