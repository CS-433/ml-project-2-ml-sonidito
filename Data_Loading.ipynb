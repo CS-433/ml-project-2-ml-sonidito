{
 "cells": [
  {
   "cell_type": "code",
   "execution_count": 1,
   "id": "3a767d70",
   "metadata": {},
   "outputs": [],
   "source": [
    "import os\n",
    "import pandas as pd\n",
    "import numpy as np\n",
    "import glob\n",
    "import torch\n",
    "from torch.utils.data import Dataset, DataLoader\n",
    "from torchvision import transforms, utils, transforms\n",
    "import matplotlib.pyplot as plt"
   ]
  },
  {
   "cell_type": "code",
   "execution_count": 2,
   "id": "d764967e",
   "metadata": {},
   "outputs": [],
   "source": [
    "from dataloading import *"
   ]
  },
  {
   "cell_type": "code",
   "execution_count": 3,
   "id": "7d716ba2",
   "metadata": {},
   "outputs": [],
   "source": [
    "plt.rcdefaults()"
   ]
  },
  {
   "cell_type": "markdown",
   "id": "e34691a8",
   "metadata": {},
   "source": [
    "# Use Odd spectrograms"
   ]
  },
  {
   "cell_type": "code",
   "execution_count": 4,
   "id": "f2e140cd",
   "metadata": {},
   "outputs": [],
   "source": [
    "def plot_spectrogram(spec, title, time, frequency, start_longest_mode=None, end_longest_mode=None):\n",
    "    fig, ax = plt.subplots()\n",
    "    ax.imshow(spec.T, extent=(time[0], time[-1], frequency[0], frequency[-1]), aspect='auto', cmap='jet',\n",
    "              origin='lower')\n",
    "    ax.set_xlim(time[0], time[-1])\n",
    "    ax.set_ylim(frequency[0], frequency[-1])\n",
    "    ax.set_xlabel(\"Time [s]\")\n",
    "    ax.set_ylabel(\"Frequency [Hz]\")\n",
    "    fig.set_dpi(150)\n",
    "    plt.title(title)\n",
    "\n",
    "    # Plot vertical lines if start and end times are provided\n",
    "    if start_longest_mode is not None and end_longest_mode is not None:\n",
    "        ax.axvline(x=start_longest_mode, color='blue', linestyle='--', label='Start of Longest Mode')\n",
    "        ax.axvline(x=end_longest_mode, color='darkblue', linestyle='--', label='End of Longest Mode')\n",
    "        plt.legend(loc='upper left')\n",
    "\n",
    "    plt.show()"
   ]
  },
  {
   "cell_type": "code",
   "execution_count": 5,
   "id": "d35c3bb2",
   "metadata": {},
   "outputs": [
    {
     "name": "stdout",
     "output_type": "stream",
     "text": [
      "The size of the odd spectrogram in the last element of windows: torch.Size([2049, 64]).\n",
      "Total number of windows = 20644\n",
      "Number of unique IDs = 20644\n"
     ]
    }
   ],
   "source": [
    "# Example usage\n",
    "DATA_PATH = \"data/dataset_pickle\"\n",
    "FILE_EXT = \"pickle\"\n",
    "WINDOW_SIZE = 64 # Number of datapoints\n",
    "OVERLAP_FACTOR = 0.8 # Overlap factor between 0 and 1 for each sliding window (\"% overlap with the last window\")\n",
    "\n",
    "dataset = SpectrogramDataset(data_path=DATA_PATH, file_ext=FILE_EXT, window_size=WINDOW_SIZE, overlap_factor = OVERLAP_FACTOR)\n",
    "dataloader = DataLoader(dataset, batch_size=32, shuffle=True, collate_fn = custom_collate)"
   ]
  },
  {
   "cell_type": "code",
   "execution_count": 6,
   "id": "76ddd3d1",
   "metadata": {
    "scrolled": true
   },
   "outputs": [
    {
     "name": "stdout",
     "output_type": "stream",
     "text": [
      "torch.Size([2049, 64])\n"
     ]
    }
   ],
   "source": [
    "# Iterate through the dataloader\n",
    "for idx, batch in enumerate(dataloader):\n",
    "    #print(f\"Batch {idx + 1} - Number of Windows: {len(batch)}\")\n",
    "    print(batch[0]['window_odd'][0].shape) # First item of the batch --> Very weird indexing\n",
    "    plot_spectrogram(\n",
    "    batch[0]['window_odd'][0],\n",
    "    f\"Spectrogram for Shot {batch[0]['shotno'][0]} - Window {batch[0]['unique_id'][0]}\",\n",
    "    batch[0]['time'][0],\n",
    "    batch[0]['frequency'][0]\n",
    "    )\n",
    "        \n",
    "    break  # Break after plotting the first window"
   ]
  },
  {
   "cell_type": "code",
   "execution_count": null,
   "id": "9095c1fe",
   "metadata": {},
   "outputs": [],
   "source": []
  }
 ],
 "metadata": {
  "kernelspec": {
   "display_name": "Python 3 (ipykernel)",
   "language": "python",
   "name": "python3"
  },
  "language_info": {
   "codemirror_mode": {
    "name": "ipython",
    "version": 3
   },
   "file_extension": ".py",
   "mimetype": "text/x-python",
   "name": "python",
   "nbconvert_exporter": "python",
   "pygments_lexer": "ipython3",
   "version": "3.9.18"
  }
 },
 "nbformat": 4,
 "nbformat_minor": 5
}
