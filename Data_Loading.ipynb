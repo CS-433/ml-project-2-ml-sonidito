{
 "cells": [
  {
   "cell_type": "code",
   "execution_count": null,
   "id": "3a767d70",
   "metadata": {},
   "outputs": [],
   "source": [
    "import os\n",
    "import pandas as pd\n",
    "import numpy as np\n",
    "import glob\n",
    "import torch\n",
    "from torch.utils.data import Dataset, DataLoader, SubsetRandomSampler\n",
    "from torchvision import transforms, utils, transforms\n",
    "import matplotlib.pyplot as plt"
   ]
  },
  {
   "cell_type": "code",
   "execution_count": null,
   "id": "7d716ba2",
   "metadata": {},
   "outputs": [],
   "source": [
    "plt.rcdefaults()"
   ]
  },
  {
   "cell_type": "markdown",
   "id": "e34691a8",
   "metadata": {},
   "source": [
    "# Use Odd spectrograms"
   ]
  },
  {
   "cell_type": "code",
   "execution_count": 6,
   "id": "d35c3bb2",
   "metadata": {},
   "outputs": [
    {
     "name": "stdout",
     "output_type": "stream",
     "text": [
      "3908\n",
      "3908\n",
      "3908\n",
      "3908\n",
      "Batch 1 - Number of Windows: 7\n",
      "unique_id\n",
      "window_odd\n",
      "frequency\n",
      "time\n",
      "start_idx\n",
      "end_idx\n",
      "shotno\n"
     ]
    }
   ],
   "source": [
    "from torch.utils.data import Dataset, DataLoader\n",
    "import os\n",
    "import glob\n",
    "import torch\n",
    "import pandas as pd\n",
    "import itertools\n",
    "\n",
    "class SpectrogramDataset(Dataset):\n",
    "    def __init__(self, data_path, file_ext, window_size, transform=None, time_step=5.12e-4):\n",
    "        \"\"\"\n",
    "        spectrograms: List of spectrogram tensors\n",
    "        instabilities: List of tuples (start_time, end_time) for each spectrogram\n",
    "        window_size: Number of time steps in each slice <-> Time in each window = window_size * time_step\n",
    "        overlap: Fraction of overlap between consecutive slices (0 to 1)\n",
    "        time_step: Duration of each time step in ms\n",
    "        data_path: Location of the data\n",
    "        file_ext: File type of the data\n",
    "        \"\"\"\n",
    "        self.data_path = data_path\n",
    "        self.file_ext = file_ext\n",
    "        self.window_size = window_size\n",
    "        self.transform = transform\n",
    "        self.time_step = time_step\n",
    "\n",
    "        # Obtain all shot numbers\n",
    "        self.data_files = [int(os.path.basename(x.split(f\".{file_ext}\")[0]))\n",
    "                           for x in glob.glob(os.path.join(data_path, f\"*.{file_ext}\"))]\n",
    "\n",
    "        # Precompute and store all windows with unique IDs using a dictionnary\n",
    "        self.windows = self.compute_all_windows()\n",
    "\n",
    "    def __len__(self):\n",
    "        # Return the total number of windows (the total size of our dataset)\n",
    "        print(len(self.windows))\n",
    "        return len(self.windows)\n",
    "\n",
    "    def __getitem__(self, idx):\n",
    "        # Return a single window based on the provided idx (unique identifier)\n",
    "        #found_dict = None # We need to find a dictionnary in the list depending on the value of the unique_id key\n",
    "        #for my_dict in self.windows:\n",
    "        #    if my_dict.get('unique_id') == idx:\n",
    "        #        found_dict = my_dict\n",
    "        #        break\n",
    "        #return self.windows[idx]\n",
    "        # Return a list of windows based on the provided idx (unique identifier)\n",
    "        found_dict = next((my_dict for my_dict in self.windows if my_dict.get('unique_id') == idx), None)\n",
    "        return found_dict\n",
    "\n",
    "    def load_shot(self, shotno):\n",
    "        file_path = os.path.join(self.data_path, f\"{shotno}.{self.file_ext}\")\n",
    "        return pd.read_pickle(file_path)\n",
    "\n",
    "    def compute_all_windows(self):\n",
    "        windows = []\n",
    "        unique_id = 0\n",
    "\n",
    "        # For each experiment\n",
    "        for shotno in self.data_files:\n",
    "            data_shot = self.load_shot(shotno)\n",
    "\n",
    "            spec_odd = torch.tensor(data_shot[\"x\"][\"spectrogram\"][\"OddN\"], dtype=torch.float32).T\n",
    "            \n",
    "            frequency = data_shot[\"x\"][\"spectrogram\"][\"frequency\"]\n",
    "            time = data_shot[\"x\"][\"spectrogram\"][\"time\"]\n",
    "\n",
    "            num_windows = len(time) // self.window_size\n",
    "            \n",
    "            # Compute non-overlapping sliding windows for OddN\n",
    "            for i in range(0, num_windows * self.window_size, self.window_size):\n",
    "                start_idx = i\n",
    "                end_idx = i + self.window_size\n",
    "\n",
    "                slice_data = spec_odd[:, start_idx:end_idx]\n",
    "\n",
    "                windows.append({\n",
    "                    'unique_id': unique_id,\n",
    "                    'window_odd': slice_data,\n",
    "                    'frequency': frequency,\n",
    "                    'time': time[start_idx:end_idx],\n",
    "                    'start_idx': start_idx,\n",
    "                    'end_idx': end_idx,\n",
    "                    'shotno': shotno\n",
    "                })\n",
    "\n",
    "                unique_id += 1\n",
    "        #print(f\"Total number of windows = {unique_id + 1} and the number of elements in windows is: {len(windows)}\")\n",
    "        return windows\n",
    "\n",
    "# Example usage\n",
    "DATA_PATH = \"data/dataset_pickle\"\n",
    "FILE_EXT = \"pickle\"\n",
    "WINDOW_SIZE = 64 # Number of datapoints\n",
    "\n",
    "dataset = SpectrogramDataset(data_path=DATA_PATH, file_ext=FILE_EXT, window_size=WINDOW_SIZE)\n",
    "dataloader = DataLoader(dataset, batch_size=32, shuffle=True)\n",
    "\n",
    "# Iterate through the DataLoader\n",
    "#for idx, batch in enumerate(dataloader):\n",
    "#    # Your training/inference code here\n",
    "#    print(f\"Batch {idx + 1} - Number of Windows: {len(batch)}\") # it prints the number of elements in the dictionnary\n",
    "#    print(batch)\n",
    "#    break\n",
    "for idx, batch in enumerate(dataloader):\n",
    "    print(f\"Batch {idx + 1} - Number of Windows: {len(batch)}\")\n",
    "    for window_dict in batch:\n",
    "        print(window_dict)\n",
    "    break"
   ]
  },
  {
   "cell_type": "code",
   "execution_count": null,
   "id": "31c2b61c",
   "metadata": {},
   "outputs": [],
   "source": []
  },
  {
   "cell_type": "code",
   "execution_count": null,
   "id": "caf4451b",
   "metadata": {},
   "outputs": [],
   "source": []
  },
  {
   "cell_type": "code",
   "execution_count": null,
   "id": "405800fa",
   "metadata": {},
   "outputs": [],
   "source": []
  },
  {
   "cell_type": "code",
   "execution_count": null,
   "id": "0160b2c6",
   "metadata": {},
   "outputs": [],
   "source": []
  },
  {
   "cell_type": "code",
   "execution_count": null,
   "id": "20db8234",
   "metadata": {},
   "outputs": [],
   "source": []
  },
  {
   "cell_type": "code",
   "execution_count": null,
   "id": "af324adf",
   "metadata": {},
   "outputs": [],
   "source": []
  },
  {
   "cell_type": "code",
   "execution_count": null,
   "id": "9e441782",
   "metadata": {},
   "outputs": [],
   "source": []
  },
  {
   "cell_type": "code",
   "execution_count": null,
   "id": "10d3c1eb",
   "metadata": {},
   "outputs": [],
   "source": []
  },
  {
   "cell_type": "code",
   "execution_count": null,
   "id": "31c10e47",
   "metadata": {},
   "outputs": [],
   "source": []
  },
  {
   "cell_type": "code",
   "execution_count": null,
   "id": "4eaa3a36",
   "metadata": {},
   "outputs": [],
   "source": [
    "class SpectrogramDataset(Dataset):\n",
    "    def __init__(self, spectrograms, instabilities, window_length=20, overlap=0.5, time_step=5.12e-4):\n",
    "        \"\"\"\n",
    "        spectrograms: List of spectrogram tensors\n",
    "        instabilities: List of tuples (start_time, end_time) for each spectrogram\n",
    "        slice_length: Number of time steps in each slice\n",
    "        overlap: Fraction of overlap between consecutive slices (0 to 1)\n",
    "        time_step: Duration of each time step in ms\n",
    "        \"\"\"\n",
    "        self.spectrograms = spectrograms\n",
    "        self.instabilities = instabilities\n",
    "        self.window_length = slice_length\n",
    "        self.step = int(slice_length * (1 - overlap))  # Step size for moving the window\n",
    "        self.time_step = time_step\n",
    "\n",
    "        # calculate total number of slices across all spectrograms\n",
    "        self.total_slices = []\n",
    "        for s in self.spectrograms:\n",
    "            num_slices = 1 + (s.shape[1] - slice_length) // self.step\n",
    "            self.total_slices.append(num_slices)\n",
    "\n",
    "    def __len__(self):\n",
    "        return sum(self.total_slices)\n",
    "\n",
    "    def __getitem__(self, idx):\n",
    "        spectrogram_idx = 0\n",
    "        # iterate through the spectrograms find which spectrogram idx belongs to\n",
    "        while idx >= self.total_slices[spectrogram_idx]:\n",
    "            idx -= self.total_slices[spectrogram_idx]\n",
    "            spectrogram_idx += 1\n",
    "        # resulting idx is now the index of the slice in spectrogram spectrogram_idx\n",
    "\n",
    "        # compute the starting position of the slice\n",
    "        start = idx * self.sstep\n",
    "        end = start + self.slice_length\n",
    "\n",
    "        # compute the time range of the slice\n",
    "        start_time = start * self.time_step\n",
    "        end_time = start_time + self.slice_length * self.time_step\n",
    "\n",
    "        # slice the spectrogram\n",
    "        slice = self.spectrograms[spectrogram_idx][:, start:end]\n",
    "\n",
    "        # determine the label based on instabilities\n",
    "        label = 0\n",
    "        for instability_start, instability_end in self.instabilities[spectrogram_idx]:\n",
    "            if start_time < instability_end and end_time > instability_start:\n",
    "                label = 1\n",
    "                break\n",
    "\n",
    "        return slice, label\n",
    "\n",
    "# spectrograms is a list of 2D PyTorch tensors\n",
    "# instabilities is a list of lists of tuples [(start_time, end_time), ...]\n",
    "dataset = SpectrogramDataset(spectrograms, instabilities, overlap=0.5)\n",
    "dataloader = DataLoader(dataset, batch_size=1, shuffle=True)\n"
   ]
  },
  {
   "cell_type": "markdown",
   "id": "b2b2e466",
   "metadata": {},
   "source": [
    "## Number of windows per batch"
   ]
  },
  {
   "cell_type": "code",
   "execution_count": null,
   "id": "c87bc925",
   "metadata": {},
   "outputs": [],
   "source": [
    "# dataset = Way of representing the dataset so it can be loaded with the dataloader\n",
    "\n",
    "# dataloader = Used to load batches of data from our dataset"
   ]
  },
  {
   "cell_type": "code",
   "execution_count": null,
   "id": "47574dcf",
   "metadata": {},
   "outputs": [],
   "source": [
    "first_data = dataset[93][54] # First item of the first batch of 32 windows (which all correspond to a SINGLE shotno)\n",
    "# First number is the shotno, the second one is which window we are accessing for that shotno.\n",
    "\n",
    "for key, item in first_data.items():\n",
    "    if isinstance(item, (list, np.ndarray, torch.Tensor)):\n",
    "        if isinstance(item, (np.ndarray, torch.Tensor)):\n",
    "            print(key, item.shape)\n",
    "        else:\n",
    "            print(key, len(item))\n",
    "    elif isinstance(item, int):\n",
    "        print(key, item)"
   ]
  },
  {
   "cell_type": "code",
   "execution_count": null,
   "id": "860c472d",
   "metadata": {},
   "outputs": [],
   "source": [
    "idx_shotno = np.random.randint(1,94) # Choose a random experiment\n",
    "idx_windowno = np.random.randint(1,batch_size)\n",
    "# Plot a random window (even frequencies) from a random shotno\n",
    "random_sample = dataset[idx_shotno][idx_windowno]\n",
    "print(f\"Experiment number: {random_sample['shotno']}, and window number: {idx_windowno}\")\n",
    "\n",
    "plot_spectrogram(random_sample[\"window_odd\"], title = \"Random window (even frequencies) from a random shotno\",\\\n",
    "                time = random_sample[\"time\"], frequency = random_sample[\"frequency\"])"
   ]
  },
  {
   "cell_type": "markdown",
   "id": "b42957e5",
   "metadata": {},
   "source": [
    "### Let's verify that this is correct using the real data"
   ]
  },
  {
   "cell_type": "code",
   "execution_count": null,
   "id": "2a13a27a",
   "metadata": {},
   "outputs": [],
   "source": [
    "data_shot = load_shot(random_sample['shotno'], DATA_PATH, FILE_EXT)\n",
    "\n",
    "# Extracting inputs\n",
    "inputs = data_shot[\"x\"][\"spectrogram\"]\n",
    "spec_even = inputs[\"EvenN\"]\n",
    "spec_odd = inputs[\"OddN\"]\n",
    "f = inputs[\"frequency\"]\n",
    "t = inputs[\"time\"]"
   ]
  },
  {
   "cell_type": "code",
   "execution_count": null,
   "id": "9d5b34eb",
   "metadata": {},
   "outputs": [],
   "source": [
    "plot_spectrogram(spec_even, \"Even N\", t, f)"
   ]
  },
  {
   "cell_type": "code",
   "execution_count": null,
   "id": "a3bb08e7",
   "metadata": {},
   "outputs": [],
   "source": []
  }
 ],
 "metadata": {
  "kernelspec": {
   "display_name": "Python 3 (ipykernel)",
   "language": "python",
   "name": "python3"
  },
  "language_info": {
   "codemirror_mode": {
    "name": "ipython",
    "version": 3
   },
   "file_extension": ".py",
   "mimetype": "text/x-python",
   "name": "python",
   "nbconvert_exporter": "python",
   "pygments_lexer": "ipython3",
   "version": "3.9.18"
  }
 },
 "nbformat": 4,
 "nbformat_minor": 5
}
