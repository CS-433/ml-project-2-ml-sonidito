{
 "cells": [
  {
   "cell_type": "code",
   "execution_count": null,
   "id": "3a767d70",
   "metadata": {},
   "outputs": [],
   "source": [
    "import os\n",
    "import pandas as pd\n",
    "import numpy as np\n",
    "import glob\n",
    "import torch\n",
    "from torch.utils.data import Dataset, DataLoader\n",
    "from torchvision import transforms, utils, transforms\n",
    "import matplotlib.pyplot as plt"
   ]
  },
  {
   "cell_type": "code",
   "execution_count": null,
   "id": "7d716ba2",
   "metadata": {},
   "outputs": [],
   "source": [
    "plt.rcdefaults()"
   ]
  },
  {
   "cell_type": "code",
   "execution_count": null,
   "id": "c7922b32",
   "metadata": {},
   "outputs": [],
   "source": [
    "# Plotting function\n",
    "\n",
    "def plot_spectrogram(spec, title, time, frequency, start_longest_mode=None, end_longest_mode=None):\n",
    "    fig, ax = plt.subplots()\n",
    "    ax.imshow(spec.T, extent=(time[0], time[-1], frequency[0], frequency[-1]), aspect='auto', cmap='jet',\n",
    "              origin='lower')\n",
    "    ax.set_xlim(time[0], time[-1])\n",
    "    ax.set_ylim(frequency[0], frequency[-1])\n",
    "    ax.set_xlabel(\"Time [s]\")\n",
    "    ax.set_ylabel(\"Frequency [Hz]\")\n",
    "    fig.set_dpi(150)\n",
    "    plt.title(title)\n",
    "\n",
    "    # Plot vertical lines if start and end times are provided\n",
    "    if start_longest_mode is not None and end_longest_mode is not None:\n",
    "        ax.axvline(x=start_longest_mode, color='blue', linestyle='--', label='Start of Longest Mode')\n",
    "        ax.axvline(x=end_longest_mode, color='darkblue', linestyle='--', label='End of Longest Mode')\n",
    "        plt.legend(loc='upper left')\n",
    "\n",
    "    plt.show()"
   ]
  },
  {
   "cell_type": "code",
   "execution_count": null,
   "id": "2bbf19a2",
   "metadata": {},
   "outputs": [],
   "source": [
    "DATA_PATH = \"data/dataset_pickle\"\n",
    "FILE_EXT = \"pickle\"\n",
    "\n",
    "def load_shot(shotno, data_path, file_ext):\n",
    "    file_path = os.path.join(data_path, f\"{shotno}.{file_ext}\")\n",
    "    return pd.read_pickle(file_path)\n",
    "\n",
    "class SpectrogramDataset(Dataset):\n",
    "    def __init__(self, data_path, file_ext, window_size, transform=None):\n",
    "        # data loading\n",
    "        self.data_path = data_path\n",
    "        self.file_ext = file_ext\n",
    "        self.window_size = window_size\n",
    "        self.transform = transform\n",
    "\n",
    "        # Obtain all shot numbers\n",
    "        self.all_shots = [int(os.path.basename(x.split(f\".{file_ext}\")[0]))\n",
    "                          for x in glob.glob(os.path.join(data_path, f\"*.{file_ext}\"))]\n",
    "\n",
    "    def __len__(self):\n",
    "        return len(self.all_shots)\n",
    "\n",
    "    def __getitem__(self, idx):\n",
    "        shotno = self.all_shots[idx]\n",
    "\n",
    "        # Load data for the experiment\n",
    "        data_shot = load_shot(shotno, self.data_path, self.file_ext)\n",
    "\n",
    "        # Extract inputs\n",
    "        inputs = data_shot[\"x\"][\"spectrogram\"]\n",
    "        spec_even = inputs[\"EvenN\"]\n",
    "        spec_odd = inputs[\"OddN\"]\n",
    "        f = inputs[\"frequency\"]\n",
    "        t = inputs[\"time\"]\n",
    "\n",
    "        # Calculate the number of windows based on window size\n",
    "        num_windows = spec_even.shape[1] // self.window_size\n",
    "\n",
    "        # Extract windows along with their start and end indices\n",
    "        windows = []\n",
    "        for i in range(num_windows):\n",
    "            start_idx = i * self.window_size\n",
    "            end_idx = start_idx + self.window_size\n",
    "\n",
    "            window_even = spec_even[:, start_idx:end_idx]\n",
    "            window_odd = spec_odd[:, start_idx:end_idx]\n",
    "\n",
    "            if self.transform:\n",
    "                window_even = self.transform(window_even)\n",
    "                window_odd = self.transform(window_odd)\n",
    "\n",
    "            windows.append({\n",
    "                'window_even': window_even,\n",
    "                'window_odd': window_odd,\n",
    "                'frequency': f,\n",
    "                'time': t[start_idx:end_idx],\n",
    "                'start_idx': start_idx,\n",
    "                'end_idx': end_idx,\n",
    "                'shotno': shotno\n",
    "            })\n",
    "\n",
    "        return windows\n",
    "\n",
    "# Example usage:\n",
    "# Define hyperparameters\n",
    "DATA_PATH = \"data/dataset_pickle\"\n",
    "FILE_EXT = \"pickle\"\n",
    "window_size = 64  # Length of the window\n",
    "batch_size = 32  # Number of windows\n",
    "\n",
    "# Create dataset and dataloader\n",
    "#transform = transforms.Compose([\n",
    "    # Add any additional transformations you need\n",
    "#])\n",
    "\n",
    "dataset = SpectrogramDataset(DATA_PATH, FILE_EXT, window_size, transform=None)\n",
    "dataloader = DataLoader(dataset = dataset, batch_size=batch_size, shuffle=True, num_workers=0)"
   ]
  },
  {
   "cell_type": "code",
   "execution_count": null,
   "id": "47574dcf",
   "metadata": {},
   "outputs": [],
   "source": [
    "first_data = dataset[93][31] # First item of the first batch of 32 windows (which all correspond to a SINGLE shotno)\n",
    "# First number is the shotno, the second one is which window we are accessing for that shotno.\n",
    "\n",
    "for key, item in first_data.items():\n",
    "    if isinstance(item, (list, np.ndarray, torch.Tensor)):\n",
    "        if isinstance(item, (np.ndarray, torch.Tensor)):\n",
    "            print(key, item.shape)\n",
    "        else:\n",
    "            print(key, len(item))\n",
    "    elif isinstance(item, int):\n",
    "        print(key, item)"
   ]
  },
  {
   "cell_type": "code",
   "execution_count": null,
   "id": "860c472d",
   "metadata": {},
   "outputs": [],
   "source": [
    "idx_shotno = np.random.randint(1,94) # Choose a random experiment\n",
    "idx_windowno = np.random.randint(1,batch_size)\n",
    "# Plot a random window (even frequencies) from a random shotno\n",
    "random_sample = dataset[idx_shotno][idx_windowno]\n",
    "print(f\"Experiment number: {random_sample['shotno']}, and window number: {idx_windowno}\")\n",
    "\n",
    "plot_spectrogram(random_sample[\"window_even\"], title = \"Random window (even frequencies) from a random shotno\",\\\n",
    "                time = random_sample[\"time\"], frequency = random_sample[\"frequency\"])"
   ]
  },
  {
   "cell_type": "markdown",
   "id": "b42957e5",
   "metadata": {},
   "source": [
    "### Let's verify that this is correct using the real data"
   ]
  },
  {
   "cell_type": "code",
   "execution_count": null,
   "id": "2a13a27a",
   "metadata": {},
   "outputs": [],
   "source": [
    "data_shot = load_shot(random_sample['shotno'], DATA_PATH, FILE_EXT)\n",
    "\n",
    "# Extracting inputs\n",
    "inputs = data_shot[\"x\"][\"spectrogram\"]\n",
    "spec_even = inputs[\"EvenN\"]\n",
    "spec_odd = inputs[\"OddN\"]\n",
    "f = inputs[\"frequency\"]\n",
    "t = inputs[\"time\"]"
   ]
  },
  {
   "cell_type": "code",
   "execution_count": null,
   "id": "9d5b34eb",
   "metadata": {},
   "outputs": [],
   "source": [
    "plot_spectrogram(spec_even, \"Even N\", t, f)"
   ]
  },
  {
   "cell_type": "code",
   "execution_count": null,
   "id": "a3bb08e7",
   "metadata": {},
   "outputs": [],
   "source": []
  }
 ],
 "metadata": {
  "kernelspec": {
   "display_name": "Python 3 (ipykernel)",
   "language": "python",
   "name": "python3"
  },
  "language_info": {
   "codemirror_mode": {
    "name": "ipython",
    "version": 3
   },
   "file_extension": ".py",
   "mimetype": "text/x-python",
   "name": "python",
   "nbconvert_exporter": "python",
   "pygments_lexer": "ipython3",
   "version": "3.9.18"
  }
 },
 "nbformat": 4,
 "nbformat_minor": 5
}
