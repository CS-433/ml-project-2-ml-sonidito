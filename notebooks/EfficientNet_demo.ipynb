{
 "cells": [
  {
   "cell_type": "code",
   "execution_count": 1,
   "id": "initial_id",
   "metadata": {
    "collapsed": true,
    "ExecuteTime": {
     "end_time": "2023-12-12T00:53:46.424208Z",
     "start_time": "2023-12-12T00:53:43.671129Z"
    }
   },
   "outputs": [],
   "source": [
    "%load_ext autoreload\n",
    "%autoreload 2\n",
    "\n",
    "import sys\n",
    "sys.path.append('../src/')\n",
    "\n",
    "import torch\n",
    "import torch.nn as nn\n",
    "import torchvision\n",
    "import torchvision.transforms as transforms\n",
    "from torch.utils.data import DataLoader, Dataset\n",
    "import torchvision.models as models\n",
    "\n",
    "from torchsummary import summary"
   ]
  },
  {
   "cell_type": "code",
   "execution_count": 2,
   "outputs": [],
   "source": [
    "device = \"mps\" if torch.backends.mps.is_available() else \"cuda\" if torch.cuda.is_available() else \"cpu\""
   ],
   "metadata": {
    "collapsed": false,
    "ExecuteTime": {
     "end_time": "2023-12-12T00:53:46.457538Z",
     "start_time": "2023-12-12T00:53:46.423883Z"
    }
   },
   "id": "11e6e24060a24582"
  },
  {
   "cell_type": "code",
   "execution_count": 3,
   "outputs": [],
   "source": [
    "transform = transforms.Compose([\n",
    "    transforms.Resize((224, 224)),\n",
    "    transforms.Grayscale(num_output_channels=3),  # Convert to 3-channel grayscale\n",
    "    transforms.ToTensor(),\n",
    "    transforms.Normalize([0.485, 0.456, 0.406], [0.229, 0.224, 0.225])  # ImageNet normalization\n",
    "])"
   ],
   "metadata": {
    "collapsed": false,
    "ExecuteTime": {
     "end_time": "2023-12-12T00:53:46.472136Z",
     "start_time": "2023-12-12T00:53:46.457943Z"
    }
   },
   "id": "d2d32c023000dc85"
  },
  {
   "cell_type": "code",
   "execution_count": 4,
   "outputs": [],
   "source": [
    "train_dataset = torchvision.datasets.MNIST(root='./data', train=True, download=True, transform=transform)\n",
    "test_dataset = torchvision.datasets.MNIST(root='./data', train=False, download=True, transform=transform)"
   ],
   "metadata": {
    "collapsed": false,
    "ExecuteTime": {
     "end_time": "2023-12-12T00:53:46.505626Z",
     "start_time": "2023-12-12T00:53:46.472807Z"
    }
   },
   "id": "682ab5b04c89eb40"
  },
  {
   "cell_type": "code",
   "execution_count": 5,
   "outputs": [],
   "source": [
    "class CustomMNISTDataset(Dataset):\n",
    "    def __init__(self, mnist_dataset):\n",
    "        self.mnist_dataset = mnist_dataset\n",
    "\n",
    "    def __len__(self):\n",
    "        return len(self.mnist_dataset)\n",
    "\n",
    "    def __getitem__(self, idx):\n",
    "        image, label = self.mnist_dataset[idx]\n",
    "        # convert labels <5 -> True, else -> False\n",
    "        label = 1 if label < 5 else 0\n",
    "        return image, label"
   ],
   "metadata": {
    "collapsed": false,
    "ExecuteTime": {
     "end_time": "2023-12-12T00:53:46.520830Z",
     "start_time": "2023-12-12T00:53:46.506996Z"
    }
   },
   "id": "14d4f9614ba0f962"
  },
  {
   "cell_type": "code",
   "execution_count": 6,
   "outputs": [],
   "source": [
    "from torch.utils.data import Subset\n",
    "import numpy as np\n",
    "# Define the size of the smaller dataset\n",
    "subset_size = 1000\n",
    "\n",
    "# Generate random indices for the subset\n",
    "train_indices = np.random.choice(len(train_dataset), subset_size, replace=False)\n",
    "test_indices = np.random.choice(len(test_dataset), subset_size, replace=False)\n",
    "\n",
    "# Create the smaller datasets using the Subset utility\n",
    "train_dataset = Subset(train_dataset, train_indices)\n",
    "test_dataset = Subset(test_dataset, test_indices)\n",
    "\n",
    "\n",
    "train_custom_dataset = CustomMNISTDataset(train_dataset)\n",
    "test_custom_dataset = CustomMNISTDataset(test_dataset)"
   ],
   "metadata": {
    "collapsed": false,
    "ExecuteTime": {
     "end_time": "2023-12-12T00:53:47.292482Z",
     "start_time": "2023-12-12T00:53:46.628775Z"
    }
   },
   "id": "d72baf964355da7e"
  },
  {
   "cell_type": "code",
   "execution_count": 16,
   "outputs": [
    {
     "name": "stdout",
     "output_type": "stream",
     "text": [
      "----------------------------------------------------------------\n",
      "        Layer (type)               Output Shape         Param #\n",
      "================================================================\n",
      "            Conv2d-1         [-1, 32, 112, 112]             864\n",
      "          Identity-2         [-1, 32, 112, 112]               0\n",
      "              SiLU-3         [-1, 32, 112, 112]               0\n",
      "    BatchNormAct2d-4         [-1, 32, 112, 112]              64\n",
      "            Conv2d-5         [-1, 32, 112, 112]             288\n",
      "          Identity-6         [-1, 32, 112, 112]               0\n",
      "              SiLU-7         [-1, 32, 112, 112]               0\n",
      "    BatchNormAct2d-8         [-1, 32, 112, 112]              64\n",
      "            Conv2d-9              [-1, 8, 1, 1]             264\n",
      "             SiLU-10              [-1, 8, 1, 1]               0\n",
      "           Conv2d-11             [-1, 32, 1, 1]             288\n",
      "          Sigmoid-12             [-1, 32, 1, 1]               0\n",
      "    SqueezeExcite-13         [-1, 32, 112, 112]               0\n",
      "           Conv2d-14         [-1, 16, 112, 112]             512\n",
      "         Identity-15         [-1, 16, 112, 112]               0\n",
      "         Identity-16         [-1, 16, 112, 112]               0\n",
      "   BatchNormAct2d-17         [-1, 16, 112, 112]              32\n",
      "DepthwiseSeparableConv-18         [-1, 16, 112, 112]               0\n",
      "           Conv2d-19         [-1, 96, 112, 112]           1,536\n",
      "         Identity-20         [-1, 96, 112, 112]               0\n",
      "             SiLU-21         [-1, 96, 112, 112]               0\n",
      "   BatchNormAct2d-22         [-1, 96, 112, 112]             192\n",
      "           Conv2d-23           [-1, 96, 56, 56]             864\n",
      "         Identity-24           [-1, 96, 56, 56]               0\n",
      "             SiLU-25           [-1, 96, 56, 56]               0\n",
      "   BatchNormAct2d-26           [-1, 96, 56, 56]             192\n",
      "           Conv2d-27              [-1, 4, 1, 1]             388\n",
      "             SiLU-28              [-1, 4, 1, 1]               0\n",
      "           Conv2d-29             [-1, 96, 1, 1]             480\n",
      "          Sigmoid-30             [-1, 96, 1, 1]               0\n",
      "    SqueezeExcite-31           [-1, 96, 56, 56]               0\n",
      "           Conv2d-32           [-1, 24, 56, 56]           2,304\n",
      "         Identity-33           [-1, 24, 56, 56]               0\n",
      "         Identity-34           [-1, 24, 56, 56]               0\n",
      "   BatchNormAct2d-35           [-1, 24, 56, 56]              48\n",
      " InvertedResidual-36           [-1, 24, 56, 56]               0\n",
      "           Conv2d-37          [-1, 144, 56, 56]           3,456\n",
      "         Identity-38          [-1, 144, 56, 56]               0\n",
      "             SiLU-39          [-1, 144, 56, 56]               0\n",
      "   BatchNormAct2d-40          [-1, 144, 56, 56]             288\n",
      "           Conv2d-41          [-1, 144, 56, 56]           1,296\n",
      "         Identity-42          [-1, 144, 56, 56]               0\n",
      "             SiLU-43          [-1, 144, 56, 56]               0\n",
      "   BatchNormAct2d-44          [-1, 144, 56, 56]             288\n",
      "           Conv2d-45              [-1, 6, 1, 1]             870\n",
      "             SiLU-46              [-1, 6, 1, 1]               0\n",
      "           Conv2d-47            [-1, 144, 1, 1]           1,008\n",
      "          Sigmoid-48            [-1, 144, 1, 1]               0\n",
      "    SqueezeExcite-49          [-1, 144, 56, 56]               0\n",
      "           Conv2d-50           [-1, 24, 56, 56]           3,456\n",
      "         Identity-51           [-1, 24, 56, 56]               0\n",
      "         Identity-52           [-1, 24, 56, 56]               0\n",
      "   BatchNormAct2d-53           [-1, 24, 56, 56]              48\n",
      "         Identity-54           [-1, 24, 56, 56]               0\n",
      " InvertedResidual-55           [-1, 24, 56, 56]               0\n",
      "           Conv2d-56          [-1, 144, 56, 56]           3,456\n",
      "         Identity-57          [-1, 144, 56, 56]               0\n",
      "             SiLU-58          [-1, 144, 56, 56]               0\n",
      "   BatchNormAct2d-59          [-1, 144, 56, 56]             288\n",
      "           Conv2d-60          [-1, 144, 28, 28]           3,600\n",
      "         Identity-61          [-1, 144, 28, 28]               0\n",
      "             SiLU-62          [-1, 144, 28, 28]               0\n",
      "   BatchNormAct2d-63          [-1, 144, 28, 28]             288\n",
      "           Conv2d-64              [-1, 6, 1, 1]             870\n",
      "             SiLU-65              [-1, 6, 1, 1]               0\n",
      "           Conv2d-66            [-1, 144, 1, 1]           1,008\n",
      "          Sigmoid-67            [-1, 144, 1, 1]               0\n",
      "    SqueezeExcite-68          [-1, 144, 28, 28]               0\n",
      "           Conv2d-69           [-1, 40, 28, 28]           5,760\n",
      "         Identity-70           [-1, 40, 28, 28]               0\n",
      "         Identity-71           [-1, 40, 28, 28]               0\n",
      "   BatchNormAct2d-72           [-1, 40, 28, 28]              80\n",
      " InvertedResidual-73           [-1, 40, 28, 28]               0\n",
      "           Conv2d-74          [-1, 240, 28, 28]           9,600\n",
      "         Identity-75          [-1, 240, 28, 28]               0\n",
      "             SiLU-76          [-1, 240, 28, 28]               0\n",
      "   BatchNormAct2d-77          [-1, 240, 28, 28]             480\n",
      "           Conv2d-78          [-1, 240, 28, 28]           6,000\n",
      "         Identity-79          [-1, 240, 28, 28]               0\n",
      "             SiLU-80          [-1, 240, 28, 28]               0\n",
      "   BatchNormAct2d-81          [-1, 240, 28, 28]             480\n",
      "           Conv2d-82             [-1, 10, 1, 1]           2,410\n",
      "             SiLU-83             [-1, 10, 1, 1]               0\n",
      "           Conv2d-84            [-1, 240, 1, 1]           2,640\n",
      "          Sigmoid-85            [-1, 240, 1, 1]               0\n",
      "    SqueezeExcite-86          [-1, 240, 28, 28]               0\n",
      "           Conv2d-87           [-1, 40, 28, 28]           9,600\n",
      "         Identity-88           [-1, 40, 28, 28]               0\n",
      "         Identity-89           [-1, 40, 28, 28]               0\n",
      "   BatchNormAct2d-90           [-1, 40, 28, 28]              80\n",
      "         Identity-91           [-1, 40, 28, 28]               0\n",
      " InvertedResidual-92           [-1, 40, 28, 28]               0\n",
      "           Conv2d-93          [-1, 240, 28, 28]           9,600\n",
      "         Identity-94          [-1, 240, 28, 28]               0\n",
      "             SiLU-95          [-1, 240, 28, 28]               0\n",
      "   BatchNormAct2d-96          [-1, 240, 28, 28]             480\n",
      "           Conv2d-97          [-1, 240, 14, 14]           2,160\n",
      "         Identity-98          [-1, 240, 14, 14]               0\n",
      "             SiLU-99          [-1, 240, 14, 14]               0\n",
      "  BatchNormAct2d-100          [-1, 240, 14, 14]             480\n",
      "          Conv2d-101             [-1, 10, 1, 1]           2,410\n",
      "            SiLU-102             [-1, 10, 1, 1]               0\n",
      "          Conv2d-103            [-1, 240, 1, 1]           2,640\n",
      "         Sigmoid-104            [-1, 240, 1, 1]               0\n",
      "   SqueezeExcite-105          [-1, 240, 14, 14]               0\n",
      "          Conv2d-106           [-1, 80, 14, 14]          19,200\n",
      "        Identity-107           [-1, 80, 14, 14]               0\n",
      "        Identity-108           [-1, 80, 14, 14]               0\n",
      "  BatchNormAct2d-109           [-1, 80, 14, 14]             160\n",
      "InvertedResidual-110           [-1, 80, 14, 14]               0\n",
      "          Conv2d-111          [-1, 480, 14, 14]          38,400\n",
      "        Identity-112          [-1, 480, 14, 14]               0\n",
      "            SiLU-113          [-1, 480, 14, 14]               0\n",
      "  BatchNormAct2d-114          [-1, 480, 14, 14]             960\n",
      "          Conv2d-115          [-1, 480, 14, 14]           4,320\n",
      "        Identity-116          [-1, 480, 14, 14]               0\n",
      "            SiLU-117          [-1, 480, 14, 14]               0\n",
      "  BatchNormAct2d-118          [-1, 480, 14, 14]             960\n",
      "          Conv2d-119             [-1, 20, 1, 1]           9,620\n",
      "            SiLU-120             [-1, 20, 1, 1]               0\n",
      "          Conv2d-121            [-1, 480, 1, 1]          10,080\n",
      "         Sigmoid-122            [-1, 480, 1, 1]               0\n",
      "   SqueezeExcite-123          [-1, 480, 14, 14]               0\n",
      "          Conv2d-124           [-1, 80, 14, 14]          38,400\n",
      "        Identity-125           [-1, 80, 14, 14]               0\n",
      "        Identity-126           [-1, 80, 14, 14]               0\n",
      "  BatchNormAct2d-127           [-1, 80, 14, 14]             160\n",
      "        Identity-128           [-1, 80, 14, 14]               0\n",
      "InvertedResidual-129           [-1, 80, 14, 14]               0\n",
      "          Conv2d-130          [-1, 480, 14, 14]          38,400\n",
      "        Identity-131          [-1, 480, 14, 14]               0\n",
      "            SiLU-132          [-1, 480, 14, 14]               0\n",
      "  BatchNormAct2d-133          [-1, 480, 14, 14]             960\n",
      "          Conv2d-134          [-1, 480, 14, 14]           4,320\n",
      "        Identity-135          [-1, 480, 14, 14]               0\n",
      "            SiLU-136          [-1, 480, 14, 14]               0\n",
      "  BatchNormAct2d-137          [-1, 480, 14, 14]             960\n",
      "          Conv2d-138             [-1, 20, 1, 1]           9,620\n",
      "            SiLU-139             [-1, 20, 1, 1]               0\n",
      "          Conv2d-140            [-1, 480, 1, 1]          10,080\n",
      "         Sigmoid-141            [-1, 480, 1, 1]               0\n",
      "   SqueezeExcite-142          [-1, 480, 14, 14]               0\n",
      "          Conv2d-143           [-1, 80, 14, 14]          38,400\n",
      "        Identity-144           [-1, 80, 14, 14]               0\n",
      "        Identity-145           [-1, 80, 14, 14]               0\n",
      "  BatchNormAct2d-146           [-1, 80, 14, 14]             160\n",
      "        Identity-147           [-1, 80, 14, 14]               0\n",
      "InvertedResidual-148           [-1, 80, 14, 14]               0\n",
      "          Conv2d-149          [-1, 480, 14, 14]          38,400\n",
      "        Identity-150          [-1, 480, 14, 14]               0\n",
      "            SiLU-151          [-1, 480, 14, 14]               0\n",
      "  BatchNormAct2d-152          [-1, 480, 14, 14]             960\n",
      "          Conv2d-153          [-1, 480, 14, 14]          12,000\n",
      "        Identity-154          [-1, 480, 14, 14]               0\n",
      "            SiLU-155          [-1, 480, 14, 14]               0\n",
      "  BatchNormAct2d-156          [-1, 480, 14, 14]             960\n",
      "          Conv2d-157             [-1, 20, 1, 1]           9,620\n",
      "            SiLU-158             [-1, 20, 1, 1]               0\n",
      "          Conv2d-159            [-1, 480, 1, 1]          10,080\n",
      "         Sigmoid-160            [-1, 480, 1, 1]               0\n",
      "   SqueezeExcite-161          [-1, 480, 14, 14]               0\n",
      "          Conv2d-162          [-1, 112, 14, 14]          53,760\n",
      "        Identity-163          [-1, 112, 14, 14]               0\n",
      "        Identity-164          [-1, 112, 14, 14]               0\n",
      "  BatchNormAct2d-165          [-1, 112, 14, 14]             224\n",
      "InvertedResidual-166          [-1, 112, 14, 14]               0\n",
      "          Conv2d-167          [-1, 672, 14, 14]          75,264\n",
      "        Identity-168          [-1, 672, 14, 14]               0\n",
      "            SiLU-169          [-1, 672, 14, 14]               0\n",
      "  BatchNormAct2d-170          [-1, 672, 14, 14]           1,344\n",
      "          Conv2d-171          [-1, 672, 14, 14]          16,800\n",
      "        Identity-172          [-1, 672, 14, 14]               0\n",
      "            SiLU-173          [-1, 672, 14, 14]               0\n",
      "  BatchNormAct2d-174          [-1, 672, 14, 14]           1,344\n",
      "          Conv2d-175             [-1, 28, 1, 1]          18,844\n",
      "            SiLU-176             [-1, 28, 1, 1]               0\n",
      "          Conv2d-177            [-1, 672, 1, 1]          19,488\n",
      "         Sigmoid-178            [-1, 672, 1, 1]               0\n",
      "   SqueezeExcite-179          [-1, 672, 14, 14]               0\n",
      "          Conv2d-180          [-1, 112, 14, 14]          75,264\n",
      "        Identity-181          [-1, 112, 14, 14]               0\n",
      "        Identity-182          [-1, 112, 14, 14]               0\n",
      "  BatchNormAct2d-183          [-1, 112, 14, 14]             224\n",
      "        Identity-184          [-1, 112, 14, 14]               0\n",
      "InvertedResidual-185          [-1, 112, 14, 14]               0\n",
      "          Conv2d-186          [-1, 672, 14, 14]          75,264\n",
      "        Identity-187          [-1, 672, 14, 14]               0\n",
      "            SiLU-188          [-1, 672, 14, 14]               0\n",
      "  BatchNormAct2d-189          [-1, 672, 14, 14]           1,344\n",
      "          Conv2d-190          [-1, 672, 14, 14]          16,800\n",
      "        Identity-191          [-1, 672, 14, 14]               0\n",
      "            SiLU-192          [-1, 672, 14, 14]               0\n",
      "  BatchNormAct2d-193          [-1, 672, 14, 14]           1,344\n",
      "          Conv2d-194             [-1, 28, 1, 1]          18,844\n",
      "            SiLU-195             [-1, 28, 1, 1]               0\n",
      "          Conv2d-196            [-1, 672, 1, 1]          19,488\n",
      "         Sigmoid-197            [-1, 672, 1, 1]               0\n",
      "   SqueezeExcite-198          [-1, 672, 14, 14]               0\n",
      "          Conv2d-199          [-1, 112, 14, 14]          75,264\n",
      "        Identity-200          [-1, 112, 14, 14]               0\n",
      "        Identity-201          [-1, 112, 14, 14]               0\n",
      "  BatchNormAct2d-202          [-1, 112, 14, 14]             224\n",
      "        Identity-203          [-1, 112, 14, 14]               0\n",
      "InvertedResidual-204          [-1, 112, 14, 14]               0\n",
      "          Conv2d-205          [-1, 672, 14, 14]          75,264\n",
      "        Identity-206          [-1, 672, 14, 14]               0\n",
      "            SiLU-207          [-1, 672, 14, 14]               0\n",
      "  BatchNormAct2d-208          [-1, 672, 14, 14]           1,344\n",
      "          Conv2d-209            [-1, 672, 7, 7]          16,800\n",
      "        Identity-210            [-1, 672, 7, 7]               0\n",
      "            SiLU-211            [-1, 672, 7, 7]               0\n",
      "  BatchNormAct2d-212            [-1, 672, 7, 7]           1,344\n",
      "          Conv2d-213             [-1, 28, 1, 1]          18,844\n",
      "            SiLU-214             [-1, 28, 1, 1]               0\n",
      "          Conv2d-215            [-1, 672, 1, 1]          19,488\n",
      "         Sigmoid-216            [-1, 672, 1, 1]               0\n",
      "   SqueezeExcite-217            [-1, 672, 7, 7]               0\n",
      "          Conv2d-218            [-1, 192, 7, 7]         129,024\n",
      "        Identity-219            [-1, 192, 7, 7]               0\n",
      "        Identity-220            [-1, 192, 7, 7]               0\n",
      "  BatchNormAct2d-221            [-1, 192, 7, 7]             384\n",
      "InvertedResidual-222            [-1, 192, 7, 7]               0\n",
      "          Conv2d-223           [-1, 1152, 7, 7]         221,184\n",
      "        Identity-224           [-1, 1152, 7, 7]               0\n",
      "            SiLU-225           [-1, 1152, 7, 7]               0\n",
      "  BatchNormAct2d-226           [-1, 1152, 7, 7]           2,304\n",
      "          Conv2d-227           [-1, 1152, 7, 7]          28,800\n",
      "        Identity-228           [-1, 1152, 7, 7]               0\n",
      "            SiLU-229           [-1, 1152, 7, 7]               0\n",
      "  BatchNormAct2d-230           [-1, 1152, 7, 7]           2,304\n",
      "          Conv2d-231             [-1, 48, 1, 1]          55,344\n",
      "            SiLU-232             [-1, 48, 1, 1]               0\n",
      "          Conv2d-233           [-1, 1152, 1, 1]          56,448\n",
      "         Sigmoid-234           [-1, 1152, 1, 1]               0\n",
      "   SqueezeExcite-235           [-1, 1152, 7, 7]               0\n",
      "          Conv2d-236            [-1, 192, 7, 7]         221,184\n",
      "        Identity-237            [-1, 192, 7, 7]               0\n",
      "        Identity-238            [-1, 192, 7, 7]               0\n",
      "  BatchNormAct2d-239            [-1, 192, 7, 7]             384\n",
      "        Identity-240            [-1, 192, 7, 7]               0\n",
      "InvertedResidual-241            [-1, 192, 7, 7]               0\n",
      "          Conv2d-242           [-1, 1152, 7, 7]         221,184\n",
      "        Identity-243           [-1, 1152, 7, 7]               0\n",
      "            SiLU-244           [-1, 1152, 7, 7]               0\n",
      "  BatchNormAct2d-245           [-1, 1152, 7, 7]           2,304\n",
      "          Conv2d-246           [-1, 1152, 7, 7]          28,800\n",
      "        Identity-247           [-1, 1152, 7, 7]               0\n",
      "            SiLU-248           [-1, 1152, 7, 7]               0\n",
      "  BatchNormAct2d-249           [-1, 1152, 7, 7]           2,304\n",
      "          Conv2d-250             [-1, 48, 1, 1]          55,344\n",
      "            SiLU-251             [-1, 48, 1, 1]               0\n",
      "          Conv2d-252           [-1, 1152, 1, 1]          56,448\n",
      "         Sigmoid-253           [-1, 1152, 1, 1]               0\n",
      "   SqueezeExcite-254           [-1, 1152, 7, 7]               0\n",
      "          Conv2d-255            [-1, 192, 7, 7]         221,184\n",
      "        Identity-256            [-1, 192, 7, 7]               0\n",
      "        Identity-257            [-1, 192, 7, 7]               0\n",
      "  BatchNormAct2d-258            [-1, 192, 7, 7]             384\n",
      "        Identity-259            [-1, 192, 7, 7]               0\n",
      "InvertedResidual-260            [-1, 192, 7, 7]               0\n",
      "          Conv2d-261           [-1, 1152, 7, 7]         221,184\n",
      "        Identity-262           [-1, 1152, 7, 7]               0\n",
      "            SiLU-263           [-1, 1152, 7, 7]               0\n",
      "  BatchNormAct2d-264           [-1, 1152, 7, 7]           2,304\n",
      "          Conv2d-265           [-1, 1152, 7, 7]          28,800\n",
      "        Identity-266           [-1, 1152, 7, 7]               0\n",
      "            SiLU-267           [-1, 1152, 7, 7]               0\n",
      "  BatchNormAct2d-268           [-1, 1152, 7, 7]           2,304\n",
      "          Conv2d-269             [-1, 48, 1, 1]          55,344\n",
      "            SiLU-270             [-1, 48, 1, 1]               0\n",
      "          Conv2d-271           [-1, 1152, 1, 1]          56,448\n",
      "         Sigmoid-272           [-1, 1152, 1, 1]               0\n",
      "   SqueezeExcite-273           [-1, 1152, 7, 7]               0\n",
      "          Conv2d-274            [-1, 192, 7, 7]         221,184\n",
      "        Identity-275            [-1, 192, 7, 7]               0\n",
      "        Identity-276            [-1, 192, 7, 7]               0\n",
      "  BatchNormAct2d-277            [-1, 192, 7, 7]             384\n",
      "        Identity-278            [-1, 192, 7, 7]               0\n",
      "InvertedResidual-279            [-1, 192, 7, 7]               0\n",
      "          Conv2d-280           [-1, 1152, 7, 7]         221,184\n",
      "        Identity-281           [-1, 1152, 7, 7]               0\n",
      "            SiLU-282           [-1, 1152, 7, 7]               0\n",
      "  BatchNormAct2d-283           [-1, 1152, 7, 7]           2,304\n",
      "          Conv2d-284           [-1, 1152, 7, 7]          10,368\n",
      "        Identity-285           [-1, 1152, 7, 7]               0\n",
      "            SiLU-286           [-1, 1152, 7, 7]               0\n",
      "  BatchNormAct2d-287           [-1, 1152, 7, 7]           2,304\n",
      "          Conv2d-288             [-1, 48, 1, 1]          55,344\n",
      "            SiLU-289             [-1, 48, 1, 1]               0\n",
      "          Conv2d-290           [-1, 1152, 1, 1]          56,448\n",
      "         Sigmoid-291           [-1, 1152, 1, 1]               0\n",
      "   SqueezeExcite-292           [-1, 1152, 7, 7]               0\n",
      "          Conv2d-293            [-1, 320, 7, 7]         368,640\n",
      "        Identity-294            [-1, 320, 7, 7]               0\n",
      "        Identity-295            [-1, 320, 7, 7]               0\n",
      "  BatchNormAct2d-296            [-1, 320, 7, 7]             640\n",
      "InvertedResidual-297            [-1, 320, 7, 7]               0\n",
      "          Conv2d-298           [-1, 1280, 7, 7]         409,600\n",
      "        Identity-299           [-1, 1280, 7, 7]               0\n",
      "            SiLU-300           [-1, 1280, 7, 7]               0\n",
      "  BatchNormAct2d-301           [-1, 1280, 7, 7]           2,560\n",
      "AdaptiveAvgPool2d-302           [-1, 1280, 1, 1]               0\n",
      "         Flatten-303                 [-1, 1280]               0\n",
      "SelectAdaptivePool2d-304                 [-1, 1280]               0\n",
      "          Linear-305                    [-1, 1]           1,281\n",
      "         Sigmoid-306                    [-1, 1]               0\n",
      "================================================================\n",
      "Total params: 4,008,829\n",
      "Trainable params: 4,008,829\n",
      "Non-trainable params: 0\n",
      "----------------------------------------------------------------\n",
      "Input size (MB): 0.57\n",
      "Forward/backward pass size (MB): 229.42\n",
      "Params size (MB): 15.29\n",
      "Estimated Total Size (MB): 245.28\n",
      "----------------------------------------------------------------\n"
     ]
    }
   ],
   "source": [
    "import timm\n",
    "\n",
    "# EfficientNetV2-S -- 20M params\n",
    "model = timm.create_model('tf_efficientnetv2_s', pretrained=True)\n",
    "\n",
    "# EfficientNet-B0 -- 4M params\n",
    "model = timm.create_model('efficientnet_b0', pretrained=True)\n",
    "\n",
    "# replace classifier layer\n",
    "model.classifier = nn.Sequential(\n",
    "    nn.Linear(model.classifier.in_features, 1),  # output one value\n",
    "    nn.Sigmoid()\n",
    ")\n",
    "\n",
    "summary(model, (3, 224, 224))"
   ],
   "metadata": {
    "collapsed": false,
    "ExecuteTime": {
     "end_time": "2023-12-12T01:03:42.914771Z",
     "start_time": "2023-12-12T01:03:41.844331Z"
    }
   },
   "id": "e51fb592a4747c38"
  },
  {
   "cell_type": "code",
   "execution_count": 17,
   "outputs": [
    {
     "name": "stdout",
     "output_type": "stream",
     "text": [
      "Adjusting learning rate of group 0 to 1.0000e-04.\n"
     ]
    }
   ],
   "source": [
    "from torch.optim.lr_scheduler import CosineAnnealingWarmRestarts\n",
    "# define data loaders, loss and optimizer\n",
    "train_loader = DataLoader(train_custom_dataset, batch_size=32, shuffle=True)\n",
    "test_loader = DataLoader(test_custom_dataset, batch_size=32, shuffle=False)\n",
    "\n",
    "criterion = nn.BCELoss()  # Binary Cross Entropy Loss\n",
    "optimizer = torch.optim.Adam(model.parameters(), lr=1e-4)\n",
    "num_epochs=12\n",
    "\n",
    "scheduler = torch.optim.lr_scheduler.CosineAnnealingLR(\n",
    "        optimizer,\n",
    "        T_max=(len(train_loader.dataset) * num_epochs) // train_loader.batch_size,\n",
    "    verbose=True, eta_min=0)\n",
    "scheduler = CosineAnnealingWarmRestarts(optimizer, T_0=(len(train_loader.dataset) * num_epochs) // (train_loader.batch_size * 3), T_mult=1, verbose=False)"
   ],
   "metadata": {
    "collapsed": false,
    "ExecuteTime": {
     "end_time": "2023-12-12T01:03:49.251604Z",
     "start_time": "2023-12-12T01:03:49.233211Z"
    }
   },
   "id": "d51f6325e770a353"
  },
  {
   "cell_type": "code",
   "execution_count": 18,
   "outputs": [],
   "source": [
    "from tqdm.notebook import tqdm\n",
    "import torch\n",
    "import matplotlib.pyplot as plt\n",
    "from sklearn.metrics import precision_score, f1_score\n",
    "\n",
    "def accuracy(predicted_probs, reference):\n",
    "    \"\"\"\n",
    "    Compute the accuracy for binary classification.\n",
    "\n",
    "    @param predicted_logits: float32 tensor of shape (batch size, 1) representing raw model outputs (logits).\n",
    "    @param reference: int64 tensor of shape (batch size,) with the binary class labels (0 or 1).\n",
    "    \"\"\"\n",
    "    # Convert probabilities to binary predictions (0 or 1)\n",
    "    predicted_labels = (predicted_probs > 0.5).float().squeeze()\n",
    "    \n",
    "    # Convert tensors to numpy arrays for compatibility with sklearn metrics\n",
    "    predicted_labels_np = predicted_labels.cpu().numpy()\n",
    "    reference_np = reference.cpu().numpy()\n",
    "\n",
    "    # Calculate precision, recall, and F1 score\n",
    "    precision = precision_score(reference_np, predicted_labels_np, zero_division=0)\n",
    "    f1 = f1_score(reference_np, predicted_labels_np, zero_division=0)\n",
    "\n",
    "    return precision, f1\n",
    "\n",
    "\n",
    "def train(model, train_loader, test_loader, optimizer, scheduler, criterion, device, n_epochs=1):\n",
    "    device = torch.device(device)\n",
    "    model.to(device)\n",
    "    print(f\"training on device '{device}'\")\n",
    "\n",
    "    losses = []\n",
    "    f1s = []\n",
    "\n",
    "    for epoch in range(n_epochs):\n",
    "        model.train()\n",
    "        with tqdm(train_loader, unit='batch') as tepoch:\n",
    "            for x_batch, y_batch in tepoch :\n",
    "                tepoch.set_description(f'Epoch {epoch}')\n",
    "\n",
    "                x_batch = x_batch.to(device)\n",
    "                y_batch = y_batch.to(device)\n",
    "\n",
    "                y_pred = model(x_batch).squeeze()\n",
    "                y_batch = y_batch.float()\n",
    "\n",
    "                loss = criterion(y_pred, y_batch)\n",
    "\n",
    "                optimizer.zero_grad()\n",
    "                loss.backward()\n",
    "                optimizer.step()\n",
    "                scheduler.step()\n",
    "\n",
    "                tepoch.set_postfix(loss=loss.item())\n",
    "               \n",
    "                losses.append(loss.item())\n",
    "                \n",
    "        # evaluate on test set\n",
    "        model.eval()\n",
    "        accuracies_test = []\n",
    "        f1_test = []\n",
    "        for batch_x, batch_y in test_loader:\n",
    "            batch_x, batch_y = batch_x.to(device), batch_y.to(device)\n",
    "            with torch.no_grad():\n",
    "                prediction = model(batch_x)\n",
    "                acc, f1 = accuracy(prediction, batch_y)\n",
    "                accuracies_test.append(acc)\n",
    "                f1_test.append(f1)\n",
    "        f1s.append(np.mean(f1_test))\n",
    "\n",
    "        print(\n",
    "            \"Epoch {} | Test accuracy: {:.5f}, f1: {:.5f}\".format(\n",
    "                epoch, sum(accuracies_test).item() / len(accuracies_test),\n",
    "                sum(f1_test).item() / len(f1_test)\n",
    "            )\n",
    "        )\n",
    "    \n",
    "    plot_losses(losses)\n",
    "    plot_f1(f1s)\n",
    "\n",
    "def plot_losses(losses):\n",
    "    plt.plot(losses, label='train')\n",
    "    plt.title(\"loss\")\n",
    "    plt.ylabel('loss')\n",
    "    plt.xlabel('iterations')\n",
    "    plt.legend()\n",
    "    plt.show()\n",
    "def plot_f1(f1s):\n",
    "    plt.plot(f1s, label='test')\n",
    "    plt.title(\"f1\")\n",
    "    plt.ylabel('f1')\n",
    "    plt.xlabel('iterations')\n",
    "    plt.legend()\n",
    "    plt.show()"
   ],
   "metadata": {
    "collapsed": false,
    "ExecuteTime": {
     "end_time": "2023-12-12T01:03:52.981952Z",
     "start_time": "2023-12-12T01:03:50.472044Z"
    }
   },
   "id": "9117db38bfca932a"
  },
  {
   "cell_type": "code",
   "execution_count": 19,
   "outputs": [
    {
     "name": "stdout",
     "output_type": "stream",
     "text": [
      "training on device 'mps'\n"
     ]
    },
    {
     "data": {
      "text/plain": "  0%|          | 0/32 [00:00<?, ?batch/s]",
      "application/vnd.jupyter.widget-view+json": {
       "version_major": 2,
       "version_minor": 0,
       "model_id": "748dfd1dea694c33a47d8bb960cbdf94"
      }
     },
     "metadata": {},
     "output_type": "display_data"
    },
    {
     "name": "stdout",
     "output_type": "stream",
     "text": [
      "Epoch 0 | Test accuracy: 0.66202, f1: 0.78165\n"
     ]
    },
    {
     "data": {
      "text/plain": "  0%|          | 0/32 [00:00<?, ?batch/s]",
      "application/vnd.jupyter.widget-view+json": {
       "version_major": 2,
       "version_minor": 0,
       "model_id": "91da167efd6642cc9166dda345f49475"
      }
     },
     "metadata": {},
     "output_type": "display_data"
    },
    {
     "name": "stdout",
     "output_type": "stream",
     "text": [
      "Epoch 1 | Test accuracy: 0.89856, f1: 0.93283\n"
     ]
    },
    {
     "data": {
      "text/plain": "  0%|          | 0/32 [00:00<?, ?batch/s]",
      "application/vnd.jupyter.widget-view+json": {
       "version_major": 2,
       "version_minor": 0,
       "model_id": "0c4ab869ab52402ea29fde56a2af8368"
      }
     },
     "metadata": {},
     "output_type": "display_data"
    },
    {
     "name": "stdout",
     "output_type": "stream",
     "text": [
      "Epoch 2 | Test accuracy: 0.94501, f1: 0.95824\n"
     ]
    },
    {
     "data": {
      "text/plain": "  0%|          | 0/32 [00:00<?, ?batch/s]",
      "application/vnd.jupyter.widget-view+json": {
       "version_major": 2,
       "version_minor": 0,
       "model_id": "f1d583c1f1bf4768965624f1920496fb"
      }
     },
     "metadata": {},
     "output_type": "display_data"
    },
    {
     "name": "stdout",
     "output_type": "stream",
     "text": [
      "Epoch 3 | Test accuracy: 0.94288, f1: 0.95488\n"
     ]
    },
    {
     "data": {
      "text/plain": "  0%|          | 0/32 [00:00<?, ?batch/s]",
      "application/vnd.jupyter.widget-view+json": {
       "version_major": 2,
       "version_minor": 0,
       "model_id": "0b63eee9f57a49ffbd69ceced5ed2bea"
      }
     },
     "metadata": {},
     "output_type": "display_data"
    },
    {
     "name": "stdout",
     "output_type": "stream",
     "text": [
      "Epoch 4 | Test accuracy: 0.95817, f1: 0.96858\n"
     ]
    },
    {
     "data": {
      "text/plain": "  0%|          | 0/32 [00:00<?, ?batch/s]",
      "application/vnd.jupyter.widget-view+json": {
       "version_major": 2,
       "version_minor": 0,
       "model_id": "edbfbc177b694a739b600facc9d8c851"
      }
     },
     "metadata": {},
     "output_type": "display_data"
    },
    {
     "name": "stdout",
     "output_type": "stream",
     "text": [
      "Epoch 5 | Test accuracy: 0.96022, f1: 0.96566\n"
     ]
    },
    {
     "data": {
      "text/plain": "  0%|          | 0/32 [00:00<?, ?batch/s]",
      "application/vnd.jupyter.widget-view+json": {
       "version_major": 2,
       "version_minor": 0,
       "model_id": "7e5e41e4544a400693d75d0ecc62555c"
      }
     },
     "metadata": {},
     "output_type": "display_data"
    },
    {
     "name": "stdout",
     "output_type": "stream",
     "text": [
      "Epoch 6 | Test accuracy: 0.94807, f1: 0.96498\n"
     ]
    },
    {
     "data": {
      "text/plain": "  0%|          | 0/32 [00:00<?, ?batch/s]",
      "application/vnd.jupyter.widget-view+json": {
       "version_major": 2,
       "version_minor": 0,
       "model_id": "956dc1b699954d23ae3c4eacc07662ca"
      }
     },
     "metadata": {},
     "output_type": "display_data"
    },
    {
     "name": "stdout",
     "output_type": "stream",
     "text": [
      "Epoch 7 | Test accuracy: 0.94212, f1: 0.96394\n"
     ]
    },
    {
     "data": {
      "text/plain": "  0%|          | 0/32 [00:00<?, ?batch/s]",
      "application/vnd.jupyter.widget-view+json": {
       "version_major": 2,
       "version_minor": 0,
       "model_id": "b5d8bade0c2348aeb0212af1eaa56842"
      }
     },
     "metadata": {},
     "output_type": "display_data"
    },
    {
     "name": "stdout",
     "output_type": "stream",
     "text": [
      "Epoch 8 | Test accuracy: 0.96298, f1: 0.95405\n"
     ]
    },
    {
     "data": {
      "text/plain": "  0%|          | 0/32 [00:00<?, ?batch/s]",
      "application/vnd.jupyter.widget-view+json": {
       "version_major": 2,
       "version_minor": 0,
       "model_id": "93cb2bc71e794e5d8369c0e8797c9a30"
      }
     },
     "metadata": {},
     "output_type": "display_data"
    },
    {
     "name": "stdout",
     "output_type": "stream",
     "text": [
      "Epoch 9 | Test accuracy: 0.96313, f1: 0.96778\n"
     ]
    },
    {
     "data": {
      "text/plain": "  0%|          | 0/32 [00:00<?, ?batch/s]",
      "application/vnd.jupyter.widget-view+json": {
       "version_major": 2,
       "version_minor": 0,
       "model_id": "02c93169d2b9415aa5fe4ddbb8df3326"
      }
     },
     "metadata": {},
     "output_type": "display_data"
    },
    {
     "name": "stdout",
     "output_type": "stream",
     "text": [
      "Epoch 10 | Test accuracy: 0.94635, f1: 0.96441\n"
     ]
    },
    {
     "data": {
      "text/plain": "  0%|          | 0/32 [00:00<?, ?batch/s]",
      "application/vnd.jupyter.widget-view+json": {
       "version_major": 2,
       "version_minor": 0,
       "model_id": "e5e7a0aa69ff4230840f900a4e460d58"
      }
     },
     "metadata": {},
     "output_type": "display_data"
    },
    {
     "name": "stdout",
     "output_type": "stream",
     "text": [
      "Epoch 11 | Test accuracy: 0.95881, f1: 0.96929\n"
     ]
    },
    {
     "data": {
      "text/plain": "<Figure size 640x480 with 1 Axes>",
      "image/png": "[encoded data removed]"
     },
     "metadata": {},
     "output_type": "display_data"
    },
    {
     "data": {
      "text/plain": "<Figure size 640x480 with 1 Axes>",
      "image/png": "[encoded data removed]"
     },
     "metadata": {},
     "output_type": "display_data"
    }
   ],
   "source": [
    "train(model, train_loader, test_loader, optimizer, scheduler, criterion, device, n_epochs=12)"
   ],
   "metadata": {
    "collapsed": false,
    "ExecuteTime": {
     "end_time": "2023-12-12T01:07:17.249566Z",
     "start_time": "2023-12-12T01:03:55.810766Z"
    }
   },
   "id": "2c97bfb743c2f8c7"
  },
  {
   "cell_type": "code",
   "execution_count": 10,
   "outputs": [],
   "source": [],
   "metadata": {
    "collapsed": false,
    "ExecuteTime": {
     "end_time": "2023-12-08T00:55:25.271594200Z",
     "start_time": "2023-12-08T00:55:25.263072400Z"
    }
   },
   "id": "b48892e5bbc4f4a1"
  }
 ],
 "metadata": {
  "kernelspec": {
   "display_name": "Python 3",
   "language": "python",
   "name": "python3"
  },
  "language_info": {
   "codemirror_mode": {
    "name": "ipython",
    "version": 2
   },
   "file_extension": ".py",
   "mimetype": "text/x-python",
   "name": "python",
   "nbconvert_exporter": "python",
   "pygments_lexer": "ipython2",
   "version": "2.7.6"
  }
 },
 "nbformat": 4,
 "nbformat_minor": 5
}
