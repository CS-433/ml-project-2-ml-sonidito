{
 "cells": [
  {
   "cell_type": "code",
   "execution_count": 1,
   "id": "initial_id",
   "metadata": {
    "collapsed": true,
    "ExecuteTime": {
     "end_time": "2023-12-17T16:09:40.145038900Z",
     "start_time": "2023-12-17T16:09:33.943725Z"
    }
   },
   "outputs": [],
   "source": [
    "%load_ext autoreload\n",
    "%autoreload 2\n",
    "\n",
    "import sys\n",
    "\n",
    "sys.path.append('../src/')\n",
    "\n",
    "import torch\n",
    "import torch.nn as nn\n",
    "import torchvision\n",
    "import torchvision.transforms as transforms\n",
    "from torch.utils.data import DataLoader, random_split\n",
    "import torchvision.models as models\n",
    "from dataloading import SpectrogramDataset\n",
    "from torch.utils.data._utils.collate import default_collate\n",
    "\n",
    "from torchsummary import summary\n",
    "import matplotlib.pyplot as plt\n",
    "\n",
    "plt.rcdefaults()"
   ]
  },
  {
   "cell_type": "code",
   "execution_count": 2,
   "outputs": [],
   "source": [
    "device = \"mps\" if torch.backends.mps.is_available() else \"cuda\" if torch.cuda.is_available() else \"cpu\""
   ],
   "metadata": {
    "collapsed": false,
    "ExecuteTime": {
     "end_time": "2023-12-17T16:09:40.266988Z",
     "start_time": "2023-12-17T16:09:40.145038900Z"
    }
   },
   "id": "11e6e24060a24582"
  },
  {
   "cell_type": "code",
   "execution_count": 3,
   "outputs": [],
   "source": [
    "from dataloading import repeat_channels\n",
    "\n",
    "transform = transforms.Compose([\n",
    "    transforms.ToTensor(),\n",
    "    transforms.Resize((224, 224), antialias=False),\n",
    "    transforms.Lambda(repeat_channels),  # repeat grayscale image to 3 channels to match model input size\n",
    "    transforms.Normalize([0.485, 0.456, 0.406], [0.229, 0.224, 0.225])  # ImageNet normalization\n",
    "])\n",
    "transform_eNetV2S = transforms.Compose([\n",
    "    transforms.ToTensor(),\n",
    "    transforms.Resize((384, 384), antialias=False),\n",
    "    transforms.Lambda(repeat_channels),  # repeat grayscale image to 3 channels to match model input size\n",
    "    transforms.Normalize([0.485, 0.456, 0.406], [0.229, 0.224, 0.225])  # ImageNet normalization\n",
    "])"
   ],
   "metadata": {
    "collapsed": false,
    "ExecuteTime": {
     "end_time": "2023-12-17T16:09:40.358752500Z",
     "start_time": "2023-12-17T16:09:40.270487100Z"
    }
   },
   "id": "d2d32c023000dc85"
  },
  {
   "cell_type": "code",
   "execution_count": 4,
   "outputs": [
    {
     "data": {
      "text/plain": "Processing dataset:   0%|          | 0/94 [00:00<?, ?it/s]",
      "application/vnd.jupyter.widget-view+json": {
       "version_major": 2,
       "version_minor": 0,
       "model_id": "7d63bcf9d9224a33b801bcc4f7b9e94c"
      }
     },
     "metadata": {},
     "output_type": "display_data"
    },
    {
     "name": "stdout",
     "output_type": "stream",
     "text": [
      "shot: 64374, len(instabilities) = 3, len(labels) = 3825\n",
      "shot: 64376, len(instabilities) = 2, len(labels) = 2057\n",
      "shot: 64378, len(instabilities) = 5, len(labels) = 2104\n",
      "shot: 64389, len(instabilities) = 8, len(labels) = 2288\n",
      "shot: 64392, len(instabilities) = 4, len(labels) = 3053\n",
      "shot: 64394, len(instabilities) = 3, len(labels) = 2873\n",
      "shot: 64401, len(instabilities) = 9, len(labels) = 3122\n",
      "shot: 64646, len(instabilities) = 0, len(labels) = 1911\n",
      "shot: 64647, len(instabilities) = 6, len(labels) = 2278\n",
      "shot: 64648, len(instabilities) = 1, len(labels) = 2071\n",
      "shot: 64649, len(instabilities) = 7, len(labels) = 2030\n",
      "shot: 64650, len(instabilities) = 3, len(labels) = 3057\n",
      "shot: 64658, len(instabilities) = 1, len(labels) = 1916\n",
      "shot: 64659, len(instabilities) = 3, len(labels) = 1913\n",
      "shot: 64662, len(instabilities) = 1, len(labels) = 1903\n",
      "shot: 64664, len(instabilities) = 1, len(labels) = 2055\n",
      "shot: 64666, len(instabilities) = 4, len(labels) = 1842\n",
      "shot: 64668, len(instabilities) = 2, len(labels) = 2358\n",
      "shot: 64670, len(instabilities) = 1, len(labels) = 2258\n",
      "shot: 64673, len(instabilities) = 3, len(labels) = 3414\n",
      "shot: 64675, len(instabilities) = 4, len(labels) = 3047\n",
      "shot: 64677, len(instabilities) = 8, len(labels) = 3016\n",
      "shot: 64678, len(instabilities) = 5, len(labels) = 3541\n",
      "shot: 64680, len(instabilities) = 12, len(labels) = 3256\n",
      "shot: 64682, len(instabilities) = 14, len(labels) = 3004\n",
      "shot: 64684, len(instabilities) = 4, len(labels) = 2698\n",
      "shot: 64686, len(instabilities) = 6, len(labels) = 3530\n",
      "shot: 64770, len(instabilities) = 3, len(labels) = 3434\n",
      "shot: 64774, len(instabilities) = 1, len(labels) = 2291\n",
      "shot: 64778, len(instabilities) = 1, len(labels) = 2536\n",
      "shot: 64820, len(instabilities) = 1, len(labels) = 2952\n",
      "shot: 64834, len(instabilities) = 2, len(labels) = 2954\n",
      "shot: 70355, len(instabilities) = 6, len(labels) = 2934\n",
      "shot: 70356, len(instabilities) = 9, len(labels) = 2747\n",
      "shot: 70357, len(instabilities) = 6, len(labels) = 2959\n",
      "shot: 70359, len(instabilities) = 1, len(labels) = 2075\n",
      "shot: 70380, len(instabilities) = 5, len(labels) = 2913\n",
      "shot: 70381, len(instabilities) = 8, len(labels) = 2805\n",
      "shot: 70382, len(instabilities) = 4, len(labels) = 3573\n",
      "shot: 70383, len(instabilities) = 8, len(labels) = 3539\n",
      "shot: 70387, len(instabilities) = 5, len(labels) = 2604\n",
      "shot: 70388, len(instabilities) = 1, len(labels) = 2346\n",
      "shot: 70389, len(instabilities) = 5, len(labels) = 2247\n",
      "shot: 70390, len(instabilities) = 2, len(labels) = 2106\n",
      "shot: 70391, len(instabilities) = 5, len(labels) = 2690\n",
      "shot: 70392, len(instabilities) = 2, len(labels) = 2346\n",
      "shot: 70393, len(instabilities) = 6, len(labels) = 2414\n",
      "shot: 70394, len(instabilities) = 6, len(labels) = 1934\n",
      "shot: 71182, len(instabilities) = 5, len(labels) = 2252\n",
      "shot: 71186, len(instabilities) = 3, len(labels) = 2034\n",
      "shot: 71188, len(instabilities) = 1, len(labels) = 2000\n",
      "shot: 71189, len(instabilities) = 1, len(labels) = 1911\n",
      "shot: 71190, len(instabilities) = 4, len(labels) = 2922\n",
      "shot: 71192, len(instabilities) = 2, len(labels) = 2135\n",
      "shot: 71193, len(instabilities) = 2, len(labels) = 2211\n",
      "shot: 71194, len(instabilities) = 7, len(labels) = 2014\n",
      "shot: 71222, len(instabilities) = 3, len(labels) = 2100\n",
      "shot: 71223, len(instabilities) = 8, len(labels) = 1922\n",
      "shot: 71224, len(instabilities) = 5, len(labels) = 2248\n",
      "shot: 71225, len(instabilities) = 7, len(labels) = 3202\n",
      "shot: 71226, len(instabilities) = 3, len(labels) = 2872\n",
      "shot: 71255, len(instabilities) = 2, len(labels) = 2176\n",
      "shot: 71256, len(instabilities) = 4, len(labels) = 2055\n",
      "shot: 71259, len(instabilities) = 2, len(labels) = 2327\n",
      "shot: 71260, len(instabilities) = 5, len(labels) = 3016\n",
      "shot: 71264, len(instabilities) = 6, len(labels) = 3245\n",
      "shot: 71265, len(instabilities) = 2, len(labels) = 3239\n",
      "shot: 71266, len(instabilities) = 13, len(labels) = 3850\n",
      "shot: 71292, len(instabilities) = 3, len(labels) = 3711\n",
      "shot: 71300, len(instabilities) = 1, len(labels) = 3231\n",
      "shot: 71303, len(instabilities) = 6, len(labels) = 3166\n",
      "shot: 72196, len(instabilities) = 1, len(labels) = 2061\n",
      "shot: 72198, len(instabilities) = 0, len(labels) = 3508\n",
      "shot: 72919, len(instabilities) = 6, len(labels) = 4293\n",
      "shot: 72920, len(instabilities) = 4, len(labels) = 4293\n",
      "shot: 72925, len(instabilities) = 3, len(labels) = 3237\n",
      "shot: 72926, len(instabilities) = 8, len(labels) = 4293\n",
      "shot: 72927, len(instabilities) = 4, len(labels) = 1584\n",
      "shot: 72928, len(instabilities) = 5, len(labels) = 2407\n",
      "shot: 72929, len(instabilities) = 13, len(labels) = 2692\n",
      "shot: 72930, len(instabilities) = 9, len(labels) = 1955\n",
      "shot: 72959, len(instabilities) = 5, len(labels) = 4293\n",
      "shot: 72961, len(instabilities) = 10, len(labels) = 1907\n",
      "shot: 72963, len(instabilities) = 7, len(labels) = 2063\n",
      "shot: 72964, len(instabilities) = 3, len(labels) = 1864\n",
      "shot: 72965, len(instabilities) = 6, len(labels) = 2569\n",
      "shot: 72966, len(instabilities) = 1, len(labels) = 2291\n",
      "shot: 72967, len(instabilities) = 9, len(labels) = 2418\n",
      "shot: 73018, len(instabilities) = 4, len(labels) = 1397\n",
      "shot: 73019, len(instabilities) = 2, len(labels) = 4293\n",
      "shot: 73020, len(instabilities) = 0, len(labels) = 4293\n",
      "shot: 73021, len(instabilities) = 1, len(labels) = 4293\n",
      "shot: 73022, len(instabilities) = 6, len(labels) = 2164\n",
      "shot: 73023, len(instabilities) = 11, len(labels) = 2280\n",
      "Last odd spectrogram slice shape: (800, 200)\n",
      "Total number of windows = 1225\n",
      "Number of unique IDs = 1225\n"
     ]
    }
   ],
   "source": [
    "DATA_PATH = \"../data/dataset_h5\"\n",
    "FILE_EXT = \"h5\"\n",
    "LABEL_PATH = \"../data/MHD_labels\"\n",
    "LABEL_FILE_EXT = \"csv\"\n",
    "WINDOW_SIZE = 200  # number of .512ms time steps per window\n",
    "OVERLAP_FACTOR = 0.0  # overlap between consecutive windows\n",
    "\n",
    "dataset = SpectrogramDataset(data_path=DATA_PATH, file_ext=FILE_EXT, data_path_labels=LABEL_PATH,\n",
    "                             file_ext_labels=LABEL_FILE_EXT, window_size=WINDOW_SIZE,\n",
    "                             overlap=OVERLAP_FACTOR, transform=transform)\n",
    "\n",
    "# split the dataset\n",
    "train_size = int(0.8 * len(dataset))\n",
    "val_size = len(dataset) - train_size\n",
    "train_dataset, val_dataset = random_split(dataset, [train_size, val_size])\n",
    "\n",
    "# Create DataLoaders\n",
    "train_loader = DataLoader(train_dataset, batch_size=32, shuffle=True, collate_fn=default_collate, num_workers=0)\n",
    "val_loader = DataLoader(val_dataset, batch_size=32, shuffle=False, collate_fn=default_collate, num_workers=0)\n",
    "\n",
    "#dataloader = DataLoader(dataset, batch_size=32, shuffle=True, collate_fn=default_collate, num_workers=0)"
   ],
   "metadata": {
    "collapsed": false,
    "ExecuteTime": {
     "end_time": "2023-12-17T16:09:48.506208700Z",
     "start_time": "2023-12-17T16:09:40.362251800Z"
    }
   },
   "id": "c973ff7b0cd23993"
  },
  {
   "cell_type": "code",
   "execution_count": 5,
   "outputs": [],
   "source": [
    "import timm\n",
    "\n",
    "# EfficientNetV2-S -- 20M params\n",
    "#model = timm.create_model('tf_efficientnetv2_s', pretrained=True)\n",
    "\n",
    "# EfficientNet-B0 -- 4M params\n",
    "model = timm.create_model('efficientnet_b0', pretrained=True)\n",
    "\n",
    "# replace classifier layer\n",
    "model.classifier = nn.Sequential(\n",
    "    nn.Linear(model.classifier.in_features, 1),  # output one value\n",
    "    #nn.ReLU(),\n",
    "    #nn.Linear(640, 1),\n",
    "    #nn.Sigmoid()\n",
    ")\n",
    "\n",
    "#summary(model.to('cpu'), (3, 224, 224))"
   ],
   "metadata": {
    "collapsed": false,
    "ExecuteTime": {
     "end_time": "2023-12-17T16:09:49.578658Z",
     "start_time": "2023-12-17T16:09:48.505708Z"
    }
   },
   "id": "e51fb592a4747c38"
  },
  {
   "cell_type": "code",
   "execution_count": 6,
   "outputs": [],
   "source": [
    "from torch.optim.lr_scheduler import CosineAnnealingWarmRestarts\n",
    "\n",
    "criterion = nn.BCEWithLogitsLoss()  #os_weight=torch.tensor([3.2]).to(device))  # binary Cross Entropy Loss with Logits\n",
    "optimizer = torch.optim.AdamW(model.parameters(), lr=1e-4, weight_decay=10)\n",
    "\n",
    "num_epochs = 12\n",
    "scheduler = CosineAnnealingWarmRestarts(optimizer,\n",
    "                                        T_0=(len(train_loader.dataset) * num_epochs) // (train_loader.batch_size * 3),\n",
    "                                        T_mult=1, verbose=False)\n",
    "\n",
    "num_epochs = 5\n",
    "scheduler = torch.optim.lr_scheduler.CosineAnnealingLR(\n",
    "    optimizer,\n",
    "    T_max=(len(train_loader.dataset) * num_epochs) // train_loader.batch_size,\n",
    ")"
   ],
   "metadata": {
    "collapsed": false,
    "ExecuteTime": {
     "end_time": "2023-12-17T16:09:49.684107Z",
     "start_time": "2023-12-17T16:09:49.580658100Z"
    }
   },
   "id": "d51f6325e770a353"
  },
  {
   "cell_type": "code",
   "execution_count": 42,
   "outputs": [],
   "source": [
    "from tqdm.notebook import tqdm\n",
    "import torch\n",
    "from sklearn.metrics import precision_score, f1_score, cohen_kappa_score, roc_auc_score, precision_recall_curve, accuracy_score\n",
    "import numpy as michayel\n",
    "\n",
    "\n",
    "def safe_cohen_kappa_score(rater1, rater2):\n",
    "    # Check for perfect agreement\n",
    "    if michayel.array_equal(rater1, rater2):\n",
    "        return 1.0\n",
    "\n",
    "    # Check for no variation\n",
    "    if michayel.unique(rater1).size == 1 and michayel.unique(rater2).size == 1:\n",
    "        # Handle this case appropriately, maybe return NaN or a specific value\n",
    "        return None\n",
    "\n",
    "    # Calculate Cohen's Kappa\n",
    "    try:\n",
    "        return cohen_kappa_score(rater1, rater2)\n",
    "    except ZeroDivisionError:\n",
    "        # Handle division error\n",
    "        return 0.0\n",
    "\n",
    "\n",
    "def compute_metrics(predicted_probs, reference, threshold=0.5):\n",
    "    \"\"\"\n",
    "    Compute the F1 score, Cohen's kappa, ROC AUC, and find the optimal threshold for F1 score\n",
    "    for binary classification.\n",
    "\n",
    "    @param predicted_probs: float tensor of shape (batch size,) with the predicted probabilities for the positive class.\n",
    "    @param reference: int64 tensor of shape (batch size,) with the binary class labels (0 or 1).\n",
    "    \"\"\"\n",
    "    # Convert tensors to numpy arrays for compatibility with sklearn metrics\n",
    "    predicted_probs_np = predicted_probs.cpu().numpy()\n",
    "    reference_np = reference.cpu().numpy()\n",
    "\n",
    "    # Convert probabilities to binary predictions (0 or 1)\n",
    "    predicted_labels_np = (predicted_probs_np > threshold).astype(int)\n",
    "\n",
    "    # Calculate accuracy,  F1 score and Cohen's Kappa at the given threshold\n",
    "    accuracy = accuracy_score(reference_np, predicted_labels_np)\n",
    "    f1 = f1_score(reference_np, predicted_labels_np, zero_division=0)\n",
    "    kappa = safe_cohen_kappa_score(reference_np, predicted_labels_np)\n",
    "\n",
    "    # Calculate precision, recall for various thresholds\n",
    "    precision, recall, thresholds = precision_recall_curve(reference_np, predicted_probs_np)\n",
    "    \n",
    "    # Calculate F1 score for each threshold\n",
    "    f1_scores = michayel.divide(2 * precision * recall, precision + recall, \n",
    "                          out=michayel.zeros_like(precision), where=(precision + recall) != 0)\n",
    "    \n",
    "    # Find the index of the maximum F1 score\n",
    "    optimal_idx = michayel.nanargmax(f1_scores)\n",
    "    print(f\"max f1: {michayel.nanmax(f1_scores)}\")\n",
    "    optimal_threshold = thresholds[optimal_idx] if optimal_idx < len(thresholds) else 1.0\n",
    "\n",
    "    # Calculate ROC AUC\n",
    "    roc_auc = roc_auc_score(reference_np, predicted_probs_np) if len(michayel.unique(reference_np)) > 1 else None\n",
    "\n",
    "    return accuracy, f1, kappa, roc_auc, optimal_threshold\n",
    "\n",
    "def train(model, train_loader, test_loader, optimizer, scheduler, criterion, device, n_epochs=1):\n",
    "    device = torch.device(device)\n",
    "    model.to(device)\n",
    "    print(f\"training on device '{device}'\")\n",
    "\n",
    "    losses = []\n",
    "    losses_val = []\n",
    "    f1s_test = []\n",
    "    f1s_train = []\n",
    "    kappa_test = []\n",
    "    kappa_train = []\n",
    "\n",
    "    for epoch in range(n_epochs):\n",
    "        model.train()\n",
    "        train_loss = 0\n",
    "        with tqdm(train_loader, unit='batch', desc=f'Epoch {epoch}') as tepoch:\n",
    "            for batch in tepoch:\n",
    "                x_batch = batch['window_odd']\n",
    "                y_batch = batch['label']\n",
    "                x_batch = x_batch.to(device)\n",
    "                y_batch = y_batch.to(device)\n",
    "\n",
    "                y_pred = model(x_batch)\n",
    "\n",
    "                loss = criterion(y_pred, y_batch)\n",
    "\n",
    "                optimizer.zero_grad()\n",
    "                loss.backward()\n",
    "                optimizer.step()\n",
    "                scheduler.step()\n",
    "\n",
    "                tepoch.set_postfix(loss=loss.item())\n",
    "\n",
    "                train_loss += loss.item()\n",
    "        train_loss = train_loss / len(train_loader)\n",
    "        losses.append(train_loss)\n",
    "\n",
    "        model.eval()\n",
    "        # evaluate on test set\n",
    "        accuracies_test = []\n",
    "        f1_test = []\n",
    "        roc_auc_test = []\n",
    "        thresh_test = []\n",
    "        val_loss = 0\n",
    "        with tqdm(test_loader, unit='batch', desc='Evaluating') as tepoch:\n",
    "            for batch in tepoch:\n",
    "                x_batch = batch['window_odd']\n",
    "                y_batch = batch['label']\n",
    "                x_batch = x_batch.to(device)\n",
    "                y_batch = y_batch.to(device)\n",
    "\n",
    "                with torch.no_grad():\n",
    "                    loss = criterion(model(x_batch), y_batch)\n",
    "                    val_loss += loss.item()\n",
    "                    prediction = torch.sigmoid(model(x_batch))\n",
    "                    acc, f1, kappa, roc_auc, tresh = compute_metrics(prediction, y_batch)\n",
    "                    accuracies_test.append(acc)\n",
    "                    f1_test.append(f1)\n",
    "                    kappa_test.append(kappa)\n",
    "                    roc_auc_test.append(roc_auc)\n",
    "                    thresh_test.append(tresh)\n",
    "                    \n",
    "                tepoch.set_postfix(loss=loss.item())\n",
    "        \n",
    "        val_loss = val_loss / len(test_loader)\n",
    "        losses_val.append(val_loss)\n",
    "\n",
    "        f1s_test.append(michayel.mean(f1_test))\n",
    "\n",
    "        # evaluate on train set\n",
    "        accuracies_train = []\n",
    "        f1_train = []\n",
    "        roc_auc_train = []\n",
    "        thresh_train = []\n",
    "        with tqdm(train_loader, unit='batch', desc='Evaluating') as tepoch:\n",
    "            for batch in tepoch:\n",
    "                x_batch = batch['window_odd']\n",
    "                y_batch = batch['label']\n",
    "                x_batch = x_batch.to(device)\n",
    "                y_batch = y_batch.to(device)\n",
    "\n",
    "                with torch.no_grad():\n",
    "                    prediction = torch.sigmoid(model(x_batch))\n",
    "                    acc, f1, kappa, roc_auc, tresh = compute_metrics(prediction, y_batch)\n",
    "                    accuracies_train.append(acc)\n",
    "                    f1_train.append(f1)\n",
    "                    kappa_train.append(kappa)\n",
    "                    roc_auc_train.append(roc_auc)\n",
    "                    thresh_train.append(tresh)\n",
    "\n",
    "        f1s_train.append(michayel.mean(f1_train))\n",
    "\n",
    "\n",
    "        roc_auc_train = [x for x in roc_auc_train if x is not None]\n",
    "        roc_auc_test = [x for x in roc_auc_test if x is not None]\n",
    "        print(\n",
    "            f\"Epoch {epoch} | Train accuracy: {torch.tensor(accuracies_train).mean().item():.5f}, \"\n",
    "            f\"f1: {torch.tensor(f1_train).mean().item():.5f}, \"\n",
    "            f\"roc-auc: {torch.tensor(roc_auc_train).mean().item():.5f}, \"\n",
    "            f\"tresh: {torch.tensor(thresh_train).mean().item():.5f}\\n\"\n",
    "            #f\"kappa: {torch.tensor(kappa_train).mean().item():.5f}\\n\"\n",
    "            f\"           Test accuracy: {torch.tensor(accuracies_test).mean().item():.5f}, \"\n",
    "            f\"f1: {torch.tensor(f1_test).mean().item():.5f}, \"\n",
    "            f\"roc-auc: {torch.tensor(roc_auc_test).mean().item():.5f}, \"\n",
    "            f\"tresh: {torch.tensor(thresh_test).mean().item():.5f}\")\n",
    "            #f\"kappa: {torch.tensor(kappa_test).mean().item():.5f}\")\n",
    "\n",
    "    plot_losses(losses, losses_val)\n",
    "    plot_f1(f1s_test, f1s_train)\n",
    "\n",
    "    return f1s_train[-1], f1s_test[-1], kappa_train[-1], kappa_test[-1]\n",
    "\n",
    "\n",
    "def plot_losses(losses, losses_val=[]):\n",
    "    plt.plot(losses, label='train')\n",
    "    plt.plot(losses_val, label='test')\n",
    "    plt.title(\"loss\")\n",
    "    plt.ylabel('loss')\n",
    "    plt.xlabel('iterations')\n",
    "    plt.legend()\n",
    "    plt.show()\n",
    "\n",
    "\n",
    "def plot_f1(f1s_test, f1s_train):\n",
    "    plt.plot(f1s_test, label='test')\n",
    "    plt.plot(f1s_train, label='train')\n",
    "    plt.title(\"f1\")\n",
    "    plt.ylabel('f1')\n",
    "    plt.xlabel('iterations')\n",
    "    plt.legend()\n",
    "    plt.show()"
   ],
   "metadata": {
    "collapsed": false,
    "ExecuteTime": {
     "end_time": "2023-12-17T17:39:10.080767700Z",
     "start_time": "2023-12-17T17:39:09.924456400Z"
    }
   },
   "id": "9117db38bfca932a"
  },
  {
   "cell_type": "code",
   "execution_count": 40,
   "outputs": [
    {
     "name": "stdout",
     "output_type": "stream",
     "text": [
      "training on device 'cuda'\n"
     ]
    },
    {
     "data": {
      "text/plain": "Epoch 0:   0%|          | 0/60 [00:00<?, ?batch/s]",
      "application/vnd.jupyter.widget-view+json": {
       "version_major": 2,
       "version_minor": 0,
       "model_id": "cbdf6b2227d64601a3ccaca7fc65ab2e"
      }
     },
     "metadata": {},
     "output_type": "display_data"
    },
    {
     "data": {
      "text/plain": "Evaluating:   0%|          | 0/8 [00:00<?, ?batch/s]",
      "application/vnd.jupyter.widget-view+json": {
       "version_major": 2,
       "version_minor": 0,
       "model_id": "0193172331cd4545a0e27eb49d9b4556"
      }
     },
     "metadata": {},
     "output_type": "display_data"
    },
    {
     "name": "stderr",
     "output_type": "stream",
     "text": [
      "C:\\Users\\micha\\miniconda3\\Lib\\site-packages\\sklearn\\metrics\\_ranking.py:980: UserWarning: No positive class found in y_true, recall is set to one for all thresholds.\n",
      "  warnings.warn(\n"
     ]
    },
    {
     "data": {
      "text/plain": "Evaluating:   0%|          | 0/60 [00:00<?, ?batch/s]",
      "application/vnd.jupyter.widget-view+json": {
       "version_major": 2,
       "version_minor": 0,
       "model_id": "cf0543148b6f4415a7af50b9d7ea8182"
      }
     },
     "metadata": {},
     "output_type": "display_data"
    },
    {
     "name": "stdout",
     "output_type": "stream",
     "text": [
      "Epoch 0 | Train accuracy: 0.97396, f1: 0.91567, roc-auc: 0.99202, tresh: 0.58423\n",
      "           Test accuracy: 0.95499, f1: 0.78053, roc-auc: 0.98917, tresh: 0.52827\n"
     ]
    },
    {
     "data": {
      "text/plain": "Epoch 1:   0%|          | 0/60 [00:00<?, ?batch/s]",
      "application/vnd.jupyter.widget-view+json": {
       "version_major": 2,
       "version_minor": 0,
       "model_id": "ae103db36a8941e0b19342a069e1cfff"
      }
     },
     "metadata": {},
     "output_type": "display_data"
    },
    {
     "data": {
      "text/plain": "Evaluating:   0%|          | 0/8 [00:00<?, ?batch/s]",
      "application/vnd.jupyter.widget-view+json": {
       "version_major": 2,
       "version_minor": 0,
       "model_id": "3cccd2ebfbd74a199238f67622d131fd"
      }
     },
     "metadata": {},
     "output_type": "display_data"
    },
    {
     "name": "stderr",
     "output_type": "stream",
     "text": [
      "C:\\Users\\micha\\miniconda3\\Lib\\site-packages\\sklearn\\metrics\\_ranking.py:980: UserWarning: No positive class found in y_true, recall is set to one for all thresholds.\n",
      "  warnings.warn(\n"
     ]
    },
    {
     "data": {
      "text/plain": "Evaluating:   0%|          | 0/60 [00:00<?, ?batch/s]",
      "application/vnd.jupyter.widget-view+json": {
       "version_major": 2,
       "version_minor": 0,
       "model_id": "9757f73e439649728ac4a09003fc49e3"
      }
     },
     "metadata": {},
     "output_type": "display_data"
    },
    {
     "name": "stdout",
     "output_type": "stream",
     "text": [
      "Epoch 1 | Train accuracy: 0.97344, f1: 0.91383, roc-auc: 0.99181, tresh: 0.55919\n",
      "           Test accuracy: 0.96875, f1: 0.80682, roc-auc: 0.99045, tresh: 0.50741\n"
     ]
    },
    {
     "data": {
      "text/plain": "Epoch 2:   0%|          | 0/60 [00:00<?, ?batch/s]",
      "application/vnd.jupyter.widget-view+json": {
       "version_major": 2,
       "version_minor": 0,
       "model_id": "ac83233bf43d460aa66cf103983a2997"
      }
     },
     "metadata": {},
     "output_type": "display_data"
    },
    {
     "data": {
      "text/plain": "Evaluating:   0%|          | 0/8 [00:00<?, ?batch/s]",
      "application/vnd.jupyter.widget-view+json": {
       "version_major": 2,
       "version_minor": 0,
       "model_id": "ce4911d3620f4cf39a532f999c73fd5b"
      }
     },
     "metadata": {},
     "output_type": "display_data"
    },
    {
     "name": "stderr",
     "output_type": "stream",
     "text": [
      "C:\\Users\\micha\\miniconda3\\Lib\\site-packages\\sklearn\\metrics\\_ranking.py:980: UserWarning: No positive class found in y_true, recall is set to one for all thresholds.\n",
      "  warnings.warn(\n"
     ]
    },
    {
     "data": {
      "text/plain": "Evaluating:   0%|          | 0/60 [00:00<?, ?batch/s]",
      "application/vnd.jupyter.widget-view+json": {
       "version_major": 2,
       "version_minor": 0,
       "model_id": "a2b75a4f6f79490fa08c678028597a03"
      }
     },
     "metadata": {},
     "output_type": "display_data"
    },
    {
     "name": "stdout",
     "output_type": "stream",
     "text": [
      "Epoch 2 | Train accuracy: 0.97448, f1: 0.91806, roc-auc: 0.99191, tresh: 0.57630\n",
      "           Test accuracy: 0.95889, f1: 0.78788, roc-auc: 0.99045, tresh: 0.52736\n"
     ]
    },
    {
     "data": {
      "text/plain": "Epoch 3:   0%|          | 0/60 [00:00<?, ?batch/s]",
      "application/vnd.jupyter.widget-view+json": {
       "version_major": 2,
       "version_minor": 0,
       "model_id": "a53eb1e5dd664d66b352c4286dbe2e29"
      }
     },
     "metadata": {},
     "output_type": "display_data"
    },
    {
     "data": {
      "text/plain": "Evaluating:   0%|          | 0/8 [00:00<?, ?batch/s]",
      "application/vnd.jupyter.widget-view+json": {
       "version_major": 2,
       "version_minor": 0,
       "model_id": "def83e2b70f94d228f9529d9285bac8a"
      }
     },
     "metadata": {},
     "output_type": "display_data"
    },
    {
     "name": "stderr",
     "output_type": "stream",
     "text": [
      "C:\\Users\\micha\\miniconda3\\Lib\\site-packages\\sklearn\\metrics\\_ranking.py:980: UserWarning: No positive class found in y_true, recall is set to one for all thresholds.\n",
      "  warnings.warn(\n"
     ]
    },
    {
     "data": {
      "text/plain": "Evaluating:   0%|          | 0/60 [00:00<?, ?batch/s]",
      "application/vnd.jupyter.widget-view+json": {
       "version_major": 2,
       "version_minor": 0,
       "model_id": "b50134188cb344bab4235d799c12073d"
      }
     },
     "metadata": {},
     "output_type": "display_data"
    },
    {
     "name": "stderr",
     "output_type": "stream",
     "text": [
      "C:\\Users\\micha\\miniconda3\\Lib\\site-packages\\sklearn\\metrics\\_ranking.py:980: UserWarning: No positive class found in y_true, recall is set to one for all thresholds.\n",
      "  warnings.warn(\n"
     ]
    },
    {
     "name": "stdout",
     "output_type": "stream",
     "text": [
      "Epoch 3 | Train accuracy: 0.97639, f1: 0.91030, roc-auc: 0.99165, tresh: 0.56346\n",
      "           Test accuracy: 0.96280, f1: 0.79545, roc-auc: 0.99172, tresh: 0.52234\n"
     ]
    },
    {
     "data": {
      "text/plain": "Epoch 4:   0%|          | 0/60 [00:00<?, ?batch/s]",
      "application/vnd.jupyter.widget-view+json": {
       "version_major": 2,
       "version_minor": 0,
       "model_id": "26b6c55a873c4e2db68490adf99cb39a"
      }
     },
     "metadata": {},
     "output_type": "display_data"
    },
    {
     "data": {
      "text/plain": "Evaluating:   0%|          | 0/8 [00:00<?, ?batch/s]",
      "application/vnd.jupyter.widget-view+json": {
       "version_major": 2,
       "version_minor": 0,
       "model_id": "5243516ea7364a78b5c27d05f8036156"
      }
     },
     "metadata": {},
     "output_type": "display_data"
    },
    {
     "name": "stderr",
     "output_type": "stream",
     "text": [
      "C:\\Users\\micha\\miniconda3\\Lib\\site-packages\\sklearn\\metrics\\_ranking.py:980: UserWarning: No positive class found in y_true, recall is set to one for all thresholds.\n",
      "  warnings.warn(\n"
     ]
    },
    {
     "data": {
      "text/plain": "Evaluating:   0%|          | 0/60 [00:00<?, ?batch/s]",
      "application/vnd.jupyter.widget-view+json": {
       "version_major": 2,
       "version_minor": 0,
       "model_id": "5551e01f0d7c49118fa5f225cb68ebcd"
      }
     },
     "metadata": {},
     "output_type": "display_data"
    },
    {
     "name": "stdout",
     "output_type": "stream",
     "text": [
      "Epoch 4 | Train accuracy: 0.97604, f1: 0.93210, roc-auc: 0.99139, tresh: 0.59784\n",
      "           Test accuracy: 0.96484, f1: 0.79924, roc-auc: 0.99045, tresh: 0.53346\n"
     ]
    },
    {
     "data": {
      "text/plain": "<Figure size 640x480 with 1 Axes>",
      "image/png": "[encoded data removed]"
     },
     "metadata": {},
     "output_type": "display_data"
    },
    {
     "data": {
      "text/plain": "<Figure size 640x480 with 1 Axes>",
      "image/png": "[encoded data removed]"
     },
     "metadata": {},
     "output_type": "display_data"
    },
    {
     "data": {
      "text/plain": "(0.9320996129449488, 0.7992424242424243, 1.0, 1.0)"
     },
     "execution_count": 40,
     "metadata": {},
     "output_type": "execute_result"
    }
   ],
   "source": [
    "train(model, train_loader, val_loader, optimizer, scheduler, criterion, device, n_epochs=5)"
   ],
   "metadata": {
    "collapsed": false,
    "ExecuteTime": {
     "end_time": "2023-12-17T17:30:32.771535600Z",
     "start_time": "2023-12-17T17:29:46.627088300Z"
    }
   },
   "id": "2c97bfb743c2f8c7"
  },
  {
   "cell_type": "code",
   "execution_count": 43,
   "outputs": [
    {
     "name": "stdout",
     "output_type": "stream",
     "text": [
      "Fold 0\n"
     ]
    },
    {
     "data": {
      "text/plain": "Processing dataset:   0%|          | 0/75 [00:00<?, ?it/s]",
      "application/vnd.jupyter.widget-view+json": {
       "version_major": 2,
       "version_minor": 0,
       "model_id": "e939806ce7984e0b970c28197dd26520"
      }
     },
     "metadata": {},
     "output_type": "display_data"
    },
    {
     "name": "stdout",
     "output_type": "stream",
     "text": [
      "shot: 64374, len(instabilities) = 3, len(labels) = 3825\n",
      "shot: 64376, len(instabilities) = 2, len(labels) = 2057\n",
      "shot: 64378, len(instabilities) = 5, len(labels) = 2104\n",
      "shot: 64389, len(instabilities) = 8, len(labels) = 2288\n",
      "shot: 64394, len(instabilities) = 3, len(labels) = 2873\n",
      "shot: 64401, len(instabilities) = 9, len(labels) = 3122\n",
      "shot: 64646, len(instabilities) = 0, len(labels) = 1911\n",
      "shot: 64647, len(instabilities) = 6, len(labels) = 2278\n",
      "shot: 64649, len(instabilities) = 7, len(labels) = 2030\n",
      "shot: 64650, len(instabilities) = 3, len(labels) = 3057\n",
      "shot: 64658, len(instabilities) = 1, len(labels) = 1916\n",
      "shot: 64659, len(instabilities) = 3, len(labels) = 1913\n",
      "shot: 64664, len(instabilities) = 1, len(labels) = 2055\n",
      "shot: 64668, len(instabilities) = 2, len(labels) = 2358\n",
      "shot: 64673, len(instabilities) = 3, len(labels) = 3414\n",
      "shot: 64675, len(instabilities) = 4, len(labels) = 3047\n",
      "shot: 64677, len(instabilities) = 8, len(labels) = 3016\n",
      "shot: 64678, len(instabilities) = 5, len(labels) = 3541\n",
      "shot: 64680, len(instabilities) = 12, len(labels) = 3256\n",
      "shot: 64682, len(instabilities) = 14, len(labels) = 3004\n",
      "shot: 64684, len(instabilities) = 4, len(labels) = 2698\n",
      "shot: 64686, len(instabilities) = 6, len(labels) = 3530\n",
      "shot: 64770, len(instabilities) = 3, len(labels) = 3434\n",
      "shot: 64778, len(instabilities) = 1, len(labels) = 2536\n",
      "shot: 64820, len(instabilities) = 1, len(labels) = 2952\n",
      "shot: 64834, len(instabilities) = 2, len(labels) = 2954\n",
      "shot: 70355, len(instabilities) = 6, len(labels) = 2934\n",
      "shot: 70382, len(instabilities) = 4, len(labels) = 3573\n",
      "shot: 70383, len(instabilities) = 8, len(labels) = 3539\n",
      "shot: 70388, len(instabilities) = 1, len(labels) = 2346\n",
      "shot: 70389, len(instabilities) = 5, len(labels) = 2247\n",
      "shot: 70390, len(instabilities) = 2, len(labels) = 2106\n",
      "shot: 70391, len(instabilities) = 5, len(labels) = 2690\n",
      "shot: 70392, len(instabilities) = 2, len(labels) = 2346\n",
      "shot: 70393, len(instabilities) = 6, len(labels) = 2414\n",
      "shot: 70394, len(instabilities) = 6, len(labels) = 1934\n",
      "shot: 71186, len(instabilities) = 3, len(labels) = 2034\n",
      "shot: 71188, len(instabilities) = 1, len(labels) = 2000\n",
      "shot: 71189, len(instabilities) = 1, len(labels) = 1911\n",
      "shot: 71190, len(instabilities) = 4, len(labels) = 2922\n",
      "shot: 71192, len(instabilities) = 2, len(labels) = 2135\n",
      "shot: 71193, len(instabilities) = 2, len(labels) = 2211\n",
      "shot: 71194, len(instabilities) = 7, len(labels) = 2014\n",
      "shot: 71222, len(instabilities) = 3, len(labels) = 2100\n",
      "shot: 71223, len(instabilities) = 8, len(labels) = 1922\n",
      "shot: 71225, len(instabilities) = 7, len(labels) = 3202\n",
      "shot: 71226, len(instabilities) = 3, len(labels) = 2872\n",
      "shot: 71255, len(instabilities) = 2, len(labels) = 2176\n",
      "shot: 71256, len(instabilities) = 4, len(labels) = 2055\n",
      "shot: 71259, len(instabilities) = 2, len(labels) = 2327\n",
      "shot: 71260, len(instabilities) = 5, len(labels) = 3016\n",
      "shot: 71265, len(instabilities) = 2, len(labels) = 3239\n",
      "shot: 71292, len(instabilities) = 3, len(labels) = 3711\n",
      "shot: 71300, len(instabilities) = 1, len(labels) = 3231\n",
      "shot: 72196, len(instabilities) = 1, len(labels) = 2061\n",
      "shot: 72198, len(instabilities) = 0, len(labels) = 3508\n",
      "shot: 72919, len(instabilities) = 6, len(labels) = 4293\n",
      "shot: 72925, len(instabilities) = 3, len(labels) = 3237\n",
      "shot: 72926, len(instabilities) = 8, len(labels) = 4293\n",
      "shot: 72927, len(instabilities) = 4, len(labels) = 1584\n",
      "shot: 72928, len(instabilities) = 5, len(labels) = 2407\n",
      "shot: 72929, len(instabilities) = 13, len(labels) = 2692\n",
      "shot: 72930, len(instabilities) = 9, len(labels) = 1955\n",
      "shot: 72959, len(instabilities) = 5, len(labels) = 4293\n",
      "shot: 72961, len(instabilities) = 10, len(labels) = 1907\n",
      "shot: 72963, len(instabilities) = 7, len(labels) = 2063\n",
      "shot: 72964, len(instabilities) = 3, len(labels) = 1864\n",
      "shot: 72965, len(instabilities) = 6, len(labels) = 2569\n",
      "shot: 72966, len(instabilities) = 1, len(labels) = 2291\n",
      "shot: 73018, len(instabilities) = 4, len(labels) = 1397\n",
      "shot: 73019, len(instabilities) = 2, len(labels) = 4293\n",
      "shot: 73020, len(instabilities) = 0, len(labels) = 4293\n",
      "shot: 73021, len(instabilities) = 1, len(labels) = 4293\n",
      "shot: 73022, len(instabilities) = 6, len(labels) = 2164\n",
      "shot: 73023, len(instabilities) = 11, len(labels) = 2280\n",
      "Last odd spectrogram slice shape: (800, 200)\n",
      "Total number of windows = 1912\n",
      "Number of unique IDs = 1912\n"
     ]
    },
    {
     "data": {
      "text/plain": "Processing dataset:   0%|          | 0/19 [00:00<?, ?it/s]",
      "application/vnd.jupyter.widget-view+json": {
       "version_major": 2,
       "version_minor": 0,
       "model_id": "6de3e8e2012747ad8586eb5d9c49d0d4"
      }
     },
     "metadata": {},
     "output_type": "display_data"
    },
    {
     "name": "stdout",
     "output_type": "stream",
     "text": [
      "shot: 64392, len(instabilities) = 4, len(labels) = 3053\n",
      "shot: 64648, len(instabilities) = 1, len(labels) = 2071\n",
      "shot: 64662, len(instabilities) = 1, len(labels) = 1903\n",
      "shot: 64666, len(instabilities) = 4, len(labels) = 1842\n",
      "shot: 64670, len(instabilities) = 1, len(labels) = 2258\n",
      "shot: 64774, len(instabilities) = 1, len(labels) = 2291\n",
      "shot: 70356, len(instabilities) = 9, len(labels) = 2747\n",
      "shot: 70357, len(instabilities) = 6, len(labels) = 2959\n",
      "shot: 70359, len(instabilities) = 1, len(labels) = 2075\n",
      "shot: 70380, len(instabilities) = 5, len(labels) = 2913\n",
      "shot: 70381, len(instabilities) = 8, len(labels) = 2805\n",
      "shot: 70387, len(instabilities) = 5, len(labels) = 2604\n",
      "shot: 71182, len(instabilities) = 5, len(labels) = 2252\n",
      "shot: 71224, len(instabilities) = 5, len(labels) = 2248\n",
      "shot: 71264, len(instabilities) = 6, len(labels) = 3245\n",
      "shot: 71266, len(instabilities) = 13, len(labels) = 3850\n",
      "shot: 71303, len(instabilities) = 6, len(labels) = 3166\n",
      "shot: 72920, len(instabilities) = 4, len(labels) = 4293\n",
      "shot: 72967, len(instabilities) = 9, len(labels) = 2418\n",
      "Last odd spectrogram slice shape: (800, 200)\n",
      "Total number of windows = 482\n",
      "Number of unique IDs = 482\n",
      "training on device 'cuda'\n"
     ]
    },
    {
     "data": {
      "text/plain": "Epoch 0:   0%|          | 0/60 [00:00<?, ?batch/s]",
      "application/vnd.jupyter.widget-view+json": {
       "version_major": 2,
       "version_minor": 0,
       "model_id": "166e77acbb374484ad2224f1cf8db8d0"
      }
     },
     "metadata": {},
     "output_type": "display_data"
    },
    {
     "data": {
      "text/plain": "Evaluating:   0%|          | 0/16 [00:00<?, ?batch/s]",
      "application/vnd.jupyter.widget-view+json": {
       "version_major": 2,
       "version_minor": 0,
       "model_id": "2eab830e86d34daaac02615bcbc7c15c"
      }
     },
     "metadata": {},
     "output_type": "display_data"
    },
    {
     "name": "stdout",
     "output_type": "stream",
     "text": [
      "max f1: 0.6666666666666666\n",
      "max f1: 0.0\n",
      "max f1: 0.0\n",
      "max f1: 0.5714285714285715\n"
     ]
    },
    {
     "name": "stderr",
     "output_type": "stream",
     "text": [
      "C:\\Users\\micha\\miniconda3\\Lib\\site-packages\\sklearn\\metrics\\_ranking.py:980: UserWarning: No positive class found in y_true, recall is set to one for all thresholds.\n",
      "  warnings.warn(\n",
      "C:\\Users\\micha\\miniconda3\\Lib\\site-packages\\sklearn\\metrics\\_ranking.py:980: UserWarning: No positive class found in y_true, recall is set to one for all thresholds.\n",
      "  warnings.warn(\n"
     ]
    },
    {
     "name": "stdout",
     "output_type": "stream",
     "text": [
      "max f1: 0.6923076923076923\n",
      "max f1: 0.4285714285714285\n",
      "max f1: 0.7142857142857143\n",
      "max f1: 1.0\n",
      "max f1: 0.6666666666666666\n",
      "max f1: 1.0\n",
      "max f1: 0.9333333333333333\n",
      "max f1: 0.9655172413793104\n",
      "max f1: 0.3076923076923077\n",
      "max f1: 0.4\n",
      "max f1: 0.5555555555555556\n",
      "max f1: 0.6666666666666666\n"
     ]
    },
    {
     "data": {
      "text/plain": "Evaluating:   0%|          | 0/60 [00:00<?, ?batch/s]",
      "application/vnd.jupyter.widget-view+json": {
       "version_major": 2,
       "version_minor": 0,
       "model_id": "15b28b372fa5489ca7ab065123e07eb8"
      }
     },
     "metadata": {},
     "output_type": "display_data"
    },
    {
     "name": "stdout",
     "output_type": "stream",
     "text": [
      "max f1: 0.5714285714285715\n",
      "max f1: 0.7692307692307692\n",
      "max f1: 0.6666666666666666\n",
      "max f1: 0.9090909090909091\n",
      "max f1: 0.6153846153846154\n",
      "max f1: 0.5\n",
      "max f1: 0.5714285714285715\n",
      "max f1: 0.6666666666666665\n",
      "max f1: 0.8\n",
      "max f1: 0.5714285714285715\n",
      "max f1: 0.7499999999999999\n",
      "max f1: 0.8235294117647058\n",
      "max f1: 0.5333333333333333\n",
      "max f1: 0.631578947368421\n",
      "max f1: 0.6666666666666666\n",
      "max f1: 0.8571428571428571\n",
      "max f1: 0.8571428571428571\n",
      "max f1: 0.7999999999999999\n",
      "max f1: 0.9\n",
      "max f1: 0.761904761904762\n",
      "max f1: 0.5\n",
      "max f1: 0.5\n",
      "max f1: 0.8571428571428571\n",
      "max f1: 0.6666666666666666\n",
      "max f1: 0.5\n",
      "max f1: 0.7272727272727272\n",
      "max f1: 1.0\n",
      "max f1: 0.5714285714285715\n",
      "max f1: 0.5714285714285715\n",
      "max f1: 0.7499999999999999\n",
      "max f1: 0.7272727272727272\n",
      "max f1: 0.75\n",
      "max f1: 0.6666666666666666\n",
      "max f1: 0.7499999999999999\n",
      "max f1: 0.6666666666666666\n",
      "max f1: 0.6666666666666666\n",
      "max f1: 0.8181818181818182\n",
      "max f1: 0.8235294117647058\n",
      "max f1: 0.888888888888889\n",
      "max f1: 0.7142857142857143\n",
      "max f1: 0.4444444444444444\n",
      "max f1: 0.7142857142857143\n",
      "max f1: 0.8421052631578948\n",
      "max f1: 0.5\n",
      "max f1: 0.6666666666666666\n",
      "max f1: 0.6666666666666666\n",
      "max f1: 0.5454545454545454\n",
      "max f1: 0.6666666666666667\n",
      "max f1: 0.761904761904762\n",
      "max f1: 0.8333333333333333\n",
      "max f1: 0.48\n",
      "max f1: 0.6666666666666666\n",
      "max f1: 0.8333333333333333\n",
      "max f1: 0.8571428571428571\n",
      "max f1: 0.6666666666666666\n",
      "max f1: 0.4444444444444445\n",
      "max f1: 0.6\n",
      "max f1: 0.6\n",
      "max f1: 0.7142857142857143\n",
      "max f1: 0.888888888888889\n",
      "Epoch 0 | Train accuracy: 0.83663, f1: 0.57338, roc-auc: 0.86329, tresh: 0.51069\n",
      "           Test accuracy: 0.75586, f1: 0.33230, roc-auc: 0.77094, tresh: 0.44416\n"
     ]
    },
    {
     "data": {
      "text/plain": "Epoch 1:   0%|          | 0/60 [00:00<?, ?batch/s]",
      "application/vnd.jupyter.widget-view+json": {
       "version_major": 2,
       "version_minor": 0,
       "model_id": "0a859054ebf347ff96fdca4f3f0f4c3c"
      }
     },
     "metadata": {},
     "output_type": "display_data"
    },
    {
     "data": {
      "text/plain": "Evaluating:   0%|          | 0/16 [00:00<?, ?batch/s]",
      "application/vnd.jupyter.widget-view+json": {
       "version_major": 2,
       "version_minor": 0,
       "model_id": "3a47318c8d1043d8a05b74fba12bc480"
      }
     },
     "metadata": {},
     "output_type": "display_data"
    },
    {
     "name": "stdout",
     "output_type": "stream",
     "text": [
      "max f1: 0.9090909090909091\n",
      "max f1: 0.0\n",
      "max f1: 0.0\n",
      "max f1: 1.0\n"
     ]
    },
    {
     "name": "stderr",
     "output_type": "stream",
     "text": [
      "C:\\Users\\micha\\miniconda3\\Lib\\site-packages\\sklearn\\metrics\\_ranking.py:980: UserWarning: No positive class found in y_true, recall is set to one for all thresholds.\n",
      "  warnings.warn(\n",
      "C:\\Users\\micha\\miniconda3\\Lib\\site-packages\\sklearn\\metrics\\_ranking.py:980: UserWarning: No positive class found in y_true, recall is set to one for all thresholds.\n",
      "  warnings.warn(\n"
     ]
    },
    {
     "name": "stdout",
     "output_type": "stream",
     "text": [
      "max f1: 0.7826086956521738\n",
      "max f1: 0.5454545454545454\n",
      "max f1: 0.9333333333333333\n",
      "max f1: 0.8\n",
      "max f1: 0.6666666666666666\n",
      "max f1: 0.6666666666666666\n",
      "max f1: 0.9333333333333333\n",
      "max f1: 0.9655172413793104\n",
      "max f1: 0.2666666666666667\n",
      "max f1: 0.5714285714285715\n",
      "max f1: 0.625\n",
      "max f1: 1.0\n"
     ]
    },
    {
     "data": {
      "text/plain": "Evaluating:   0%|          | 0/60 [00:00<?, ?batch/s]",
      "application/vnd.jupyter.widget-view+json": {
       "version_major": 2,
       "version_minor": 0,
       "model_id": "9326268c29854cafb490707edf66c7b8"
      }
     },
     "metadata": {},
     "output_type": "display_data"
    },
    {
     "name": "stdout",
     "output_type": "stream",
     "text": [
      "max f1: 0.8571428571428571\n",
      "max f1: 0.8571428571428571\n",
      "max f1: 0.8\n",
      "max f1: 0.7692307692307692\n",
      "max f1: 0.9333333333333333\n",
      "max f1: 0.923076923076923\n",
      "max f1: 0.923076923076923\n",
      "max f1: 0.923076923076923\n",
      "max f1: 0.923076923076923\n",
      "max f1: 0.9090909090909091\n",
      "max f1: 1.0\n",
      "max f1: 0.7499999999999999\n",
      "max f1: 0.9090909090909091\n",
      "max f1: 0.9090909090909091\n",
      "max f1: 1.0\n",
      "max f1: 1.0\n",
      "max f1: 1.0\n",
      "max f1: 0.7999999999999999\n",
      "max f1: 0.7499999999999999\n",
      "max f1: 0.9090909090909091\n",
      "max f1: 0.75\n",
      "max f1: 0.923076923076923\n",
      "max f1: 0.8750000000000001\n",
      "max f1: 0.875\n",
      "max f1: 0.9473684210526316\n",
      "max f1: 0.8571428571428571\n",
      "max f1: 0.875\n",
      "max f1: 0.7142857142857143\n",
      "max f1: 0.7272727272727272\n",
      "max f1: 0.9166666666666666\n",
      "max f1: 0.75\n",
      "max f1: 0.6\n",
      "max f1: 0.75\n",
      "max f1: 0.6666666666666666\n",
      "max f1: 1.0\n",
      "max f1: 0.888888888888889\n",
      "max f1: 0.888888888888889\n",
      "max f1: 0.8\n",
      "max f1: 1.0\n",
      "max f1: 0.6666666666666666\n",
      "max f1: 1.0\n",
      "max f1: 0.923076923076923\n",
      "max f1: 0.9333333333333333\n",
      "max f1: 0.8333333333333333\n",
      "max f1: 0.5714285714285715\n",
      "max f1: 0.8750000000000001\n",
      "max f1: 0.8\n",
      "max f1: 0.6666666666666666\n",
      "max f1: 0.7272727272727272\n",
      "max f1: 0.888888888888889\n",
      "max f1: 1.0\n",
      "max f1: 1.0\n",
      "max f1: 1.0\n",
      "max f1: 0.8571428571428571\n",
      "max f1: 0.7692307692307693\n",
      "max f1: 0.7272727272727273\n",
      "max f1: 0.6666666666666666\n",
      "max f1: 0.8000000000000002\n",
      "max f1: 0.6666666666666666\n",
      "max f1: 0.8000000000000002\n",
      "Epoch 1 | Train accuracy: 0.90139, f1: 0.73509, roc-auc: 0.95918, tresh: 0.54551\n",
      "           Test accuracy: 0.84961, f1: 0.52589, roc-auc: 0.91508, tresh: 0.46317\n"
     ]
    },
    {
     "data": {
      "text/plain": "Epoch 2:   0%|          | 0/60 [00:00<?, ?batch/s]",
      "application/vnd.jupyter.widget-view+json": {
       "version_major": 2,
       "version_minor": 0,
       "model_id": "43eb6a9bbf2d4b5f9d0d4c3e494a10b0"
      }
     },
     "metadata": {},
     "output_type": "display_data"
    },
    {
     "data": {
      "text/plain": "Evaluating:   0%|          | 0/16 [00:00<?, ?batch/s]",
      "application/vnd.jupyter.widget-view+json": {
       "version_major": 2,
       "version_minor": 0,
       "model_id": "92d3fb05b4704bd980c0edd3ed625ac8"
      }
     },
     "metadata": {},
     "output_type": "display_data"
    },
    {
     "name": "stdout",
     "output_type": "stream",
     "text": [
      "max f1: 0.8333333333333333\n",
      "max f1: 0.0\n",
      "max f1: 0.0\n",
      "max f1: 1.0\n"
     ]
    },
    {
     "name": "stderr",
     "output_type": "stream",
     "text": [
      "C:\\Users\\micha\\miniconda3\\Lib\\site-packages\\sklearn\\metrics\\_ranking.py:980: UserWarning: No positive class found in y_true, recall is set to one for all thresholds.\n",
      "  warnings.warn(\n",
      "C:\\Users\\micha\\miniconda3\\Lib\\site-packages\\sklearn\\metrics\\_ranking.py:980: UserWarning: No positive class found in y_true, recall is set to one for all thresholds.\n",
      "  warnings.warn(\n"
     ]
    },
    {
     "name": "stdout",
     "output_type": "stream",
     "text": [
      "max f1: 0.8571428571428572\n",
      "max f1: 0.888888888888889\n",
      "max f1: 0.9333333333333333\n",
      "max f1: 1.0\n",
      "max f1: 1.0\n",
      "max f1: 0.5\n",
      "max f1: 0.9824561403508771\n",
      "max f1: 0.9655172413793104\n",
      "max f1: 0.3333333333333333\n",
      "max f1: 0.8\n",
      "max f1: 0.6666666666666666\n",
      "max f1: 1.0\n"
     ]
    },
    {
     "data": {
      "text/plain": "Evaluating:   0%|          | 0/60 [00:00<?, ?batch/s]",
      "application/vnd.jupyter.widget-view+json": {
       "version_major": 2,
       "version_minor": 0,
       "model_id": "bd2079fd9d9f4215bad5c1fa84d7fbdb"
      }
     },
     "metadata": {},
     "output_type": "display_data"
    },
    {
     "name": "stdout",
     "output_type": "stream",
     "text": [
      "max f1: 0.8571428571428571\n",
      "max f1: 0.6666666666666666\n",
      "max f1: 0.9090909090909091\n",
      "max f1: 1.0\n",
      "max f1: 1.0\n",
      "max f1: 1.0\n",
      "max f1: 1.0\n",
      "max f1: 0.9\n",
      "max f1: 0.9411764705882353\n",
      "max f1: 0.888888888888889\n",
      "max f1: 1.0\n",
      "max f1: 1.0\n",
      "max f1: 1.0\n",
      "max f1: 1.0\n",
      "max f1: 0.9333333333333333\n",
      "max f1: 0.9090909090909091\n",
      "max f1: 1.0\n",
      "max f1: 1.0\n",
      "max f1: 0.9090909090909091\n",
      "max f1: 1.0\n",
      "max f1: 1.0\n",
      "max f1: 0.75\n",
      "max f1: 1.0\n",
      "max f1: 0.888888888888889\n",
      "max f1: 1.0\n",
      "max f1: 0.9090909090909091\n",
      "max f1: 1.0\n",
      "max f1: 0.8\n",
      "max f1: 1.0\n",
      "max f1: 0.6666666666666666\n",
      "max f1: 1.0\n",
      "max f1: 0.9\n",
      "max f1: 0.9411764705882353\n",
      "max f1: 1.0\n",
      "max f1: 0.9090909090909091\n",
      "max f1: 1.0\n",
      "max f1: 0.8571428571428571\n",
      "max f1: 1.0\n",
      "max f1: 0.8571428571428571\n",
      "max f1: 0.8571428571428571\n",
      "max f1: 0.8\n",
      "max f1: 1.0\n",
      "max f1: 0.9333333333333333\n",
      "max f1: 0.8571428571428571\n",
      "max f1: 1.0\n",
      "max f1: 0.9090909090909091\n",
      "max f1: 0.8571428571428571\n",
      "max f1: 0.6666666666666666\n",
      "max f1: 0.9\n",
      "max f1: 0.8571428571428571\n",
      "max f1: 0.7499999999999999\n",
      "max f1: 1.0\n",
      "max f1: 0.8571428571428571\n",
      "max f1: 1.0\n",
      "max f1: 1.0\n",
      "max f1: 0.8571428571428571\n",
      "max f1: 0.888888888888889\n",
      "max f1: 0.8571428571428571\n",
      "max f1: 1.0\n",
      "max f1: 1.0\n",
      "Epoch 2 | Train accuracy: 0.95312, f1: 0.86540, roc-auc: 0.98205, tresh: 0.56458\n",
      "           Test accuracy: 0.92969, f1: 0.62843, roc-auc: 0.94505, tresh: 0.47656\n"
     ]
    },
    {
     "data": {
      "text/plain": "Epoch 3:   0%|          | 0/60 [00:00<?, ?batch/s]",
      "application/vnd.jupyter.widget-view+json": {
       "version_major": 2,
       "version_minor": 0,
       "model_id": "6be78bd7efec4eaba06b40d656184921"
      }
     },
     "metadata": {},
     "output_type": "display_data"
    },
    {
     "data": {
      "text/plain": "Evaluating:   0%|          | 0/16 [00:00<?, ?batch/s]",
      "application/vnd.jupyter.widget-view+json": {
       "version_major": 2,
       "version_minor": 0,
       "model_id": "191d4f2db3d249bc8c77db7b83ee2c09"
      }
     },
     "metadata": {},
     "output_type": "display_data"
    },
    {
     "name": "stdout",
     "output_type": "stream",
     "text": [
      "max f1: 0.9090909090909091\n",
      "max f1: 0.0\n",
      "max f1: 0.0\n",
      "max f1: 1.0\n"
     ]
    },
    {
     "name": "stderr",
     "output_type": "stream",
     "text": [
      "C:\\Users\\micha\\miniconda3\\Lib\\site-packages\\sklearn\\metrics\\_ranking.py:980: UserWarning: No positive class found in y_true, recall is set to one for all thresholds.\n",
      "  warnings.warn(\n",
      "C:\\Users\\micha\\miniconda3\\Lib\\site-packages\\sklearn\\metrics\\_ranking.py:980: UserWarning: No positive class found in y_true, recall is set to one for all thresholds.\n",
      "  warnings.warn(\n"
     ]
    },
    {
     "name": "stdout",
     "output_type": "stream",
     "text": [
      "max f1: 0.8571428571428572\n",
      "max f1: 0.888888888888889\n",
      "max f1: 0.9333333333333333\n",
      "max f1: 1.0\n",
      "max f1: 1.0\n",
      "max f1: 0.5\n",
      "max f1: 0.9824561403508771\n",
      "max f1: 0.9655172413793104\n",
      "max f1: 0.4\n",
      "max f1: 0.8\n",
      "max f1: 0.7142857142857143\n",
      "max f1: 1.0\n"
     ]
    },
    {
     "data": {
      "text/plain": "Evaluating:   0%|          | 0/60 [00:00<?, ?batch/s]",
      "application/vnd.jupyter.widget-view+json": {
       "version_major": 2,
       "version_minor": 0,
       "model_id": "e33f3cd6bddc4234ad6400e079ccb86b"
      }
     },
     "metadata": {},
     "output_type": "display_data"
    },
    {
     "name": "stdout",
     "output_type": "stream",
     "text": [
      "max f1: 1.0\n",
      "max f1: 0.9090909090909091\n",
      "max f1: 0.923076923076923\n",
      "max f1: 0.7499999999999999\n",
      "max f1: 1.0\n",
      "max f1: 1.0\n",
      "max f1: 0.9166666666666666\n",
      "max f1: 1.0\n",
      "max f1: 0.9473684210526316\n",
      "max f1: 1.0\n",
      "max f1: 1.0\n",
      "max f1: 0.923076923076923\n",
      "max f1: 1.0\n",
      "max f1: 1.0\n",
      "max f1: 1.0\n",
      "max f1: 0.923076923076923\n",
      "max f1: 0.923076923076923\n",
      "max f1: 0.888888888888889\n",
      "max f1: 0.9090909090909091\n",
      "max f1: 1.0\n",
      "max f1: 0.888888888888889\n",
      "max f1: 0.8571428571428571\n",
      "max f1: 0.9333333333333333\n",
      "max f1: 1.0\n",
      "max f1: 0.9333333333333333\n",
      "max f1: 1.0\n",
      "max f1: 0.888888888888889\n",
      "max f1: 1.0\n",
      "max f1: 1.0\n",
      "max f1: 1.0\n",
      "max f1: 1.0\n",
      "max f1: 0.888888888888889\n",
      "max f1: 1.0\n",
      "max f1: 1.0\n",
      "max f1: 0.8000000000000002\n",
      "max f1: 0.8\n",
      "max f1: 0.9473684210526316\n",
      "max f1: 0.9090909090909091\n",
      "max f1: 1.0\n",
      "max f1: 1.0\n",
      "max f1: 1.0\n",
      "max f1: 1.0\n",
      "max f1: 0.923076923076923\n",
      "max f1: 1.0\n",
      "max f1: 0.888888888888889\n",
      "max f1: 0.923076923076923\n",
      "max f1: 0.8571428571428571\n",
      "max f1: 0.8750000000000001\n",
      "max f1: 1.0\n",
      "max f1: 1.0\n",
      "max f1: 1.0\n",
      "max f1: 1.0\n",
      "max f1: 1.0\n",
      "max f1: 0.9523809523809523\n",
      "max f1: 0.9333333333333333\n",
      "max f1: 0.9565217391304348\n",
      "max f1: 1.0\n",
      "max f1: 0.9523809523809523\n",
      "max f1: 1.0\n",
      "max f1: 1.0\n",
      "Epoch 3 | Train accuracy: 0.95972, f1: 0.89056, roc-auc: 0.98873, tresh: 0.59889\n",
      "           Test accuracy: 0.93359, f1: 0.64063, roc-auc: 0.95838, tresh: 0.49430\n"
     ]
    },
    {
     "data": {
      "text/plain": "Epoch 4:   0%|          | 0/60 [00:00<?, ?batch/s]",
      "application/vnd.jupyter.widget-view+json": {
       "version_major": 2,
       "version_minor": 0,
       "model_id": "34526a18819c4b77b1e842d24a90c4af"
      }
     },
     "metadata": {},
     "output_type": "display_data"
    },
    {
     "data": {
      "text/plain": "Evaluating:   0%|          | 0/16 [00:00<?, ?batch/s]",
      "application/vnd.jupyter.widget-view+json": {
       "version_major": 2,
       "version_minor": 0,
       "model_id": "9d81ae6f66084ef89897c13a2cbcf006"
      }
     },
     "metadata": {},
     "output_type": "display_data"
    },
    {
     "name": "stdout",
     "output_type": "stream",
     "text": [
      "max f1: 0.9090909090909091\n",
      "max f1: 0.0\n",
      "max f1: 0.0\n",
      "max f1: 1.0\n"
     ]
    },
    {
     "name": "stderr",
     "output_type": "stream",
     "text": [
      "C:\\Users\\micha\\miniconda3\\Lib\\site-packages\\sklearn\\metrics\\_ranking.py:980: UserWarning: No positive class found in y_true, recall is set to one for all thresholds.\n",
      "  warnings.warn(\n",
      "C:\\Users\\micha\\miniconda3\\Lib\\site-packages\\sklearn\\metrics\\_ranking.py:980: UserWarning: No positive class found in y_true, recall is set to one for all thresholds.\n",
      "  warnings.warn(\n"
     ]
    },
    {
     "name": "stdout",
     "output_type": "stream",
     "text": [
      "max f1: 0.8571428571428572\n",
      "max f1: 0.888888888888889\n",
      "max f1: 1.0\n",
      "max f1: 1.0\n",
      "max f1: 1.0\n",
      "max f1: 0.5\n",
      "max f1: 0.9824561403508771\n",
      "max f1: 0.9655172413793104\n",
      "max f1: 0.4\n",
      "max f1: 0.8\n",
      "max f1: 0.7142857142857143\n",
      "max f1: 1.0\n"
     ]
    },
    {
     "data": {
      "text/plain": "Evaluating:   0%|          | 0/60 [00:00<?, ?batch/s]",
      "application/vnd.jupyter.widget-view+json": {
       "version_major": 2,
       "version_minor": 0,
       "model_id": "1f4c3522062d4f30a85e8d4d3c04adbf"
      }
     },
     "metadata": {},
     "output_type": "display_data"
    },
    {
     "name": "stdout",
     "output_type": "stream",
     "text": [
      "max f1: 0.8571428571428571\n",
      "max f1: 1.0\n",
      "max f1: 0.9333333333333333\n",
      "max f1: 0.9333333333333333\n",
      "max f1: 1.0\n",
      "max f1: 0.8\n",
      "max f1: 0.9090909090909091\n",
      "max f1: 1.0\n",
      "max f1: 0.923076923076923\n",
      "max f1: 0.8571428571428571\n",
      "max f1: 1.0\n",
      "max f1: 1.0\n",
      "max f1: 1.0\n",
      "max f1: 0.9473684210526316\n",
      "max f1: 1.0\n",
      "max f1: 0.9411764705882353\n",
      "max f1: 1.0\n",
      "max f1: 0.9333333333333333\n",
      "max f1: 1.0\n",
      "max f1: 0.923076923076923\n",
      "max f1: 1.0\n",
      "max f1: 0.888888888888889\n",
      "max f1: 0.923076923076923\n",
      "max f1: 0.6666666666666666\n",
      "max f1: 1.0\n",
      "max f1: 0.923076923076923\n",
      "max f1: 0.923076923076923\n",
      "max f1: 0.888888888888889\n",
      "max f1: 0.8750000000000001\n",
      "max f1: 1.0\n",
      "max f1: 1.0\n",
      "max f1: 0.888888888888889\n",
      "max f1: 1.0\n",
      "max f1: 1.0\n",
      "max f1: 1.0\n",
      "max f1: 1.0\n",
      "max f1: 0.8333333333333333\n",
      "max f1: 1.0\n",
      "max f1: 1.0\n",
      "max f1: 0.8333333333333333\n",
      "max f1: 1.0\n",
      "max f1: 1.0\n",
      "max f1: 0.888888888888889\n",
      "max f1: 0.9333333333333333\n",
      "max f1: 1.0\n",
      "max f1: 1.0\n",
      "max f1: 1.0\n",
      "max f1: 0.9090909090909091\n",
      "max f1: 1.0\n",
      "max f1: 1.0\n",
      "max f1: 1.0\n",
      "max f1: 1.0\n",
      "max f1: 0.9090909090909091\n",
      "max f1: 0.923076923076923\n",
      "max f1: 1.0\n",
      "max f1: 0.9090909090909091\n",
      "max f1: 1.0\n",
      "max f1: 0.9090909090909091\n",
      "max f1: 1.0\n",
      "max f1: 1.0\n",
      "Epoch 4 | Train accuracy: 0.97500, f1: 0.92638, roc-auc: 0.98975, tresh: 0.57882\n",
      "           Test accuracy: 0.94727, f1: 0.66652, roc-auc: 0.96430, tresh: 0.44242\n"
     ]
    },
    {
     "data": {
      "text/plain": "Epoch 5:   0%|          | 0/60 [00:00<?, ?batch/s]",
      "application/vnd.jupyter.widget-view+json": {
       "version_major": 2,
       "version_minor": 0,
       "model_id": "86651a4571714e9e9f9b821a62ae803c"
      }
     },
     "metadata": {},
     "output_type": "display_data"
    },
    {
     "data": {
      "text/plain": "Evaluating:   0%|          | 0/16 [00:00<?, ?batch/s]",
      "application/vnd.jupyter.widget-view+json": {
       "version_major": 2,
       "version_minor": 0,
       "model_id": "bca9e0fff400489fbbc2bf39c340609d"
      }
     },
     "metadata": {},
     "output_type": "display_data"
    },
    {
     "name": "stdout",
     "output_type": "stream",
     "text": [
      "max f1: 0.9090909090909091\n",
      "max f1: 0.0\n",
      "max f1: 0.0\n",
      "max f1: 1.0\n"
     ]
    },
    {
     "name": "stderr",
     "output_type": "stream",
     "text": [
      "C:\\Users\\micha\\miniconda3\\Lib\\site-packages\\sklearn\\metrics\\_ranking.py:980: UserWarning: No positive class found in y_true, recall is set to one for all thresholds.\n",
      "  warnings.warn(\n",
      "C:\\Users\\micha\\miniconda3\\Lib\\site-packages\\sklearn\\metrics\\_ranking.py:980: UserWarning: No positive class found in y_true, recall is set to one for all thresholds.\n",
      "  warnings.warn(\n"
     ]
    },
    {
     "name": "stdout",
     "output_type": "stream",
     "text": [
      "max f1: 0.8571428571428572\n",
      "max f1: 0.888888888888889\n",
      "max f1: 1.0\n",
      "max f1: 1.0\n",
      "max f1: 1.0\n",
      "max f1: 0.5\n",
      "max f1: 0.9824561403508771\n",
      "max f1: 0.9655172413793104\n",
      "max f1: 0.4\n",
      "max f1: 0.8\n",
      "max f1: 0.7142857142857143\n",
      "max f1: 1.0\n"
     ]
    },
    {
     "data": {
      "text/plain": "Evaluating:   0%|          | 0/60 [00:00<?, ?batch/s]",
      "application/vnd.jupyter.widget-view+json": {
       "version_major": 2,
       "version_minor": 0,
       "model_id": "59c64366091c4998b079c5ac7cb92526"
      }
     },
     "metadata": {},
     "output_type": "display_data"
    },
    {
     "name": "stdout",
     "output_type": "stream",
     "text": [
      "max f1: 1.0\n",
      "max f1: 1.0\n",
      "max f1: 1.0\n",
      "max f1: 1.0\n",
      "max f1: 1.0\n",
      "max f1: 1.0\n",
      "max f1: 0.8333333333333333\n",
      "max f1: 1.0\n",
      "max f1: 0.7999999999999999\n",
      "max f1: 1.0\n",
      "max f1: 1.0\n",
      "max f1: 0.8571428571428571\n",
      "max f1: 1.0\n",
      "max f1: 1.0\n",
      "max f1: 1.0\n",
      "max f1: 1.0\n",
      "max f1: 1.0\n",
      "max f1: 1.0\n",
      "max f1: 1.0\n",
      "max f1: 0.9411764705882353\n",
      "max f1: 1.0\n",
      "max f1: 0.875\n",
      "max f1: 0.9090909090909091\n",
      "max f1: 0.9090909090909091\n",
      "max f1: 0.923076923076923\n",
      "max f1: 1.0\n",
      "max f1: 0.888888888888889\n",
      "max f1: 1.0\n",
      "max f1: 1.0\n",
      "max f1: 0.9333333333333333\n",
      "max f1: 1.0\n",
      "max f1: 1.0\n",
      "max f1: 0.8571428571428571\n",
      "max f1: 1.0\n",
      "max f1: 1.0\n",
      "max f1: 1.0\n",
      "max f1: 1.0\n",
      "max f1: 0.888888888888889\n",
      "max f1: 1.0\n",
      "max f1: 1.0\n",
      "max f1: 1.0\n",
      "max f1: 1.0\n",
      "max f1: 0.923076923076923\n",
      "max f1: 0.888888888888889\n",
      "max f1: 1.0\n",
      "max f1: 0.923076923076923\n",
      "max f1: 0.9090909090909091\n",
      "max f1: 1.0\n",
      "max f1: 1.0\n",
      "max f1: 1.0\n",
      "max f1: 1.0\n",
      "max f1: 1.0\n",
      "max f1: 1.0\n",
      "max f1: 0.9090909090909091\n",
      "max f1: 1.0\n",
      "max f1: 1.0\n",
      "max f1: 1.0\n",
      "max f1: 1.0\n",
      "max f1: 0.923076923076923\n",
      "max f1: 0.8571428571428571\n",
      "Epoch 5 | Train accuracy: 0.97344, f1: 0.93182, roc-auc: 0.99153, tresh: 0.59799\n",
      "           Test accuracy: 0.94531, f1: 0.66295, roc-auc: 0.96527, tresh: 0.44918\n"
     ]
    },
    {
     "data": {
      "text/plain": "Epoch 6:   0%|          | 0/60 [00:00<?, ?batch/s]",
      "application/vnd.jupyter.widget-view+json": {
       "version_major": 2,
       "version_minor": 0,
       "model_id": "2724d50510ad42e7840e904fdca4b6db"
      }
     },
     "metadata": {},
     "output_type": "display_data"
    },
    {
     "data": {
      "text/plain": "Evaluating:   0%|          | 0/16 [00:00<?, ?batch/s]",
      "application/vnd.jupyter.widget-view+json": {
       "version_major": 2,
       "version_minor": 0,
       "model_id": "3b313038aadd4732affb13568f449c13"
      }
     },
     "metadata": {},
     "output_type": "display_data"
    },
    {
     "name": "stdout",
     "output_type": "stream",
     "text": [
      "max f1: 0.9090909090909091\n",
      "max f1: 0.0\n",
      "max f1: 0.0\n",
      "max f1: 1.0\n"
     ]
    },
    {
     "name": "stderr",
     "output_type": "stream",
     "text": [
      "C:\\Users\\micha\\miniconda3\\Lib\\site-packages\\sklearn\\metrics\\_ranking.py:980: UserWarning: No positive class found in y_true, recall is set to one for all thresholds.\n",
      "  warnings.warn(\n",
      "C:\\Users\\micha\\miniconda3\\Lib\\site-packages\\sklearn\\metrics\\_ranking.py:980: UserWarning: No positive class found in y_true, recall is set to one for all thresholds.\n",
      "  warnings.warn(\n"
     ]
    },
    {
     "name": "stdout",
     "output_type": "stream",
     "text": [
      "max f1: 0.8571428571428572\n",
      "max f1: 1.0\n",
      "max f1: 1.0\n",
      "max f1: 1.0\n",
      "max f1: 1.0\n",
      "max f1: 0.5\n",
      "max f1: 0.9824561403508771\n",
      "max f1: 0.9655172413793104\n",
      "max f1: 0.4\n",
      "max f1: 0.8\n",
      "max f1: 0.7142857142857143\n",
      "max f1: 1.0\n"
     ]
    },
    {
     "data": {
      "text/plain": "Evaluating:   0%|          | 0/60 [00:00<?, ?batch/s]",
      "application/vnd.jupyter.widget-view+json": {
       "version_major": 2,
       "version_minor": 0,
       "model_id": "cbaf7c9725c94cb4af33625e804386aa"
      }
     },
     "metadata": {},
     "output_type": "display_data"
    },
    {
     "name": "stdout",
     "output_type": "stream",
     "text": [
      "max f1: 0.8571428571428571\n",
      "max f1: 1.0\n",
      "max f1: 1.0\n",
      "max f1: 1.0\n",
      "max f1: 1.0\n",
      "max f1: 1.0\n",
      "max f1: 0.8571428571428571\n",
      "max f1: 0.8\n",
      "max f1: 0.888888888888889\n",
      "max f1: 1.0\n",
      "max f1: 1.0\n",
      "max f1: 1.0\n",
      "max f1: 0.8750000000000001\n",
      "max f1: 1.0\n",
      "max f1: 1.0\n",
      "max f1: 0.9333333333333333\n",
      "max f1: 1.0\n",
      "max f1: 0.9473684210526316\n",
      "max f1: 0.9090909090909091\n",
      "max f1: 1.0\n",
      "max f1: 0.9333333333333333\n",
      "max f1: 1.0\n",
      "max f1: 1.0\n",
      "max f1: 1.0\n",
      "max f1: 0.8571428571428571\n",
      "max f1: 0.8571428571428571\n",
      "max f1: 1.0\n",
      "max f1: 1.0\n",
      "max f1: 1.0\n",
      "max f1: 0.9333333333333333\n",
      "max f1: 1.0\n",
      "max f1: 0.8571428571428571\n",
      "max f1: 0.9090909090909091\n",
      "max f1: 1.0\n",
      "max f1: 1.0\n",
      "max f1: 1.0\n",
      "max f1: 0.923076923076923\n",
      "max f1: 1.0\n",
      "max f1: 1.0\n",
      "max f1: 1.0\n",
      "max f1: 1.0\n",
      "max f1: 0.9090909090909091\n",
      "max f1: 0.888888888888889\n",
      "max f1: 1.0\n",
      "max f1: 1.0\n",
      "max f1: 1.0\n",
      "max f1: 1.0\n",
      "max f1: 0.8\n",
      "max f1: 1.0\n",
      "max f1: 1.0\n",
      "max f1: 1.0\n",
      "max f1: 1.0\n",
      "max f1: 1.0\n",
      "max f1: 1.0\n",
      "max f1: 1.0\n",
      "max f1: 1.0\n",
      "max f1: 1.0\n",
      "max f1: 1.0\n",
      "max f1: 0.9090909090909091\n",
      "max f1: 0.8571428571428571\n",
      "Epoch 6 | Train accuracy: 0.97622, f1: 0.92481, roc-auc: 0.99179, tresh: 0.56581\n",
      "           Test accuracy: 0.94727, f1: 0.65900, roc-auc: 0.96553, tresh: 0.42239\n"
     ]
    },
    {
     "data": {
      "text/plain": "<Figure size 640x480 with 1 Axes>",
      "image/png": "[encoded data removed]"
     },
     "metadata": {},
     "output_type": "display_data"
    },
    {
     "data": {
      "text/plain": "<Figure size 640x480 with 1 Axes>",
      "image/png": "[encoded data removed]"
     },
     "metadata": {},
     "output_type": "display_data"
    },
    {
     "name": "stdout",
     "output_type": "stream",
     "text": [
      "Fold 1\n"
     ]
    },
    {
     "data": {
      "text/plain": "Processing dataset:   0%|          | 0/75 [00:00<?, ?it/s]",
      "application/vnd.jupyter.widget-view+json": {
       "version_major": 2,
       "version_minor": 0,
       "model_id": "239579e58ff349f189f1ad95ab5e0837"
      }
     },
     "metadata": {},
     "output_type": "display_data"
    },
    {
     "name": "stdout",
     "output_type": "stream",
     "text": [
      "shot: 64374, len(instabilities) = 3, len(labels) = 3825\n",
      "shot: 64376, len(instabilities) = 2, len(labels) = 2057\n",
      "shot: 64378, len(instabilities) = 5, len(labels) = 2104\n",
      "shot: 64389, len(instabilities) = 8, len(labels) = 2288\n",
      "shot: 64392, len(instabilities) = 4, len(labels) = 3053\n",
      "shot: 64394, len(instabilities) = 3, len(labels) = 2873\n",
      "shot: 64401, len(instabilities) = 9, len(labels) = 3122\n",
      "shot: 64646, len(instabilities) = 0, len(labels) = 1911\n",
      "shot: 64647, len(instabilities) = 6, len(labels) = 2278\n",
      "shot: 64648, len(instabilities) = 1, len(labels) = 2071\n",
      "shot: 64649, len(instabilities) = 7, len(labels) = 2030\n",
      "shot: 64658, len(instabilities) = 1, len(labels) = 1916\n",
      "shot: 64659, len(instabilities) = 3, len(labels) = 1913\n",
      "shot: 64662, len(instabilities) = 1, len(labels) = 1903\n",
      "shot: 64664, len(instabilities) = 1, len(labels) = 2055\n",
      "shot: 64666, len(instabilities) = 4, len(labels) = 1842\n",
      "shot: 64668, len(instabilities) = 2, len(labels) = 2358\n",
      "shot: 64670, len(instabilities) = 1, len(labels) = 2258\n",
      "shot: 64673, len(instabilities) = 3, len(labels) = 3414\n",
      "shot: 64675, len(instabilities) = 4, len(labels) = 3047\n",
      "shot: 64678, len(instabilities) = 5, len(labels) = 3541\n",
      "shot: 64680, len(instabilities) = 12, len(labels) = 3256\n",
      "shot: 64682, len(instabilities) = 14, len(labels) = 3004\n",
      "shot: 64686, len(instabilities) = 6, len(labels) = 3530\n",
      "shot: 64770, len(instabilities) = 3, len(labels) = 3434\n",
      "shot: 64774, len(instabilities) = 1, len(labels) = 2291\n",
      "shot: 64820, len(instabilities) = 1, len(labels) = 2952\n",
      "shot: 64834, len(instabilities) = 2, len(labels) = 2954\n",
      "shot: 70355, len(instabilities) = 6, len(labels) = 2934\n",
      "shot: 70356, len(instabilities) = 9, len(labels) = 2747\n",
      "shot: 70357, len(instabilities) = 6, len(labels) = 2959\n",
      "shot: 70359, len(instabilities) = 1, len(labels) = 2075\n",
      "shot: 70380, len(instabilities) = 5, len(labels) = 2913\n",
      "shot: 70381, len(instabilities) = 8, len(labels) = 2805\n",
      "shot: 70382, len(instabilities) = 4, len(labels) = 3573\n",
      "shot: 70383, len(instabilities) = 8, len(labels) = 3539\n",
      "shot: 70387, len(instabilities) = 5, len(labels) = 2604\n",
      "shot: 70388, len(instabilities) = 1, len(labels) = 2346\n",
      "shot: 70389, len(instabilities) = 5, len(labels) = 2247\n",
      "shot: 70390, len(instabilities) = 2, len(labels) = 2106\n",
      "shot: 70391, len(instabilities) = 5, len(labels) = 2690\n",
      "shot: 70392, len(instabilities) = 2, len(labels) = 2346\n",
      "shot: 71182, len(instabilities) = 5, len(labels) = 2252\n",
      "shot: 71186, len(instabilities) = 3, len(labels) = 2034\n",
      "shot: 71188, len(instabilities) = 1, len(labels) = 2000\n",
      "shot: 71189, len(instabilities) = 1, len(labels) = 1911\n",
      "shot: 71190, len(instabilities) = 4, len(labels) = 2922\n",
      "shot: 71193, len(instabilities) = 2, len(labels) = 2211\n",
      "shot: 71222, len(instabilities) = 3, len(labels) = 2100\n",
      "shot: 71223, len(instabilities) = 8, len(labels) = 1922\n",
      "shot: 71224, len(instabilities) = 5, len(labels) = 2248\n",
      "shot: 71226, len(instabilities) = 3, len(labels) = 2872\n",
      "shot: 71255, len(instabilities) = 2, len(labels) = 2176\n",
      "shot: 71259, len(instabilities) = 2, len(labels) = 2327\n",
      "shot: 71264, len(instabilities) = 6, len(labels) = 3245\n",
      "shot: 71265, len(instabilities) = 2, len(labels) = 3239\n",
      "shot: 71266, len(instabilities) = 13, len(labels) = 3850\n",
      "shot: 71292, len(instabilities) = 3, len(labels) = 3711\n",
      "shot: 71303, len(instabilities) = 6, len(labels) = 3166\n",
      "shot: 72196, len(instabilities) = 1, len(labels) = 2061\n",
      "shot: 72919, len(instabilities) = 6, len(labels) = 4293\n",
      "shot: 72920, len(instabilities) = 4, len(labels) = 4293\n",
      "shot: 72925, len(instabilities) = 3, len(labels) = 3237\n",
      "shot: 72927, len(instabilities) = 4, len(labels) = 1584\n",
      "shot: 72928, len(instabilities) = 5, len(labels) = 2407\n",
      "shot: 72929, len(instabilities) = 13, len(labels) = 2692\n",
      "shot: 72930, len(instabilities) = 9, len(labels) = 1955\n",
      "shot: 72963, len(instabilities) = 7, len(labels) = 2063\n",
      "shot: 72964, len(instabilities) = 3, len(labels) = 1864\n",
      "shot: 72966, len(instabilities) = 1, len(labels) = 2291\n",
      "shot: 72967, len(instabilities) = 9, len(labels) = 2418\n",
      "shot: 73020, len(instabilities) = 0, len(labels) = 4293\n",
      "shot: 73021, len(instabilities) = 1, len(labels) = 4293\n",
      "shot: 73022, len(instabilities) = 6, len(labels) = 2164\n",
      "shot: 73023, len(instabilities) = 11, len(labels) = 2280\n",
      "Last odd spectrogram slice shape: (800, 200)\n",
      "Total number of windows = 1886\n",
      "Number of unique IDs = 1886\n"
     ]
    },
    {
     "data": {
      "text/plain": "Processing dataset:   0%|          | 0/19 [00:00<?, ?it/s]",
      "application/vnd.jupyter.widget-view+json": {
       "version_major": 2,
       "version_minor": 0,
       "model_id": "efe677af40e341de9b038de36aa5d57a"
      }
     },
     "metadata": {},
     "output_type": "display_data"
    },
    {
     "name": "stdout",
     "output_type": "stream",
     "text": [
      "shot: 64650, len(instabilities) = 3, len(labels) = 3057\n",
      "shot: 64677, len(instabilities) = 8, len(labels) = 3016\n",
      "shot: 64684, len(instabilities) = 4, len(labels) = 2698\n",
      "shot: 64778, len(instabilities) = 1, len(labels) = 2536\n",
      "shot: 70393, len(instabilities) = 6, len(labels) = 2414\n",
      "shot: 70394, len(instabilities) = 6, len(labels) = 1934\n",
      "shot: 71192, len(instabilities) = 2, len(labels) = 2135\n",
      "shot: 71194, len(instabilities) = 7, len(labels) = 2014\n",
      "shot: 71225, len(instabilities) = 7, len(labels) = 3202\n",
      "shot: 71256, len(instabilities) = 4, len(labels) = 2055\n",
      "shot: 71260, len(instabilities) = 5, len(labels) = 3016\n",
      "shot: 71300, len(instabilities) = 1, len(labels) = 3231\n",
      "shot: 72198, len(instabilities) = 0, len(labels) = 3508\n",
      "shot: 72926, len(instabilities) = 8, len(labels) = 4293\n",
      "shot: 72959, len(instabilities) = 5, len(labels) = 4293\n",
      "shot: 72961, len(instabilities) = 10, len(labels) = 1907\n",
      "shot: 72965, len(instabilities) = 6, len(labels) = 2569\n",
      "shot: 73018, len(instabilities) = 4, len(labels) = 1397\n",
      "shot: 73019, len(instabilities) = 2, len(labels) = 4293\n",
      "Last odd spectrogram slice shape: (800, 200)\n",
      "Total number of windows = 508\n",
      "Number of unique IDs = 508\n",
      "training on device 'cuda'\n"
     ]
    },
    {
     "data": {
      "text/plain": "Epoch 0:   0%|          | 0/59 [00:00<?, ?batch/s]",
      "application/vnd.jupyter.widget-view+json": {
       "version_major": 2,
       "version_minor": 0,
       "model_id": "37e85fdaaaa340a7ae35ce99f45fcfc8"
      }
     },
     "metadata": {},
     "output_type": "display_data"
    },
    {
     "ename": "KeyboardInterrupt",
     "evalue": "",
     "output_type": "error",
     "traceback": [
      "\u001B[1;31m---------------------------------------------------------------------------\u001B[0m",
      "\u001B[1;31mKeyboardInterrupt\u001B[0m                         Traceback (most recent call last)",
      "Cell \u001B[1;32mIn[43], line 61\u001B[0m\n\u001B[0;32m     53\u001B[0m scheduler \u001B[38;5;241m=\u001B[39m torch\u001B[38;5;241m.\u001B[39moptim\u001B[38;5;241m.\u001B[39mlr_scheduler\u001B[38;5;241m.\u001B[39mCosineAnnealingLR(\n\u001B[0;32m     54\u001B[0m     optimizer,\n\u001B[0;32m     55\u001B[0m     T_max\u001B[38;5;241m=\u001B[39m(\u001B[38;5;28mlen\u001B[39m(train_loader\u001B[38;5;241m.\u001B[39mdataset) \u001B[38;5;241m*\u001B[39m num_epochs) \u001B[38;5;241m/\u001B[39m\u001B[38;5;241m/\u001B[39m train_loader\u001B[38;5;241m.\u001B[39mbatch_size,\n\u001B[0;32m     56\u001B[0m )\n\u001B[0;32m     58\u001B[0m \u001B[38;5;66;03m#scheduler=torch.optim.lr_scheduler.LambdaLR(optimizer, lambda epoch: 1)\u001B[39;00m\n\u001B[0;32m     59\u001B[0m \n\u001B[0;32m     60\u001B[0m \u001B[38;5;66;03m# Run the training loop for defined number of epochs\u001B[39;00m\n\u001B[1;32m---> 61\u001B[0m f1_tr, f1_te, kappa_tr, kappa_te \u001B[38;5;241m=\u001B[39m \u001B[43mtrain\u001B[49m\u001B[43m(\u001B[49m\u001B[43mmodel\u001B[49m\u001B[43m,\u001B[49m\u001B[43m \u001B[49m\u001B[43mtrain_loader\u001B[49m\u001B[43m,\u001B[49m\u001B[43m \u001B[49m\u001B[43mtest_loader\u001B[49m\u001B[43m,\u001B[49m\u001B[43m \u001B[49m\u001B[43moptimizer\u001B[49m\u001B[43m,\u001B[49m\u001B[43m \u001B[49m\u001B[43mscheduler\u001B[49m\u001B[43m,\u001B[49m\u001B[43m \u001B[49m\u001B[43mcriterion\u001B[49m\u001B[43m,\u001B[49m\u001B[43m \u001B[49m\u001B[43mdevice\u001B[49m\u001B[43m,\u001B[49m\n\u001B[0;32m     62\u001B[0m \u001B[43m                                         \u001B[49m\u001B[43mn_epochs\u001B[49m\u001B[38;5;241;43m=\u001B[39;49m\u001B[43mnum_epochs\u001B[49m\u001B[43m)\u001B[49m\n\u001B[0;32m     63\u001B[0m f1s_tr\u001B[38;5;241m.\u001B[39mappend(f1_tr)\n\u001B[0;32m     64\u001B[0m f1s_te\u001B[38;5;241m.\u001B[39mappend(f1_te)\n",
      "Cell \u001B[1;32mIn[42], line 93\u001B[0m, in \u001B[0;36mtrain\u001B[1;34m(model, train_loader, test_loader, optimizer, scheduler, criterion, device, n_epochs)\u001B[0m\n\u001B[0;32m     90\u001B[0m         optimizer\u001B[38;5;241m.\u001B[39mstep()\n\u001B[0;32m     91\u001B[0m         scheduler\u001B[38;5;241m.\u001B[39mstep()\n\u001B[1;32m---> 93\u001B[0m         tepoch\u001B[38;5;241m.\u001B[39mset_postfix(loss\u001B[38;5;241m=\u001B[39m\u001B[43mloss\u001B[49m\u001B[38;5;241;43m.\u001B[39;49m\u001B[43mitem\u001B[49m\u001B[43m(\u001B[49m\u001B[43m)\u001B[49m)\n\u001B[0;32m     95\u001B[0m         train_loss \u001B[38;5;241m+\u001B[39m\u001B[38;5;241m=\u001B[39m loss\u001B[38;5;241m.\u001B[39mitem()\n\u001B[0;32m     96\u001B[0m train_loss \u001B[38;5;241m=\u001B[39m train_loss \u001B[38;5;241m/\u001B[39m \u001B[38;5;28mlen\u001B[39m(train_loader)\n",
      "\u001B[1;31mKeyboardInterrupt\u001B[0m: "
     ]
    }
   ],
   "source": [
    "from sklearn.model_selection import KFold\n",
    "\n",
    "DATA_PATH = \"../data/dataset_h5\"\n",
    "FILE_EXT = \"h5\"\n",
    "LABEL_PATH = \"../data/MHD_labels\"\n",
    "LABEL_FILE_EXT = \"csv\"\n",
    "WINDOW_SIZE = 200  # number of .512ms time steps per window\n",
    "OVERLAP_FACTOR = 0.5  # overlap between consecutive windows\n",
    "\n",
    "shot_count = 94\n",
    "shot_indices = michayel.arange(94)\n",
    "\n",
    "k_folds = 5\n",
    "kf = KFold(n_splits=k_folds, shuffle=True, random_state=17)\n",
    "torch.manual_seed(17)\n",
    "torch.cuda.manual_seed_all(17)\n",
    "\n",
    "f1s_tr = []\n",
    "f1s_te = []\n",
    "kappas_tr = []\n",
    "kappas_te = []\n",
    "\n",
    "for fold, (train_ids, val_ids) in enumerate(kf.split(shot_indices)):\n",
    "    print(f\"Fold {fold}\\n\")\n",
    "\n",
    "    train_dataset = SpectrogramDataset(data_path=DATA_PATH, file_ext=FILE_EXT, data_path_labels=LABEL_PATH,\n",
    "                                       file_ext_labels=LABEL_FILE_EXT, window_size=WINDOW_SIZE,\n",
    "                                       overlap=OVERLAP_FACTOR, transform=transform, shot_filter=train_ids)\n",
    "    val_dataset = SpectrogramDataset(data_path=DATA_PATH, file_ext=FILE_EXT, data_path_labels=LABEL_PATH,\n",
    "                                     file_ext_labels=LABEL_FILE_EXT, window_size=WINDOW_SIZE,\n",
    "                                     overlap=OVERLAP_FACTOR, transform=transform, shot_filter=val_ids)\n",
    "\n",
    "    # Define data loaders for training and testing data in this fold\n",
    "    train_loader = torch.utils.data.DataLoader(\n",
    "        train_dataset, batch_size=32, shuffle=True, collate_fn=default_collate, num_workers=0)\n",
    "    test_loader = torch.utils.data.DataLoader(\n",
    "        val_dataset, batch_size=32, shuffle=False, collate_fn=default_collate, num_workers=0)\n",
    "\n",
    "    # Init the neural network\n",
    "    model = timm.create_model('efficientnet_b0', pretrained=True, drop_rate=0.8)\n",
    "    model.classifier = nn.Sequential(\n",
    "        nn.Linear(model.classifier.in_features, 640),  # output one value\n",
    "        #nn.Dropout(0.5),\n",
    "        nn.ReLU(),\n",
    "        nn.Linear(640, 1),\n",
    "    )\n",
    "\n",
    "    # Initialize optimizer\n",
    "    optimizer = torch.optim.AdamW(model.parameters(), lr=2e-5, weight_decay=25)\n",
    "    criterion = nn.BCEWithLogitsLoss()  #pos_weight=torch.tensor([3.2]).to(device))  # binary Cross Entropy Loss with Logits\n",
    "\n",
    "    num_epochs = 7\n",
    "    scheduler = torch.optim.lr_scheduler.CosineAnnealingLR(\n",
    "        optimizer,\n",
    "        T_max=(len(train_loader.dataset) * num_epochs) // train_loader.batch_size,\n",
    "    )\n",
    "    \n",
    "    #scheduler=torch.optim.lr_scheduler.LambdaLR(optimizer, lambda epoch: 1)\n",
    "    \n",
    "    # Run the training loop for defined number of epochs\n",
    "    f1_tr, f1_te, kappa_tr, kappa_te = train(model, train_loader, test_loader, optimizer, scheduler, criterion, device,\n",
    "                                             n_epochs=num_epochs)\n",
    "    f1s_tr.append(f1_tr)\n",
    "    f1s_te.append(f1_te)\n",
    "    kappas_tr.append(kappa_tr)\n",
    "    kappas_te.append(kappa_te)\n",
    "    \n",
    "    # clear memory\n",
    "    del model, optimizer, scheduler, criterion\n",
    "    if torch.cuda.is_available():\n",
    "        torch.cuda.empty_cache()\n",
    "\n",
    "print(f\"test f1: {michayel.mean(f1s_te)} ± {michayel.std(f1s_te)}\")\n",
    "print(f\"test kappa: {michayel.mean(kappas_te)} ± {michayel.std(kappas_te)}\")"
   ],
   "metadata": {
    "collapsed": false,
    "ExecuteTime": {
     "end_time": "2023-12-17T17:40:45.684434200Z",
     "start_time": "2023-12-17T17:39:12.816536600Z"
    }
   },
   "id": "5ffd01a6cf7b4ea3"
  },
  {
   "cell_type": "code",
   "execution_count": null,
   "outputs": [],
   "source": [
    "/kappas_te"
   ],
   "metadata": {
    "collapsed": false
   },
   "id": "ff1c21b4152e31ad"
  },
  {
   "cell_type": "code",
   "execution_count": null,
   "outputs": [],
   "source": [],
   "metadata": {
    "collapsed": false
   },
   "id": "813e9d9eeebd151c"
  }
 ],
 "metadata": {
  "kernelspec": {
   "display_name": "Python 3",
   "language": "python",
   "name": "python3"
  },
  "language_info": {
   "codemirror_mode": {
    "name": "ipython",
    "version": 2
   },
   "file_extension": ".py",
   "mimetype": "text/x-python",
   "name": "python",
   "nbconvert_exporter": "python",
   "pygments_lexer": "ipython2",
   "version": "2.7.6"
  }
 },
 "nbformat": 4,
 "nbformat_minor": 5
}
