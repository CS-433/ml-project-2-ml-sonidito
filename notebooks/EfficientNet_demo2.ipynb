{
 "cells": [
  {
   "cell_type": "code",
   "execution_count": 1,
   "id": "initial_id",
   "metadata": {
    "collapsed": true,
    "ExecuteTime": {
     "end_time": "2023-12-13T19:17:41.184579Z",
     "start_time": "2023-12-13T19:17:39.564585Z"
    }
   },
   "outputs": [],
   "source": [
    "%load_ext autoreload\n",
    "%autoreload 2\n",
    "\n",
    "import sys\n",
    "\n",
    "sys.path.append('../src/')\n",
    "\n",
    "import torch\n",
    "import torch.nn as nn\n",
    "import torchvision\n",
    "import torchvision.transforms as transforms\n",
    "from torch.utils.data import DataLoader, Dataset\n",
    "import torchvision.models as models\n",
    "from dataloading import SpectrogramDataset, custom_collate\n",
    "\n",
    "from torchsummary import summary"
   ]
  },
  {
   "cell_type": "code",
   "execution_count": 2,
   "outputs": [],
   "source": [
    "device = \"mps\" if torch.backends.mps.is_available() else \"cuda\" if torch.cuda.is_available() else \"cpu\""
   ],
   "metadata": {
    "collapsed": false,
    "ExecuteTime": {
     "end_time": "2023-12-13T19:17:41.269811Z",
     "start_time": "2023-12-13T19:17:41.206582Z"
    }
   },
   "id": "11e6e24060a24582"
  },
  {
   "cell_type": "code",
   "execution_count": 3,
   "outputs": [
    {
     "name": "stdout",
     "output_type": "stream",
     "text": [
      "1280\n",
      "----------------------------------------------------------------\n",
      "        Layer (type)               Output Shape         Param #\n",
      "================================================================\n",
      "            Conv2d-1         [-1, 32, 112, 112]             864\n",
      "          Identity-2         [-1, 32, 112, 112]               0\n",
      "              SiLU-3         [-1, 32, 112, 112]               0\n",
      "    BatchNormAct2d-4         [-1, 32, 112, 112]              64\n",
      "            Conv2d-5         [-1, 32, 112, 112]             288\n",
      "          Identity-6         [-1, 32, 112, 112]               0\n",
      "              SiLU-7         [-1, 32, 112, 112]               0\n",
      "    BatchNormAct2d-8         [-1, 32, 112, 112]              64\n",
      "            Conv2d-9              [-1, 8, 1, 1]             264\n",
      "             SiLU-10              [-1, 8, 1, 1]               0\n",
      "           Conv2d-11             [-1, 32, 1, 1]             288\n",
      "          Sigmoid-12             [-1, 32, 1, 1]               0\n",
      "    SqueezeExcite-13         [-1, 32, 112, 112]               0\n",
      "           Conv2d-14         [-1, 16, 112, 112]             512\n",
      "         Identity-15         [-1, 16, 112, 112]               0\n",
      "         Identity-16         [-1, 16, 112, 112]               0\n",
      "   BatchNormAct2d-17         [-1, 16, 112, 112]              32\n",
      "DepthwiseSeparableConv-18         [-1, 16, 112, 112]               0\n",
      "           Conv2d-19         [-1, 96, 112, 112]           1,536\n",
      "         Identity-20         [-1, 96, 112, 112]               0\n",
      "             SiLU-21         [-1, 96, 112, 112]               0\n",
      "   BatchNormAct2d-22         [-1, 96, 112, 112]             192\n",
      "           Conv2d-23           [-1, 96, 56, 56]             864\n",
      "         Identity-24           [-1, 96, 56, 56]               0\n",
      "             SiLU-25           [-1, 96, 56, 56]               0\n",
      "   BatchNormAct2d-26           [-1, 96, 56, 56]             192\n",
      "           Conv2d-27              [-1, 4, 1, 1]             388\n",
      "             SiLU-28              [-1, 4, 1, 1]               0\n",
      "           Conv2d-29             [-1, 96, 1, 1]             480\n",
      "          Sigmoid-30             [-1, 96, 1, 1]               0\n",
      "    SqueezeExcite-31           [-1, 96, 56, 56]               0\n",
      "           Conv2d-32           [-1, 24, 56, 56]           2,304\n",
      "         Identity-33           [-1, 24, 56, 56]               0\n",
      "         Identity-34           [-1, 24, 56, 56]               0\n",
      "   BatchNormAct2d-35           [-1, 24, 56, 56]              48\n",
      " InvertedResidual-36           [-1, 24, 56, 56]               0\n",
      "           Conv2d-37          [-1, 144, 56, 56]           3,456\n",
      "         Identity-38          [-1, 144, 56, 56]               0\n",
      "             SiLU-39          [-1, 144, 56, 56]               0\n",
      "   BatchNormAct2d-40          [-1, 144, 56, 56]             288\n",
      "           Conv2d-41          [-1, 144, 56, 56]           1,296\n",
      "         Identity-42          [-1, 144, 56, 56]               0\n",
      "             SiLU-43          [-1, 144, 56, 56]               0\n",
      "   BatchNormAct2d-44          [-1, 144, 56, 56]             288\n",
      "           Conv2d-45              [-1, 6, 1, 1]             870\n",
      "             SiLU-46              [-1, 6, 1, 1]               0\n",
      "           Conv2d-47            [-1, 144, 1, 1]           1,008\n",
      "          Sigmoid-48            [-1, 144, 1, 1]               0\n",
      "    SqueezeExcite-49          [-1, 144, 56, 56]               0\n",
      "           Conv2d-50           [-1, 24, 56, 56]           3,456\n",
      "         Identity-51           [-1, 24, 56, 56]               0\n",
      "         Identity-52           [-1, 24, 56, 56]               0\n",
      "   BatchNormAct2d-53           [-1, 24, 56, 56]              48\n",
      "         Identity-54           [-1, 24, 56, 56]               0\n",
      " InvertedResidual-55           [-1, 24, 56, 56]               0\n",
      "           Conv2d-56          [-1, 144, 56, 56]           3,456\n",
      "         Identity-57          [-1, 144, 56, 56]               0\n",
      "             SiLU-58          [-1, 144, 56, 56]               0\n",
      "   BatchNormAct2d-59          [-1, 144, 56, 56]             288\n",
      "           Conv2d-60          [-1, 144, 28, 28]           3,600\n",
      "         Identity-61          [-1, 144, 28, 28]               0\n",
      "             SiLU-62          [-1, 144, 28, 28]               0\n",
      "   BatchNormAct2d-63          [-1, 144, 28, 28]             288\n",
      "           Conv2d-64              [-1, 6, 1, 1]             870\n",
      "             SiLU-65              [-1, 6, 1, 1]               0\n",
      "           Conv2d-66            [-1, 144, 1, 1]           1,008\n",
      "          Sigmoid-67            [-1, 144, 1, 1]               0\n",
      "    SqueezeExcite-68          [-1, 144, 28, 28]               0\n",
      "           Conv2d-69           [-1, 40, 28, 28]           5,760\n",
      "         Identity-70           [-1, 40, 28, 28]               0\n",
      "         Identity-71           [-1, 40, 28, 28]               0\n",
      "   BatchNormAct2d-72           [-1, 40, 28, 28]              80\n",
      " InvertedResidual-73           [-1, 40, 28, 28]               0\n",
      "           Conv2d-74          [-1, 240, 28, 28]           9,600\n",
      "         Identity-75          [-1, 240, 28, 28]               0\n",
      "             SiLU-76          [-1, 240, 28, 28]               0\n",
      "   BatchNormAct2d-77          [-1, 240, 28, 28]             480\n",
      "           Conv2d-78          [-1, 240, 28, 28]           6,000\n",
      "         Identity-79          [-1, 240, 28, 28]               0\n",
      "             SiLU-80          [-1, 240, 28, 28]               0\n",
      "   BatchNormAct2d-81          [-1, 240, 28, 28]             480\n",
      "           Conv2d-82             [-1, 10, 1, 1]           2,410\n",
      "             SiLU-83             [-1, 10, 1, 1]               0\n",
      "           Conv2d-84            [-1, 240, 1, 1]           2,640\n",
      "          Sigmoid-85            [-1, 240, 1, 1]               0\n",
      "    SqueezeExcite-86          [-1, 240, 28, 28]               0\n",
      "           Conv2d-87           [-1, 40, 28, 28]           9,600\n",
      "         Identity-88           [-1, 40, 28, 28]               0\n",
      "         Identity-89           [-1, 40, 28, 28]               0\n",
      "   BatchNormAct2d-90           [-1, 40, 28, 28]              80\n",
      "         Identity-91           [-1, 40, 28, 28]               0\n",
      " InvertedResidual-92           [-1, 40, 28, 28]               0\n",
      "           Conv2d-93          [-1, 240, 28, 28]           9,600\n",
      "         Identity-94          [-1, 240, 28, 28]               0\n",
      "             SiLU-95          [-1, 240, 28, 28]               0\n",
      "   BatchNormAct2d-96          [-1, 240, 28, 28]             480\n",
      "           Conv2d-97          [-1, 240, 14, 14]           2,160\n",
      "         Identity-98          [-1, 240, 14, 14]               0\n",
      "             SiLU-99          [-1, 240, 14, 14]               0\n",
      "  BatchNormAct2d-100          [-1, 240, 14, 14]             480\n",
      "          Conv2d-101             [-1, 10, 1, 1]           2,410\n",
      "            SiLU-102             [-1, 10, 1, 1]               0\n",
      "          Conv2d-103            [-1, 240, 1, 1]           2,640\n",
      "         Sigmoid-104            [-1, 240, 1, 1]               0\n",
      "   SqueezeExcite-105          [-1, 240, 14, 14]               0\n",
      "          Conv2d-106           [-1, 80, 14, 14]          19,200\n",
      "        Identity-107           [-1, 80, 14, 14]               0\n",
      "        Identity-108           [-1, 80, 14, 14]               0\n",
      "  BatchNormAct2d-109           [-1, 80, 14, 14]             160\n",
      "InvertedResidual-110           [-1, 80, 14, 14]               0\n",
      "          Conv2d-111          [-1, 480, 14, 14]          38,400\n",
      "        Identity-112          [-1, 480, 14, 14]               0\n",
      "            SiLU-113          [-1, 480, 14, 14]               0\n",
      "  BatchNormAct2d-114          [-1, 480, 14, 14]             960\n",
      "          Conv2d-115          [-1, 480, 14, 14]           4,320\n",
      "        Identity-116          [-1, 480, 14, 14]               0\n",
      "            SiLU-117          [-1, 480, 14, 14]               0\n",
      "  BatchNormAct2d-118          [-1, 480, 14, 14]             960\n",
      "          Conv2d-119             [-1, 20, 1, 1]           9,620\n",
      "            SiLU-120             [-1, 20, 1, 1]               0\n",
      "          Conv2d-121            [-1, 480, 1, 1]          10,080\n",
      "         Sigmoid-122            [-1, 480, 1, 1]               0\n",
      "   SqueezeExcite-123          [-1, 480, 14, 14]               0\n",
      "          Conv2d-124           [-1, 80, 14, 14]          38,400\n",
      "        Identity-125           [-1, 80, 14, 14]               0\n",
      "        Identity-126           [-1, 80, 14, 14]               0\n",
      "  BatchNormAct2d-127           [-1, 80, 14, 14]             160\n",
      "        Identity-128           [-1, 80, 14, 14]               0\n",
      "InvertedResidual-129           [-1, 80, 14, 14]               0\n",
      "          Conv2d-130          [-1, 480, 14, 14]          38,400\n",
      "        Identity-131          [-1, 480, 14, 14]               0\n",
      "            SiLU-132          [-1, 480, 14, 14]               0\n",
      "  BatchNormAct2d-133          [-1, 480, 14, 14]             960\n",
      "          Conv2d-134          [-1, 480, 14, 14]           4,320\n",
      "        Identity-135          [-1, 480, 14, 14]               0\n",
      "            SiLU-136          [-1, 480, 14, 14]               0\n",
      "  BatchNormAct2d-137          [-1, 480, 14, 14]             960\n",
      "          Conv2d-138             [-1, 20, 1, 1]           9,620\n",
      "            SiLU-139             [-1, 20, 1, 1]               0\n",
      "          Conv2d-140            [-1, 480, 1, 1]          10,080\n",
      "         Sigmoid-141            [-1, 480, 1, 1]               0\n",
      "   SqueezeExcite-142          [-1, 480, 14, 14]               0\n",
      "          Conv2d-143           [-1, 80, 14, 14]          38,400\n",
      "        Identity-144           [-1, 80, 14, 14]               0\n",
      "        Identity-145           [-1, 80, 14, 14]               0\n",
      "  BatchNormAct2d-146           [-1, 80, 14, 14]             160\n",
      "        Identity-147           [-1, 80, 14, 14]               0\n",
      "InvertedResidual-148           [-1, 80, 14, 14]               0\n",
      "          Conv2d-149          [-1, 480, 14, 14]          38,400\n",
      "        Identity-150          [-1, 480, 14, 14]               0\n",
      "            SiLU-151          [-1, 480, 14, 14]               0\n",
      "  BatchNormAct2d-152          [-1, 480, 14, 14]             960\n",
      "          Conv2d-153          [-1, 480, 14, 14]          12,000\n",
      "        Identity-154          [-1, 480, 14, 14]               0\n",
      "            SiLU-155          [-1, 480, 14, 14]               0\n",
      "  BatchNormAct2d-156          [-1, 480, 14, 14]             960\n",
      "          Conv2d-157             [-1, 20, 1, 1]           9,620\n",
      "            SiLU-158             [-1, 20, 1, 1]               0\n",
      "          Conv2d-159            [-1, 480, 1, 1]          10,080\n",
      "         Sigmoid-160            [-1, 480, 1, 1]               0\n",
      "   SqueezeExcite-161          [-1, 480, 14, 14]               0\n",
      "          Conv2d-162          [-1, 112, 14, 14]          53,760\n",
      "        Identity-163          [-1, 112, 14, 14]               0\n",
      "        Identity-164          [-1, 112, 14, 14]               0\n",
      "  BatchNormAct2d-165          [-1, 112, 14, 14]             224\n",
      "InvertedResidual-166          [-1, 112, 14, 14]               0\n",
      "          Conv2d-167          [-1, 672, 14, 14]          75,264\n",
      "        Identity-168          [-1, 672, 14, 14]               0\n",
      "            SiLU-169          [-1, 672, 14, 14]               0\n",
      "  BatchNormAct2d-170          [-1, 672, 14, 14]           1,344\n",
      "          Conv2d-171          [-1, 672, 14, 14]          16,800\n",
      "        Identity-172          [-1, 672, 14, 14]               0\n",
      "            SiLU-173          [-1, 672, 14, 14]               0\n",
      "  BatchNormAct2d-174          [-1, 672, 14, 14]           1,344\n",
      "          Conv2d-175             [-1, 28, 1, 1]          18,844\n",
      "            SiLU-176             [-1, 28, 1, 1]               0\n",
      "          Conv2d-177            [-1, 672, 1, 1]          19,488\n",
      "         Sigmoid-178            [-1, 672, 1, 1]               0\n",
      "   SqueezeExcite-179          [-1, 672, 14, 14]               0\n",
      "          Conv2d-180          [-1, 112, 14, 14]          75,264\n",
      "        Identity-181          [-1, 112, 14, 14]               0\n",
      "        Identity-182          [-1, 112, 14, 14]               0\n",
      "  BatchNormAct2d-183          [-1, 112, 14, 14]             224\n",
      "        Identity-184          [-1, 112, 14, 14]               0\n",
      "InvertedResidual-185          [-1, 112, 14, 14]               0\n",
      "          Conv2d-186          [-1, 672, 14, 14]          75,264\n",
      "        Identity-187          [-1, 672, 14, 14]               0\n",
      "            SiLU-188          [-1, 672, 14, 14]               0\n",
      "  BatchNormAct2d-189          [-1, 672, 14, 14]           1,344\n",
      "          Conv2d-190          [-1, 672, 14, 14]          16,800\n",
      "        Identity-191          [-1, 672, 14, 14]               0\n",
      "            SiLU-192          [-1, 672, 14, 14]               0\n",
      "  BatchNormAct2d-193          [-1, 672, 14, 14]           1,344\n",
      "          Conv2d-194             [-1, 28, 1, 1]          18,844\n",
      "            SiLU-195             [-1, 28, 1, 1]               0\n",
      "          Conv2d-196            [-1, 672, 1, 1]          19,488\n",
      "         Sigmoid-197            [-1, 672, 1, 1]               0\n",
      "   SqueezeExcite-198          [-1, 672, 14, 14]               0\n",
      "          Conv2d-199          [-1, 112, 14, 14]          75,264\n",
      "        Identity-200          [-1, 112, 14, 14]               0\n",
      "        Identity-201          [-1, 112, 14, 14]               0\n",
      "  BatchNormAct2d-202          [-1, 112, 14, 14]             224\n",
      "        Identity-203          [-1, 112, 14, 14]               0\n",
      "InvertedResidual-204          [-1, 112, 14, 14]               0\n",
      "          Conv2d-205          [-1, 672, 14, 14]          75,264\n",
      "        Identity-206          [-1, 672, 14, 14]               0\n",
      "            SiLU-207          [-1, 672, 14, 14]               0\n",
      "  BatchNormAct2d-208          [-1, 672, 14, 14]           1,344\n",
      "          Conv2d-209            [-1, 672, 7, 7]          16,800\n",
      "        Identity-210            [-1, 672, 7, 7]               0\n",
      "            SiLU-211            [-1, 672, 7, 7]               0\n",
      "  BatchNormAct2d-212            [-1, 672, 7, 7]           1,344\n",
      "          Conv2d-213             [-1, 28, 1, 1]          18,844\n",
      "            SiLU-214             [-1, 28, 1, 1]               0\n",
      "          Conv2d-215            [-1, 672, 1, 1]          19,488\n",
      "         Sigmoid-216            [-1, 672, 1, 1]               0\n",
      "   SqueezeExcite-217            [-1, 672, 7, 7]               0\n",
      "          Conv2d-218            [-1, 192, 7, 7]         129,024\n",
      "        Identity-219            [-1, 192, 7, 7]               0\n",
      "        Identity-220            [-1, 192, 7, 7]               0\n",
      "  BatchNormAct2d-221            [-1, 192, 7, 7]             384\n",
      "InvertedResidual-222            [-1, 192, 7, 7]               0\n",
      "          Conv2d-223           [-1, 1152, 7, 7]         221,184\n",
      "        Identity-224           [-1, 1152, 7, 7]               0\n",
      "            SiLU-225           [-1, 1152, 7, 7]               0\n",
      "  BatchNormAct2d-226           [-1, 1152, 7, 7]           2,304\n",
      "          Conv2d-227           [-1, 1152, 7, 7]          28,800\n",
      "        Identity-228           [-1, 1152, 7, 7]               0\n",
      "            SiLU-229           [-1, 1152, 7, 7]               0\n",
      "  BatchNormAct2d-230           [-1, 1152, 7, 7]           2,304\n",
      "          Conv2d-231             [-1, 48, 1, 1]          55,344\n",
      "            SiLU-232             [-1, 48, 1, 1]               0\n",
      "          Conv2d-233           [-1, 1152, 1, 1]          56,448\n",
      "         Sigmoid-234           [-1, 1152, 1, 1]               0\n",
      "   SqueezeExcite-235           [-1, 1152, 7, 7]               0\n",
      "          Conv2d-236            [-1, 192, 7, 7]         221,184\n",
      "        Identity-237            [-1, 192, 7, 7]               0\n",
      "        Identity-238            [-1, 192, 7, 7]               0\n",
      "  BatchNormAct2d-239            [-1, 192, 7, 7]             384\n",
      "        Identity-240            [-1, 192, 7, 7]               0\n",
      "InvertedResidual-241            [-1, 192, 7, 7]               0\n",
      "          Conv2d-242           [-1, 1152, 7, 7]         221,184\n",
      "        Identity-243           [-1, 1152, 7, 7]               0\n",
      "            SiLU-244           [-1, 1152, 7, 7]               0\n",
      "  BatchNormAct2d-245           [-1, 1152, 7, 7]           2,304\n",
      "          Conv2d-246           [-1, 1152, 7, 7]          28,800\n",
      "        Identity-247           [-1, 1152, 7, 7]               0\n",
      "            SiLU-248           [-1, 1152, 7, 7]               0\n",
      "  BatchNormAct2d-249           [-1, 1152, 7, 7]           2,304\n",
      "          Conv2d-250             [-1, 48, 1, 1]          55,344\n",
      "            SiLU-251             [-1, 48, 1, 1]               0\n",
      "          Conv2d-252           [-1, 1152, 1, 1]          56,448\n",
      "         Sigmoid-253           [-1, 1152, 1, 1]               0\n",
      "   SqueezeExcite-254           [-1, 1152, 7, 7]               0\n",
      "          Conv2d-255            [-1, 192, 7, 7]         221,184\n",
      "        Identity-256            [-1, 192, 7, 7]               0\n",
      "        Identity-257            [-1, 192, 7, 7]               0\n",
      "  BatchNormAct2d-258            [-1, 192, 7, 7]             384\n",
      "        Identity-259            [-1, 192, 7, 7]               0\n",
      "InvertedResidual-260            [-1, 192, 7, 7]               0\n",
      "          Conv2d-261           [-1, 1152, 7, 7]         221,184\n",
      "        Identity-262           [-1, 1152, 7, 7]               0\n",
      "            SiLU-263           [-1, 1152, 7, 7]               0\n",
      "  BatchNormAct2d-264           [-1, 1152, 7, 7]           2,304\n",
      "          Conv2d-265           [-1, 1152, 7, 7]          28,800\n",
      "        Identity-266           [-1, 1152, 7, 7]               0\n",
      "            SiLU-267           [-1, 1152, 7, 7]               0\n",
      "  BatchNormAct2d-268           [-1, 1152, 7, 7]           2,304\n",
      "          Conv2d-269             [-1, 48, 1, 1]          55,344\n",
      "            SiLU-270             [-1, 48, 1, 1]               0\n",
      "          Conv2d-271           [-1, 1152, 1, 1]          56,448\n",
      "         Sigmoid-272           [-1, 1152, 1, 1]               0\n",
      "   SqueezeExcite-273           [-1, 1152, 7, 7]               0\n",
      "          Conv2d-274            [-1, 192, 7, 7]         221,184\n",
      "        Identity-275            [-1, 192, 7, 7]               0\n",
      "        Identity-276            [-1, 192, 7, 7]               0\n",
      "  BatchNormAct2d-277            [-1, 192, 7, 7]             384\n",
      "        Identity-278            [-1, 192, 7, 7]               0\n",
      "InvertedResidual-279            [-1, 192, 7, 7]               0\n",
      "          Conv2d-280           [-1, 1152, 7, 7]         221,184\n",
      "        Identity-281           [-1, 1152, 7, 7]               0\n",
      "            SiLU-282           [-1, 1152, 7, 7]               0\n",
      "  BatchNormAct2d-283           [-1, 1152, 7, 7]           2,304\n",
      "          Conv2d-284           [-1, 1152, 7, 7]          10,368\n",
      "        Identity-285           [-1, 1152, 7, 7]               0\n",
      "            SiLU-286           [-1, 1152, 7, 7]               0\n",
      "  BatchNormAct2d-287           [-1, 1152, 7, 7]           2,304\n",
      "          Conv2d-288             [-1, 48, 1, 1]          55,344\n",
      "            SiLU-289             [-1, 48, 1, 1]               0\n",
      "          Conv2d-290           [-1, 1152, 1, 1]          56,448\n",
      "         Sigmoid-291           [-1, 1152, 1, 1]               0\n",
      "   SqueezeExcite-292           [-1, 1152, 7, 7]               0\n",
      "          Conv2d-293            [-1, 320, 7, 7]         368,640\n",
      "        Identity-294            [-1, 320, 7, 7]               0\n",
      "        Identity-295            [-1, 320, 7, 7]               0\n",
      "  BatchNormAct2d-296            [-1, 320, 7, 7]             640\n",
      "InvertedResidual-297            [-1, 320, 7, 7]               0\n",
      "          Conv2d-298           [-1, 1280, 7, 7]         409,600\n",
      "        Identity-299           [-1, 1280, 7, 7]               0\n",
      "            SiLU-300           [-1, 1280, 7, 7]               0\n",
      "  BatchNormAct2d-301           [-1, 1280, 7, 7]           2,560\n",
      "AdaptiveAvgPool2d-302           [-1, 1280, 1, 1]               0\n",
      "         Flatten-303                 [-1, 1280]               0\n",
      "SelectAdaptivePool2d-304                 [-1, 1280]               0\n",
      "          Linear-305                    [-1, 1]           1,281\n",
      "================================================================\n",
      "Total params: 4,008,829\n",
      "Trainable params: 4,008,829\n",
      "Non-trainable params: 0\n",
      "----------------------------------------------------------------\n",
      "Input size (MB): 0.57\n",
      "Forward/backward pass size (MB): 229.42\n",
      "Params size (MB): 15.29\n",
      "Estimated Total Size (MB): 245.28\n",
      "----------------------------------------------------------------\n"
     ]
    }
   ],
   "source": [
    "import timm\n",
    "\n",
    "# EfficientNetV2-S -- 20M params\n",
    "#model = timm.create_model('tf_efficientnetv2_s', pretrained=True)\n",
    "\n",
    "# EfficientNet-B0 -- 4M params\n",
    "model = timm.create_model('efficientnet_b0', pretrained=True)\n",
    "\n",
    "print(model.classifier.in_features)\n",
    "# replace classifier layer\n",
    "model.classifier = nn.Sequential(\n",
    "    nn.Linear(model.classifier.in_features, 1),  # output one value\n",
    "    #nn.ReLU(),\n",
    "    #nn.Linear(640, 1),\n",
    "    #nn.Sigmoid()\n",
    ")\n",
    "\n",
    "summary(model, (3, 224, 224))"
   ],
   "metadata": {
    "collapsed": false,
    "ExecuteTime": {
     "end_time": "2023-12-13T19:17:42.188186Z",
     "start_time": "2023-12-13T19:17:41.272796Z"
    }
   },
   "id": "e51fb592a4747c38"
  },
  {
   "cell_type": "code",
   "execution_count": 4,
   "outputs": [],
   "source": [
    "transform = transforms.Compose([\n",
    "    transforms.ToTensor(),\n",
    "    transforms.Resize((224, 224), antialias=False),\n",
    "    #transforms.Grayscale(num_output_channels=3),  # Convert to 3-channel grayscale\n",
    "    transforms.Lambda(lambda x: x.repeat(3, 1, 1)),\n",
    "    transforms.Normalize([0.485, 0.456, 0.406], [0.229, 0.224, 0.225])  # ImageNet normalization\n",
    "])"
   ],
   "metadata": {
    "collapsed": false,
    "ExecuteTime": {
     "end_time": "2023-12-13T19:17:42.208258Z",
     "start_time": "2023-12-13T19:17:42.189114Z"
    }
   },
   "id": "d2d32c023000dc85"
  },
  {
   "cell_type": "code",
   "execution_count": 5,
   "outputs": [
    {
     "data": {
      "text/plain": "Processing shots:   0%|          | 0/94 [00:00<?, ?it/s]",
      "application/vnd.jupyter.widget-view+json": {
       "version_major": 2,
       "version_minor": 0,
       "model_id": "2cc772d1d0904b00842cf21a53205d05"
      }
     },
     "metadata": {},
     "output_type": "display_data"
    },
    {
     "name": "stdout",
     "output_type": "stream",
     "text": [
      "The size of the odd spectrogram in the last element of windows: torch.Size([3, 224, 224]).\n",
      "Total number of windows = 2394\n",
      "Number of unique IDs = 2394\n"
     ]
    }
   ],
   "source": [
    "DATA_PATH = \"../data/dataset_pickle\"\n",
    "FILE_EXT = \"pickle\"\n",
    "WINDOW_SIZE = 200  # Number of datapoints\n",
    "OVERLAP_FACTOR = 0.5  # Overlap factor between 0 and 1 for each sliding window (\"% overlap with the last window\")\n",
    "\n",
    "dataset = SpectrogramDataset(data_path=DATA_PATH, file_ext=FILE_EXT, window_size=WINDOW_SIZE,\n",
    "                             overlap_factor=OVERLAP_FACTOR, transform=transform)\n",
    "dataloader = DataLoader(dataset, batch_size=32, shuffle=True, collate_fn=custom_collate)"
   ],
   "metadata": {
    "collapsed": false,
    "ExecuteTime": {
     "end_time": "2023-12-13T19:17:48.827001Z",
     "start_time": "2023-12-13T19:17:42.209470Z"
    }
   },
   "id": "c973ff7b0cd23993"
  },
  {
   "cell_type": "code",
   "execution_count": 6,
   "outputs": [
    {
     "name": "stdout",
     "output_type": "stream",
     "text": [
      "Adjusting learning rate of group 0 to 1.0000e-04.\n"
     ]
    }
   ],
   "source": [
    "from torch.optim.lr_scheduler import CosineAnnealingWarmRestarts\n",
    "\n",
    "criterion = nn.BCEWithLogitsLoss(pos_weight=torch.tensor([3.2]).to(device))  # Binary Cross Entropy Loss with Logits\n",
    "optimizer = torch.optim.Adam(model.parameters(), lr=1e-4)\n",
    "num_epochs = 12\n",
    "\n",
    "scheduler = torch.optim.lr_scheduler.CosineAnnealingLR(\n",
    "    optimizer,\n",
    "    T_max=(len(dataloader.dataset) * num_epochs) // dataloader.batch_size,\n",
    "    verbose=True, eta_min=0)\n",
    "scheduler = CosineAnnealingWarmRestarts(optimizer,\n",
    "                                        T_0=(len(dataloader.dataset) * num_epochs) // (dataloader.batch_size * 3),\n",
    "                                        T_mult=1, verbose=False)\n",
    "num_epochs = 5\n",
    "scheduler = torch.optim.lr_scheduler.CosineAnnealingLR(\n",
    "    optimizer,\n",
    "    T_max=(len(dataloader.dataset) * num_epochs) // dataloader.batch_size,\n",
    ")"
   ],
   "metadata": {
    "collapsed": false,
    "ExecuteTime": {
     "end_time": "2023-12-13T19:17:48.853962Z",
     "start_time": "2023-12-13T19:17:48.827777Z"
    }
   },
   "id": "d51f6325e770a353"
  },
  {
   "cell_type": "code",
   "execution_count": 7,
   "outputs": [],
   "source": [
    "from tqdm.notebook import tqdm\n",
    "import torch\n",
    "import matplotlib.pyplot as plt\n",
    "from sklearn.metrics import precision_score, f1_score\n",
    "import numpy as michayel\n",
    "\n",
    "\n",
    "def accuracy(predicted_probs, reference):\n",
    "    \"\"\"\n",
    "    Compute the accuracy for binary classification.\n",
    "\n",
    "    @param predicted_logits: float32 tensor of shape (batch size, 1) representing raw model outputs (logits).\n",
    "    @param reference: int64 tensor of shape (batch size,) with the binary class labels (0 or 1).\n",
    "    \"\"\"\n",
    "    # Convert probabilities to binary predictions (0 or 1)\n",
    "    predicted_labels = (predicted_probs > 0.5).float().squeeze()\n",
    "\n",
    "    # Convert tensors to numpy arrays for compatibility with sklearn metrics\n",
    "    predicted_labels_np = predicted_labels.cpu().numpy()\n",
    "    reference_np = reference.cpu().numpy()\n",
    "\n",
    "    # Calculate precision, recall, and F1 score\n",
    "    precision = precision_score(reference_np, predicted_labels_np, zero_division=0)\n",
    "    f1 = f1_score(reference_np, predicted_labels_np, zero_division=0)\n",
    "\n",
    "    return precision, f1\n",
    "\n",
    "\n",
    "def train(model, train_loader, test_loader, optimizer, scheduler, criterion, device, n_epochs=1):\n",
    "    device = torch.device(device)\n",
    "    model.to(device)\n",
    "    print(f\"training on device '{device}'\")\n",
    "\n",
    "    losses = []\n",
    "    f1s = []\n",
    "\n",
    "    for epoch in range(n_epochs):\n",
    "        model.train()\n",
    "        with tqdm(train_loader, unit='batch', desc=f'Epoch {epoch}') as tepoch:\n",
    "            for batch in tepoch:\n",
    "                \n",
    "                x_batch = torch.stack([item['window_odd'] for item in batch]).float()\n",
    "                y_batch = torch.stack([item['label'] for item in batch]).squeeze(1)\n",
    "                #print(y_batch)\n",
    "                \n",
    "                x_batch = x_batch.to(device)\n",
    "                y_batch = y_batch.to(device)\n",
    "\n",
    "                y_pred = model(x_batch).squeeze()\n",
    "                y_batch = y_batch.float()\n",
    "\n",
    "                loss = criterion(y_pred, y_batch)\n",
    "\n",
    "                optimizer.zero_grad()\n",
    "                loss.backward()\n",
    "                optimizer.step()\n",
    "                scheduler.step()\n",
    "\n",
    "                tepoch.set_postfix(loss=loss.item())\n",
    "\n",
    "                losses.append(loss.item())\n",
    "\n",
    "        # evaluate on test set\n",
    "        model.eval()\n",
    "        accuracies_test = []\n",
    "        f1_test = []\n",
    "        with tqdm(dataloader, unit='batch', desc='Evaluating') as tepoch:\n",
    "            for batch in tepoch:\n",
    "                x_batch = torch.stack([item['window_odd'] for item in batch]).float()\n",
    "                y_batch = torch.stack([item['label'] for item in batch]).squeeze(1)\n",
    "                x_batch, y_batch = x_batch.to(device), y_batch.to(device)\n",
    "                with torch.no_grad():\n",
    "                    prediction = torch.sigmoid(model(x_batch))\n",
    "                    acc, f1 = accuracy(prediction, y_batch)\n",
    "                    accuracies_test.append(acc)\n",
    "                    f1_test.append(f1)\n",
    "        f1s.append(michayel.mean(f1_test))\n",
    "\n",
    "        print(\n",
    "            \"Epoch {} | Test accuracy: {:.5f}, f1: {:.5f}\".format(\n",
    "                epoch, sum(accuracies_test).item() / len(accuracies_test),\n",
    "                       sum(f1_test).item() / len(f1_test)\n",
    "            )\n",
    "        )\n",
    "\n",
    "    plot_losses(losses)\n",
    "    plot_f1(f1s)\n",
    "\n",
    "\n",
    "def plot_losses(losses):\n",
    "    plt.plot(losses, label='train')\n",
    "    plt.title(\"loss\")\n",
    "    plt.ylabel('loss')\n",
    "    plt.xlabel('iterations')\n",
    "    plt.legend()\n",
    "    plt.show()\n",
    "\n",
    "\n",
    "def plot_f1(f1s):\n",
    "    plt.plot(f1s, label='test')\n",
    "    plt.title(\"f1\")\n",
    "    plt.ylabel('f1')\n",
    "    plt.xlabel('iterations')\n",
    "    plt.legend()\n",
    "    plt.show()"
   ],
   "metadata": {
    "collapsed": false,
    "ExecuteTime": {
     "end_time": "2023-12-13T19:17:49.516334Z",
     "start_time": "2023-12-13T19:17:48.851906Z"
    }
   },
   "id": "9117db38bfca932a"
  },
  {
   "cell_type": "code",
   "execution_count": 8,
   "outputs": [
    {
     "name": "stdout",
     "output_type": "stream",
     "text": [
      "training on device 'mps'\n"
     ]
    },
    {
     "data": {
      "text/plain": "Epoch 0:   0%|          | 0/75 [00:00<?, ?batch/s]",
      "application/vnd.jupyter.widget-view+json": {
       "version_major": 2,
       "version_minor": 0,
       "model_id": "002c1669ff4743ac92f6ae606ef9efd5"
      }
     },
     "metadata": {},
     "output_type": "display_data"
    },
    {
     "data": {
      "text/plain": "Evaluating:   0%|          | 0/75 [00:00<?, ?batch/s]",
      "application/vnd.jupyter.widget-view+json": {
       "version_major": 2,
       "version_minor": 0,
       "model_id": "cc47206c8033418d9a1c71d50bd06eaa"
      }
     },
     "metadata": {},
     "output_type": "display_data"
    },
    {
     "name": "stdout",
     "output_type": "stream",
     "text": [
      "Epoch 0 | Test accuracy: 0.67902, f1: 0.78638\n"
     ]
    },
    {
     "data": {
      "text/plain": "Epoch 1:   0%|          | 0/75 [00:00<?, ?batch/s]",
      "application/vnd.jupyter.widget-view+json": {
       "version_major": 2,
       "version_minor": 0,
       "model_id": "a8230de4bae34954b6f43d39dd75e16b"
      }
     },
     "metadata": {},
     "output_type": "display_data"
    },
    {
     "data": {
      "text/plain": "Evaluating:   0%|          | 0/75 [00:00<?, ?batch/s]",
      "application/vnd.jupyter.widget-view+json": {
       "version_major": 2,
       "version_minor": 0,
       "model_id": "17a6f1719b9b4e6fa09b649f75a3db1d"
      }
     },
     "metadata": {},
     "output_type": "display_data"
    },
    {
     "name": "stdout",
     "output_type": "stream",
     "text": [
      "Epoch 1 | Test accuracy: 0.77952, f1: 0.86767\n"
     ]
    },
    {
     "data": {
      "text/plain": "Epoch 2:   0%|          | 0/75 [00:00<?, ?batch/s]",
      "application/vnd.jupyter.widget-view+json": {
       "version_major": 2,
       "version_minor": 0,
       "model_id": "6b82748a98ac4ef4ac33e098112f6ca6"
      }
     },
     "metadata": {},
     "output_type": "display_data"
    },
    {
     "data": {
      "text/plain": "Evaluating:   0%|          | 0/75 [00:00<?, ?batch/s]",
      "application/vnd.jupyter.widget-view+json": {
       "version_major": 2,
       "version_minor": 0,
       "model_id": "891c42004fcc4b48900fef8c194b633e"
      }
     },
     "metadata": {},
     "output_type": "display_data"
    },
    {
     "name": "stdout",
     "output_type": "stream",
     "text": [
      "Epoch 2 | Test accuracy: 0.94617, f1: 0.97072\n"
     ]
    },
    {
     "data": {
      "text/plain": "Epoch 3:   0%|          | 0/75 [00:00<?, ?batch/s]",
      "application/vnd.jupyter.widget-view+json": {
       "version_major": 2,
       "version_minor": 0,
       "model_id": "8410a74a6cfa41a1ab01bf71b95df4bd"
      }
     },
     "metadata": {},
     "output_type": "display_data"
    },
    {
     "data": {
      "text/plain": "Evaluating:   0%|          | 0/75 [00:00<?, ?batch/s]",
      "application/vnd.jupyter.widget-view+json": {
       "version_major": 2,
       "version_minor": 0,
       "model_id": "965eaecd91d44501bf1208637746eb81"
      }
     },
     "metadata": {},
     "output_type": "display_data"
    },
    {
     "name": "stdout",
     "output_type": "stream",
     "text": [
      "Epoch 3 | Test accuracy: 0.97277, f1: 0.98514\n"
     ]
    },
    {
     "data": {
      "text/plain": "Epoch 4:   0%|          | 0/75 [00:00<?, ?batch/s]",
      "application/vnd.jupyter.widget-view+json": {
       "version_major": 2,
       "version_minor": 0,
       "model_id": "6448886d9b5645bbb46ffb6977953a27"
      }
     },
     "metadata": {},
     "output_type": "display_data"
    },
    {
     "data": {
      "text/plain": "Evaluating:   0%|          | 0/75 [00:00<?, ?batch/s]",
      "application/vnd.jupyter.widget-view+json": {
       "version_major": 2,
       "version_minor": 0,
       "model_id": "62a660eb47da4a209d83a6ba0c53b5e5"
      }
     },
     "metadata": {},
     "output_type": "display_data"
    },
    {
     "name": "stdout",
     "output_type": "stream",
     "text": [
      "Epoch 4 | Test accuracy: 0.97739, f1: 0.98786\n"
     ]
    },
    {
     "data": {
      "text/plain": "<Figure size 640x480 with 1 Axes>",
      "image/png": "[encoded data removed]"
     },
     "metadata": {},
     "output_type": "display_data"
    },
    {
     "data": {
      "text/plain": "<Figure size 640x480 with 1 Axes>",
      "image/png": "[encoded data removed]"
     },
     "metadata": {},
     "output_type": "display_data"
    }
   ],
   "source": [
    "train(model, dataloader, dataloader, optimizer, scheduler, criterion, device, n_epochs=5)"
   ],
   "metadata": {
    "collapsed": false,
    "ExecuteTime": {
     "end_time": "2023-12-13T19:20:46.187148Z",
     "start_time": "2023-12-13T19:17:49.516729Z"
    }
   },
   "id": "2c97bfb743c2f8c7"
  },
  {
   "cell_type": "code",
   "execution_count": 8,
   "outputs": [],
   "source": [],
   "metadata": {
    "collapsed": false,
    "ExecuteTime": {
     "end_time": "2023-12-13T19:20:46.188101Z",
     "start_time": "2023-12-13T19:20:46.179541Z"
    }
   },
   "id": "11c6c1acbb7d95b"
  }
 ],
 "metadata": {
  "kernelspec": {
   "display_name": "Python 3",
   "language": "python",
   "name": "python3"
  },
  "language_info": {
   "codemirror_mode": {
    "name": "ipython",
    "version": 2
   },
   "file_extension": ".py",
   "mimetype": "text/x-python",
   "name": "python",
   "nbconvert_exporter": "python",
   "pygments_lexer": "ipython2",
   "version": "2.7.6"
  }
 },
 "nbformat": 4,
 "nbformat_minor": 5
}
