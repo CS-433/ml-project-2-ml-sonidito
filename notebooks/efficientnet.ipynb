{
 "cells": [
  {
   "cell_type": "code",
   "execution_count": 1,
   "id": "initial_id",
   "metadata": {
    "collapsed": true,
    "ExecuteTime": {
     "end_time": "2023-12-19T01:18:25.843236Z",
     "start_time": "2023-12-19T01:18:18.779322600Z"
    }
   },
   "outputs": [],
   "source": [
    "%load_ext autoreload\n",
    "%autoreload 2\n",
    "\n",
    "import sys\n",
    "\n",
    "sys.path.append('../src/')\n",
    "\n",
    "import numpy as np\n",
    "import pandas as pd\n",
    "import torch\n",
    "import timm\n",
    "import torch.nn as nn\n",
    "import torch.optim as optim\n",
    "import torchvision\n",
    "import torchvision.transforms as transforms\n",
    "from torch.utils.data import DataLoader, random_split\n",
    "import torchvision.models as models\n",
    "from dataloading import SpectrogramDataset, repeat_channels\n",
    "from metrics import compute_metrics\n",
    "from training import train\n",
    "from torch.utils.data._utils.collate import default_collate\n",
    "from sklearn.model_selection import train_test_split, KFold\n",
    "\n",
    "from torchsummary import summary\n",
    "import matplotlib.pyplot as plt\n",
    "\n",
    "plt.rcdefaults()"
   ]
  },
  {
   "cell_type": "code",
   "execution_count": 2,
   "outputs": [],
   "source": [
    "device = \"mps\" if torch.backends.mps.is_available() else \"cuda\" if torch.cuda.is_available() else \"cpu\"\n",
    "\n",
    "transform = transforms.Compose([\n",
    "    transforms.ToTensor(),\n",
    "    transforms.Resize((224, 224), antialias=False),\n",
    "    transforms.Lambda(repeat_channels),  # repeat grayscale image to 3 channels to match model input size\n",
    "    transforms.Normalize([0.485, 0.456, 0.406], [0.229, 0.224, 0.225])  # ImageNet normalization\n",
    "])"
   ],
   "metadata": {
    "collapsed": false,
    "ExecuteTime": {
     "end_time": "2023-12-19T01:18:25.987196800Z",
     "start_time": "2023-12-19T01:18:25.846742900Z"
    }
   },
   "id": "43a0a73b4e865bcc"
  },
  {
   "cell_type": "code",
   "execution_count": 3,
   "outputs": [
    {
     "name": "stdout",
     "output_type": "stream",
     "text": [
      "Train indices: [65 15 68 78 30 33 11 66 69 31 77  9 70  5 42 47 16 45 34  7 80 27 19 76\n",
      " 25 53 13 24  3 17 38  8 73  6 89 36 87 56 93 54 43 50 75 46 64 61 91 84\n",
      " 41 58 48 81 57 32 88 59 63 79 37 29  1 52 21  2 23 85 74 86 82 20 60 71\n",
      " 14 92 51]\n",
      "Val indices: [40 22 55 72  0 26 39 67 10 44 83 35 90 62 12  4 18 28 49]\n"
     ]
    },
    {
     "data": {
      "text/plain": "Processing dataset:   0%|          | 0/75 [00:00<?, ?it/s]",
      "application/vnd.jupyter.widget-view+json": {
       "version_major": 2,
       "version_minor": 0,
       "model_id": "4a7300e4937b44229b673ed8e85f51fe"
      }
     },
     "metadata": {},
     "output_type": "display_data"
    },
    {
     "name": "stdout",
     "output_type": "stream",
     "text": [
      "Spectrogram slice shape: (800, 200)\n",
      "Total number of windows = 966\n",
      "Number of unique IDs = 966\n"
     ]
    },
    {
     "data": {
      "text/plain": "Processing dataset:   0%|          | 0/19 [00:00<?, ?it/s]",
      "application/vnd.jupyter.widget-view+json": {
       "version_major": 2,
       "version_minor": 0,
       "model_id": "160dcca1f5bc4ebfa7275194ff736efd"
      }
     },
     "metadata": {},
     "output_type": "display_data"
    },
    {
     "name": "stdout",
     "output_type": "stream",
     "text": [
      "Spectrogram slice shape: (800, 200)\n",
      "Total number of windows = 259\n",
      "Number of unique IDs = 259\n"
     ]
    }
   ],
   "source": [
    "DATA_PATH = \"../data/dataset_h5\"\n",
    "FILE_EXT = \"h5\"\n",
    "LABEL_PATH = \"../data/MHD_labels\"\n",
    "LABEL_FILE_EXT = \"csv\"\n",
    "WINDOW_SIZE = 200  # number of .512ms time steps per window\n",
    "OVERLAP_FACTOR = 0.0  # overlap between consecutive windows\n",
    "\n",
    "\n",
    "\n",
    "indices = np.arange(94)\n",
    "# split the dataset into train and validation sets\n",
    "train_indices, val_indices = train_test_split(indices, test_size=0.2, random_state=42)\n",
    "print(\"Train indices:\", train_indices)\n",
    "print(\"Val indices:\", val_indices)\n",
    "\n",
    "train_dataset = SpectrogramDataset(data_path=DATA_PATH, file_ext=FILE_EXT, data_path_labels=LABEL_PATH,\n",
    "                                   file_ext_labels=LABEL_FILE_EXT, window_size=WINDOW_SIZE,\n",
    "                                   overlap=OVERLAP_FACTOR, transform=transform, shot_filter=train_indices)\n",
    "val_dataset = SpectrogramDataset(data_path=DATA_PATH, file_ext=FILE_EXT, data_path_labels=LABEL_PATH,\n",
    "                             file_ext_labels=LABEL_FILE_EXT, window_size=WINDOW_SIZE,\n",
    "                             overlap=OVERLAP_FACTOR, transform=transform, shot_filter=val_indices)\n",
    "\n",
    "# Create DataLoaders\n",
    "train_loader = DataLoader(train_dataset, batch_size=64, shuffle=True, collate_fn=default_collate, num_workers=0)\n",
    "val_loader = DataLoader(val_dataset, batch_size=64, shuffle=False, collate_fn=default_collate, num_workers=0)"
   ],
   "metadata": {
    "collapsed": false,
    "ExecuteTime": {
     "end_time": "2023-12-19T01:18:31.556569600Z",
     "start_time": "2023-12-19T01:18:25.988694900Z"
    }
   },
   "id": "1f26c9afaa2a31a1"
  },
  {
   "cell_type": "code",
   "execution_count": 4,
   "outputs": [
    {
     "name": "stdout",
     "output_type": "stream",
     "text": [
      "proportion of positive samples in train set: 17.288%, 5.784\n"
     ]
    }
   ],
   "source": [
    "j = 0\n",
    "for i in range(len(train_loader.dataset) - 1):\n",
    "    j += train_loader.dataset[i]['label']\n",
    "pos_proportion = j / len(train_loader.dataset)\n",
    "print(f\"proportion of positive samples in train set: {pos_proportion.item():.3%}, {1/pos_proportion.item():.3f}\")"
   ],
   "metadata": {
    "collapsed": false,
    "ExecuteTime": {
     "end_time": "2023-12-19T01:18:33.073654500Z",
     "start_time": "2023-12-19T01:18:31.554568800Z"
    }
   },
   "id": "8c8c5eff7341c0c3"
  },
  {
   "cell_type": "code",
   "execution_count": 5,
   "outputs": [],
   "source": [
    "# EfficientNet-B0 -- 4M params\n",
    "model = timm.create_model('efficientnet_b0', pretrained=True)\n",
    "\n",
    "# replace classifier layer for binary classification\n",
    "model.classifier = nn.Sequential(\n",
    "    nn.Linear(model.classifier.in_features, 640),  # output one value\n",
    "    nn.ReLU(),\n",
    "    nn.Linear(640, 1),\n",
    ")\n",
    "\n",
    "#summary(model.to('cuda'), (3, 224, 224))"
   ],
   "metadata": {
    "collapsed": false,
    "ExecuteTime": {
     "end_time": "2023-12-19T01:18:33.693176400Z",
     "start_time": "2023-12-19T01:18:33.075154100Z"
    }
   },
   "id": "1f43e66eb7b53acc"
  },
  {
   "cell_type": "code",
   "execution_count": 8,
   "outputs": [],
   "source": [
    "num_epochs = 7\n",
    "\n",
    "criterion = nn.BCEWithLogitsLoss()  #os_weight=torch.tensor([3.2]).to(device))  # binary Cross Entropy Loss with Logits\n",
    "optimizer = torch.optim.AdamW(model.parameters(), lr=2e-5, weight_decay=25)\n",
    "\n",
    "scheduler = torch.optim.lr_scheduler.CosineAnnealingLR(\n",
    "    optimizer,\n",
    "    T_max=(len(train_loader.dataset) * num_epochs) // train_loader.batch_size,\n",
    ")"
   ],
   "metadata": {
    "collapsed": false,
    "ExecuteTime": {
     "end_time": "2023-12-19T01:19:27.246073100Z",
     "start_time": "2023-12-19T01:19:27.140664500Z"
    }
   },
   "id": "ba8e661fc79b6afe"
  },
  {
   "cell_type": "code",
   "execution_count": 9,
   "outputs": [
    {
     "name": "stdout",
     "output_type": "stream",
     "text": [
      "training on device 'cuda'\n"
     ]
    },
    {
     "data": {
      "text/plain": "Epoch 0:   0%|          | 0/16 [00:00<?, ?batch/s]",
      "application/vnd.jupyter.widget-view+json": {
       "version_major": 2,
       "version_minor": 0,
       "model_id": "84f66843108f48ff89f8c658ed68801a"
      }
     },
     "metadata": {},
     "output_type": "display_data"
    },
    {
     "data": {
      "text/plain": "Evaluating:   0%|          | 0/5 [00:00<?, ?batch/s]",
      "application/vnd.jupyter.widget-view+json": {
       "version_major": 2,
       "version_minor": 0,
       "model_id": "23a99929bd4b45ba85fa6a5b301cd3e7"
      }
     },
     "metadata": {},
     "output_type": "display_data"
    },
    {
     "data": {
      "text/plain": "Evaluating:   0%|          | 0/16 [00:00<?, ?batch/s]",
      "application/vnd.jupyter.widget-view+json": {
       "version_major": 2,
       "version_minor": 0,
       "model_id": "7305f0487a4a48418f1c13485d05049f"
      }
     },
     "metadata": {},
     "output_type": "display_data"
    },
    {
     "name": "stdout",
     "output_type": "stream",
     "text": [
      "Epoch 0 | Train accuracy: 0.94076, f1: 0.86122, roc-auc: 1.00000\n",
      "            Test accuracy: 0.86562, f1: 0.51696, roc-auc: 0.95034\n"
     ]
    },
    {
     "data": {
      "text/plain": "Epoch 1:   0%|          | 0/16 [00:00<?, ?batch/s]",
      "application/vnd.jupyter.widget-view+json": {
       "version_major": 2,
       "version_minor": 0,
       "model_id": "75554d55e3874a3b9fd8b9b4e650fb72"
      }
     },
     "metadata": {},
     "output_type": "display_data"
    },
    {
     "data": {
      "text/plain": "Evaluating:   0%|          | 0/5 [00:00<?, ?batch/s]",
      "application/vnd.jupyter.widget-view+json": {
       "version_major": 2,
       "version_minor": 0,
       "model_id": "c57915486af54700914f3538f946441e"
      }
     },
     "metadata": {},
     "output_type": "display_data"
    },
    {
     "data": {
      "text/plain": "Evaluating:   0%|          | 0/16 [00:00<?, ?batch/s]",
      "application/vnd.jupyter.widget-view+json": {
       "version_major": 2,
       "version_minor": 0,
       "model_id": "0ddf4f8c75334c73b94c26ed566d7786"
      }
     },
     "metadata": {},
     "output_type": "display_data"
    },
    {
     "name": "stdout",
     "output_type": "stream",
     "text": [
      "Epoch 1 | Train accuracy: 0.97070, f1: 0.91864, roc-auc: 1.00000\n",
      "            Test accuracy: 0.89062, f1: 0.55121, roc-auc: 0.95117\n"
     ]
    },
    {
     "data": {
      "text/plain": "Epoch 2:   0%|          | 0/16 [00:00<?, ?batch/s]",
      "application/vnd.jupyter.widget-view+json": {
       "version_major": 2,
       "version_minor": 0,
       "model_id": "a98c498db5e14a2f960cf86d3fe885d6"
      }
     },
     "metadata": {},
     "output_type": "display_data"
    },
    {
     "data": {
      "text/plain": "Evaluating:   0%|          | 0/5 [00:00<?, ?batch/s]",
      "application/vnd.jupyter.widget-view+json": {
       "version_major": 2,
       "version_minor": 0,
       "model_id": "1d17f9c879174520aca1336b1accf128"
      }
     },
     "metadata": {},
     "output_type": "display_data"
    },
    {
     "data": {
      "text/plain": "Evaluating:   0%|          | 0/16 [00:00<?, ?batch/s]",
      "application/vnd.jupyter.widget-view+json": {
       "version_major": 2,
       "version_minor": 0,
       "model_id": "21e76df6b0844ed6a5a1555a64bd11a7"
      }
     },
     "metadata": {},
     "output_type": "display_data"
    },
    {
     "name": "stdout",
     "output_type": "stream",
     "text": [
      "Epoch 2 | Train accuracy: 0.99609, f1: 0.98804, roc-auc: 1.00000\n",
      "            Test accuracy: 0.91563, f1: 0.58678, roc-auc: 0.95775\n"
     ]
    },
    {
     "data": {
      "text/plain": "Epoch 3:   0%|          | 0/16 [00:00<?, ?batch/s]",
      "application/vnd.jupyter.widget-view+json": {
       "version_major": 2,
       "version_minor": 0,
       "model_id": "f5bc6c994d1d4c2c9e9120d88230d7a9"
      }
     },
     "metadata": {},
     "output_type": "display_data"
    },
    {
     "data": {
      "text/plain": "Evaluating:   0%|          | 0/5 [00:00<?, ?batch/s]",
      "application/vnd.jupyter.widget-view+json": {
       "version_major": 2,
       "version_minor": 0,
       "model_id": "1cc904a0299f4734bb5b0a3684250a7c"
      }
     },
     "metadata": {},
     "output_type": "display_data"
    },
    {
     "data": {
      "text/plain": "Evaluating:   0%|          | 0/16 [00:00<?, ?batch/s]",
      "application/vnd.jupyter.widget-view+json": {
       "version_major": 2,
       "version_minor": 0,
       "model_id": "f195e5441a8845ccb4a1a83925a8a4bf"
      }
     },
     "metadata": {},
     "output_type": "display_data"
    },
    {
     "name": "stdout",
     "output_type": "stream",
     "text": [
      "Epoch 3 | Train accuracy: 1.00000, f1: 0.93750, roc-auc: 1.00000\n",
      "            Test accuracy: 0.92500, f1: 0.59459, roc-auc: 0.95591\n"
     ]
    },
    {
     "data": {
      "text/plain": "Epoch 4:   0%|          | 0/16 [00:00<?, ?batch/s]",
      "application/vnd.jupyter.widget-view+json": {
       "version_major": 2,
       "version_minor": 0,
       "model_id": "8860cb31338a4408b6c7cd5852ca9fe8"
      }
     },
     "metadata": {},
     "output_type": "display_data"
    },
    {
     "data": {
      "text/plain": "Evaluating:   0%|          | 0/5 [00:00<?, ?batch/s]",
      "application/vnd.jupyter.widget-view+json": {
       "version_major": 2,
       "version_minor": 0,
       "model_id": "ee1e5356a1ca48a8aec09effae984b47"
      }
     },
     "metadata": {},
     "output_type": "display_data"
    },
    {
     "data": {
      "text/plain": "Evaluating:   0%|          | 0/16 [00:00<?, ?batch/s]",
      "application/vnd.jupyter.widget-view+json": {
       "version_major": 2,
       "version_minor": 0,
       "model_id": "a4b1a665534445a89f30f69c7b384e42"
      }
     },
     "metadata": {},
     "output_type": "display_data"
    },
    {
     "name": "stdout",
     "output_type": "stream",
     "text": [
      "Epoch 4 | Train accuracy: 1.00000, f1: 1.00000, roc-auc: 1.00000\n",
      "            Test accuracy: 0.93750, f1: 0.63862, roc-auc: 0.95662\n"
     ]
    },
    {
     "data": {
      "text/plain": "Epoch 5:   0%|          | 0/16 [00:00<?, ?batch/s]",
      "application/vnd.jupyter.widget-view+json": {
       "version_major": 2,
       "version_minor": 0,
       "model_id": "6cf2f4dc4f944d90911fea4cca6eb990"
      }
     },
     "metadata": {},
     "output_type": "display_data"
    },
    {
     "data": {
      "text/plain": "Evaluating:   0%|          | 0/5 [00:00<?, ?batch/s]",
      "application/vnd.jupyter.widget-view+json": {
       "version_major": 2,
       "version_minor": 0,
       "model_id": "10ba9ad6976c48fc9d9737d310dca7d2"
      }
     },
     "metadata": {},
     "output_type": "display_data"
    },
    {
     "data": {
      "text/plain": "Evaluating:   0%|          | 0/16 [00:00<?, ?batch/s]",
      "application/vnd.jupyter.widget-view+json": {
       "version_major": 2,
       "version_minor": 0,
       "model_id": "5f9eacec957b43c4b694ffdeba25da11"
      }
     },
     "metadata": {},
     "output_type": "display_data"
    },
    {
     "name": "stdout",
     "output_type": "stream",
     "text": [
      "Epoch 5 | Train accuracy: 1.00000, f1: 1.00000, roc-auc: 1.00000\n",
      "            Test accuracy: 0.94063, f1: 0.62883, roc-auc: 0.95384\n"
     ]
    },
    {
     "data": {
      "text/plain": "Epoch 6:   0%|          | 0/16 [00:00<?, ?batch/s]",
      "application/vnd.jupyter.widget-view+json": {
       "version_major": 2,
       "version_minor": 0,
       "model_id": "24b21815c84e4210857a6e12b24e018a"
      }
     },
     "metadata": {},
     "output_type": "display_data"
    },
    {
     "data": {
      "text/plain": "Evaluating:   0%|          | 0/5 [00:00<?, ?batch/s]",
      "application/vnd.jupyter.widget-view+json": {
       "version_major": 2,
       "version_minor": 0,
       "model_id": "ecde9312eb45402fac18dfe44bfa5ade"
      }
     },
     "metadata": {},
     "output_type": "display_data"
    },
    {
     "data": {
      "text/plain": "Evaluating:   0%|          | 0/16 [00:00<?, ?batch/s]",
      "application/vnd.jupyter.widget-view+json": {
       "version_major": 2,
       "version_minor": 0,
       "model_id": "cf8181236a24460d91e2f85a6620b616"
      }
     },
     "metadata": {},
     "output_type": "display_data"
    },
    {
     "name": "stdout",
     "output_type": "stream",
     "text": [
      "Epoch 6 | Train accuracy: 1.00000, f1: 1.00000, roc-auc: 1.00000\n",
      "            Test accuracy: 0.93750, f1: 0.63862, roc-auc: 0.95490\n"
     ]
    },
    {
     "data": {
      "text/plain": "<Figure size 640x480 with 1 Axes>",
      "image/png": "[encoded data removed]"
     },
     "metadata": {},
     "output_type": "display_data"
    },
    {
     "data": {
      "text/plain": "<Figure size 640x480 with 1 Axes>",
      "image/png": "[encoded data removed]"
     },
     "metadata": {},
     "output_type": "display_data"
    },
    {
     "data": {
      "text/plain": "(1.0, 0.6386222473178995)"
     },
     "execution_count": 9,
     "metadata": {},
     "output_type": "execute_result"
    }
   ],
   "source": [
    "train(model, train_loader, val_loader, optimizer, scheduler, criterion, device, n_epochs=num_epochs)"
   ],
   "metadata": {
    "collapsed": false,
    "ExecuteTime": {
     "end_time": "2023-12-19T01:20:08.701102700Z",
     "start_time": "2023-12-19T01:19:27.534109900Z"
    }
   },
   "id": "f74585fbeb61890d"
  },
  {
   "cell_type": "code",
   "execution_count": null,
   "outputs": [],
   "source": [],
   "metadata": {
    "collapsed": false,
    "ExecuteTime": {
     "start_time": "2023-12-19T01:19:25.718182100Z"
    }
   },
   "id": "78896422ffc2589a"
  }
 ],
 "metadata": {
  "kernelspec": {
   "display_name": "Python 3",
   "language": "python",
   "name": "python3"
  },
  "language_info": {
   "codemirror_mode": {
    "name": "ipython",
    "version": 2
   },
   "file_extension": ".py",
   "mimetype": "text/x-python",
   "name": "python",
   "nbconvert_exporter": "python",
   "pygments_lexer": "ipython2",
   "version": "2.7.6"
  }
 },
 "nbformat": 4,
 "nbformat_minor": 5
}
