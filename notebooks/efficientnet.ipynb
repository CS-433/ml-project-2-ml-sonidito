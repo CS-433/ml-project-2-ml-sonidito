{
 "cells": [
  {
   "cell_type": "code",
   "execution_count": 1,
   "id": "initial_id",
   "metadata": {
    "collapsed": true,
    "ExecuteTime": {
     "end_time": "2023-12-19T01:22:15.028062100Z",
     "start_time": "2023-12-19T01:22:10.558957300Z"
    }
   },
   "outputs": [],
   "source": [
    "%load_ext autoreload\n",
    "%autoreload 2\n",
    "\n",
    "import sys\n",
    "\n",
    "sys.path.append('../src/')\n",
    "\n",
    "import numpy as np\n",
    "import pandas as pd\n",
    "import torch\n",
    "import timm\n",
    "import torch.nn as nn\n",
    "import torch.optim as optim\n",
    "import torchvision\n",
    "import torchvision.transforms as transforms\n",
    "from torch.utils.data import DataLoader, random_split\n",
    "import torchvision.models as models\n",
    "from dataloading import SpectrogramDataset, repeat_channels\n",
    "from metrics import compute_metrics\n",
    "from training import train\n",
    "from torch.utils.data._utils.collate import default_collate\n",
    "from sklearn.model_selection import train_test_split, KFold\n",
    "\n",
    "from torchsummary import summary\n",
    "import matplotlib.pyplot as plt\n",
    "\n",
    "plt.rcdefaults()"
   ]
  },
  {
   "cell_type": "code",
   "execution_count": 2,
   "outputs": [],
   "source": [
    "device = \"mps\" if torch.backends.mps.is_available() else \"cuda\" if torch.cuda.is_available() else \"cpu\"\n",
    "\n",
    "transform = transforms.Compose([\n",
    "    transforms.ToTensor(),\n",
    "    transforms.Resize((224, 224), antialias=False),\n",
    "    transforms.Lambda(repeat_channels),  # repeat grayscale image to 3 channels to match model input size\n",
    "    transforms.Normalize([0.485, 0.456, 0.406], [0.229, 0.224, 0.225])  # ImageNet normalization\n",
    "])"
   ],
   "metadata": {
    "collapsed": false,
    "ExecuteTime": {
     "end_time": "2023-12-19T01:22:15.151442900Z",
     "start_time": "2023-12-19T01:22:15.029562500Z"
    }
   },
   "id": "43a0a73b4e865bcc"
  },
  {
   "cell_type": "code",
   "execution_count": 8,
   "outputs": [
    {
     "name": "stdout",
     "output_type": "stream",
     "text": [
      "Train indices: [65 15 68 78 30 33 11 66 69 31 77  9 70  5 42 47 16 45 34  7 80 27 19 76\n",
      " 25 53 13 24  3 17 38  8 73  6 89 36 87 56 93 54 43 50 75 46 64 61 91 84\n",
      " 41 58 48 81 57 32 88 59 63 79 37 29  1 52 21  2 23 85 74 86 82 20 60 71\n",
      " 14 92 51]\n",
      "Val indices: [40 22 55 72  0 26 39 67 10 44 83 35 90 62 12  4 18 28 49]\n"
     ]
    },
    {
     "data": {
      "text/plain": "Processing dataset:   0%|          | 0/75 [00:00<?, ?it/s]",
      "application/vnd.jupyter.widget-view+json": {
       "version_major": 2,
       "version_minor": 0,
       "model_id": "3e46cfa5659a49f0ba5302d7401d908c"
      }
     },
     "metadata": {},
     "output_type": "display_data"
    },
    {
     "name": "stdout",
     "output_type": "stream",
     "text": [
      "Spectrogram slice shape: (800, 200)\n",
      "Total number of windows = 1890\n",
      "Number of unique IDs = 1890\n"
     ]
    },
    {
     "data": {
      "text/plain": "Processing dataset:   0%|          | 0/19 [00:00<?, ?it/s]",
      "application/vnd.jupyter.widget-view+json": {
       "version_major": 2,
       "version_minor": 0,
       "model_id": "c221ac31531e4e6fa040933d95703eeb"
      }
     },
     "metadata": {},
     "output_type": "display_data"
    },
    {
     "name": "stdout",
     "output_type": "stream",
     "text": [
      "Spectrogram slice shape: (800, 200)\n",
      "Total number of windows = 504\n",
      "Number of unique IDs = 504\n"
     ]
    }
   ],
   "source": [
    "DATA_PATH = \"../data/dataset_h5\"\n",
    "FILE_EXT = \"h5\"\n",
    "LABEL_PATH = \"../data/MHD_labels\"\n",
    "LABEL_FILE_EXT = \"csv\"\n",
    "WINDOW_SIZE = 200  # number of .512ms time steps per window\n",
    "OVERLAP_FACTOR = 0.5  # overlap between consecutive windows\n",
    "\n",
    "\n",
    "\n",
    "indices = np.arange(94)\n",
    "# split the dataset into train and validation sets\n",
    "train_indices, val_indices = train_test_split(indices, test_size=0.2, random_state=42)\n",
    "print(\"Train indices:\", train_indices)\n",
    "print(\"Val indices:\", val_indices)\n",
    "\n",
    "train_dataset = SpectrogramDataset(data_path=DATA_PATH, file_ext=FILE_EXT, data_path_labels=LABEL_PATH,\n",
    "                                   file_ext_labels=LABEL_FILE_EXT, window_size=WINDOW_SIZE,\n",
    "                                   overlap=OVERLAP_FACTOR, transform=transform, shot_filter=train_indices)\n",
    "val_dataset = SpectrogramDataset(data_path=DATA_PATH, file_ext=FILE_EXT, data_path_labels=LABEL_PATH,\n",
    "                             file_ext_labels=LABEL_FILE_EXT, window_size=WINDOW_SIZE,\n",
    "                             overlap=OVERLAP_FACTOR, transform=transform, shot_filter=val_indices)\n",
    "\n",
    "# Create DataLoaders\n",
    "train_loader = DataLoader(train_dataset, batch_size=64, shuffle=True, collate_fn=default_collate, num_workers=0)\n",
    "val_loader = DataLoader(val_dataset, batch_size=64, shuffle=False, collate_fn=default_collate, num_workers=0)"
   ],
   "metadata": {
    "collapsed": false,
    "ExecuteTime": {
     "end_time": "2023-12-19T01:25:50.039708600Z",
     "start_time": "2023-12-19T01:25:41.246894500Z"
    }
   },
   "id": "1f26c9afaa2a31a1"
  },
  {
   "cell_type": "code",
   "execution_count": 9,
   "outputs": [
    {
     "name": "stdout",
     "output_type": "stream",
     "text": [
      "proportion of positive samples in train set: 17.778%, 5.625\n"
     ]
    }
   ],
   "source": [
    "j = 0\n",
    "for i in range(len(train_loader.dataset) - 1):\n",
    "    j += train_loader.dataset[i]['label']\n",
    "pos_proportion = j / len(train_loader.dataset)\n",
    "print(f\"proportion of positive samples in train set: {pos_proportion.item():.3%}, {1/pos_proportion.item():.3f}\")"
   ],
   "metadata": {
    "collapsed": false,
    "ExecuteTime": {
     "end_time": "2023-12-19T01:25:52.741349700Z",
     "start_time": "2023-12-19T01:25:50.030191800Z"
    }
   },
   "id": "8c8c5eff7341c0c3"
  },
  {
   "cell_type": "code",
   "execution_count": 10,
   "outputs": [],
   "source": [
    "# EfficientNet-B0 -- 4M params\n",
    "model = timm.create_model('efficientnet_b0', pretrained=True, drop_rate=0.7)\n",
    "\n",
    "# replace classifier layer for binary classification\n",
    "model.classifier = nn.Sequential(\n",
    "    nn.Linear(model.classifier.in_features, 640),  # output one value\n",
    "    nn.ReLU(),\n",
    "    nn.Linear(640, 1),\n",
    ")\n",
    "\n",
    "#summary(model.to('cuda'), (3, 224, 224))"
   ],
   "metadata": {
    "collapsed": false,
    "ExecuteTime": {
     "end_time": "2023-12-19T01:25:53.111577600Z",
     "start_time": "2023-12-19T01:25:52.743348700Z"
    }
   },
   "id": "1f43e66eb7b53acc"
  },
  {
   "cell_type": "code",
   "execution_count": 13,
   "outputs": [],
   "source": [
    "num_epochs = 7\n",
    "\n",
    "criterion = nn.BCEWithLogitsLoss(pos_weight=torch.tensor([1/pos_proportion]).to(device))  # binary Cross Entropy Loss with Logits\n",
    "optimizer = torch.optim.AdamW(model.parameters(), lr=2e-5, weight_decay=25)\n",
    "\n",
    "scheduler = torch.optim.lr_scheduler.CosineAnnealingLR(\n",
    "    optimizer,\n",
    "    T_max=(len(train_loader.dataset) * num_epochs) // train_loader.batch_size,\n",
    ")"
   ],
   "metadata": {
    "collapsed": false,
    "ExecuteTime": {
     "end_time": "2023-12-19T01:26:11.011351Z",
     "start_time": "2023-12-19T01:26:10.905944700Z"
    }
   },
   "id": "ba8e661fc79b6afe"
  },
  {
   "cell_type": "code",
   "execution_count": 14,
   "outputs": [
    {
     "name": "stdout",
     "output_type": "stream",
     "text": [
      "training on device 'cuda'\n"
     ]
    },
    {
     "data": {
      "text/plain": "Epoch 0:   0%|          | 0/30 [00:00<?, ?batch/s]",
      "application/vnd.jupyter.widget-view+json": {
       "version_major": 2,
       "version_minor": 0,
       "model_id": "5d2bb79b04ca4f73b6c4bb9863208e9e"
      }
     },
     "metadata": {},
     "output_type": "display_data"
    },
    {
     "data": {
      "text/plain": "Evaluating:   0%|          | 0/8 [00:00<?, ?batch/s]",
      "application/vnd.jupyter.widget-view+json": {
       "version_major": 2,
       "version_minor": 0,
       "model_id": "8f98473983ba4870a925841b8b433e7d"
      }
     },
     "metadata": {},
     "output_type": "display_data"
    },
    {
     "data": {
      "text/plain": "Evaluating:   0%|          | 0/30 [00:00<?, ?batch/s]",
      "application/vnd.jupyter.widget-view+json": {
       "version_major": 2,
       "version_minor": 0,
       "model_id": "e7c43f6384214255b3b2c4ac1eb3e7bf"
      }
     },
     "metadata": {},
     "output_type": "display_data"
    },
    {
     "name": "stdout",
     "output_type": "stream",
     "text": [
      "Epoch 0 | Train accuracy: 0.68882, f1: 0.49814, roc-auc: 0.86303\n",
      "            Test accuracy: 0.71735, f1: 0.46548, roc-auc: 0.92326\n"
     ]
    },
    {
     "data": {
      "text/plain": "Epoch 1:   0%|          | 0/30 [00:00<?, ?batch/s]",
      "application/vnd.jupyter.widget-view+json": {
       "version_major": 2,
       "version_minor": 0,
       "model_id": "7b613e435b7d4c1e9bcc7d988e69693c"
      }
     },
     "metadata": {},
     "output_type": "display_data"
    },
    {
     "data": {
      "text/plain": "Evaluating:   0%|          | 0/8 [00:00<?, ?batch/s]",
      "application/vnd.jupyter.widget-view+json": {
       "version_major": 2,
       "version_minor": 0,
       "model_id": "34543c5c9e824da4a35baa667cbd41cf"
      }
     },
     "metadata": {},
     "output_type": "display_data"
    },
    {
     "data": {
      "text/plain": "Evaluating:   0%|          | 0/30 [00:00<?, ?batch/s]",
      "application/vnd.jupyter.widget-view+json": {
       "version_major": 2,
       "version_minor": 0,
       "model_id": "66c07b3cab764fb88792125468d2f646"
      }
     },
     "metadata": {},
     "output_type": "display_data"
    },
    {
     "name": "stdout",
     "output_type": "stream",
     "text": [
      "Epoch 1 | Train accuracy: 0.76170, f1: 0.58046, roc-auc: 0.94279\n",
      "            Test accuracy: 0.75419, f1: 0.50500, roc-auc: 0.96184\n"
     ]
    },
    {
     "data": {
      "text/plain": "Epoch 2:   0%|          | 0/30 [00:00<?, ?batch/s]",
      "application/vnd.jupyter.widget-view+json": {
       "version_major": 2,
       "version_minor": 0,
       "model_id": "2c8ab38acce64354af51097de0063bec"
      }
     },
     "metadata": {},
     "output_type": "display_data"
    },
    {
     "data": {
      "text/plain": "Evaluating:   0%|          | 0/8 [00:00<?, ?batch/s]",
      "application/vnd.jupyter.widget-view+json": {
       "version_major": 2,
       "version_minor": 0,
       "model_id": "ecb33a52c035465f996404bc85f1adb6"
      }
     },
     "metadata": {},
     "output_type": "display_data"
    },
    {
     "data": {
      "text/plain": "Evaluating:   0%|          | 0/30 [00:00<?, ?batch/s]",
      "application/vnd.jupyter.widget-view+json": {
       "version_major": 2,
       "version_minor": 0,
       "model_id": "4e02f1d2370d474dafca0203d10120ca"
      }
     },
     "metadata": {},
     "output_type": "display_data"
    },
    {
     "name": "stdout",
     "output_type": "stream",
     "text": [
      "Epoch 2 | Train accuracy: 0.82160, f1: 0.65704, roc-auc: 0.97770\n",
      "            Test accuracy: 0.79185, f1: 0.54512, roc-auc: 0.97784\n"
     ]
    },
    {
     "data": {
      "text/plain": "Epoch 3:   0%|          | 0/30 [00:00<?, ?batch/s]",
      "application/vnd.jupyter.widget-view+json": {
       "version_major": 2,
       "version_minor": 0,
       "model_id": "cbc38ce4fc93498fa29a2441d5915aed"
      }
     },
     "metadata": {},
     "output_type": "display_data"
    },
    {
     "data": {
      "text/plain": "Evaluating:   0%|          | 0/8 [00:00<?, ?batch/s]",
      "application/vnd.jupyter.widget-view+json": {
       "version_major": 2,
       "version_minor": 0,
       "model_id": "2a19f72ba9b94e3bb9bb77799c2909e7"
      }
     },
     "metadata": {},
     "output_type": "display_data"
    },
    {
     "data": {
      "text/plain": "Evaluating:   0%|          | 0/30 [00:00<?, ?batch/s]",
      "application/vnd.jupyter.widget-view+json": {
       "version_major": 2,
       "version_minor": 0,
       "model_id": "2b659377da234f5882776acfed61059c"
      }
     },
     "metadata": {},
     "output_type": "display_data"
    },
    {
     "name": "stdout",
     "output_type": "stream",
     "text": [
      "Epoch 3 | Train accuracy: 0.89914, f1: 0.77256, roc-auc: 0.98914\n",
      "            Test accuracy: 0.87026, f1: 0.66896, roc-auc: 0.98289\n"
     ]
    },
    {
     "data": {
      "text/plain": "Epoch 4:   0%|          | 0/30 [00:00<?, ?batch/s]",
      "application/vnd.jupyter.widget-view+json": {
       "version_major": 2,
       "version_minor": 0,
       "model_id": "14fc301461e4496883493f826af38a6b"
      }
     },
     "metadata": {},
     "output_type": "display_data"
    },
    {
     "data": {
      "text/plain": "Evaluating:   0%|          | 0/8 [00:00<?, ?batch/s]",
      "application/vnd.jupyter.widget-view+json": {
       "version_major": 2,
       "version_minor": 0,
       "model_id": "1b5bc756c1a8429f8653217c8824db49"
      }
     },
     "metadata": {},
     "output_type": "display_data"
    },
    {
     "data": {
      "text/plain": "Evaluating:   0%|          | 0/30 [00:00<?, ?batch/s]",
      "application/vnd.jupyter.widget-view+json": {
       "version_major": 2,
       "version_minor": 0,
       "model_id": "d4bee6af8f194036a73b119832bfcecd"
      }
     },
     "metadata": {},
     "output_type": "display_data"
    },
    {
     "name": "stdout",
     "output_type": "stream",
     "text": [
      "Epoch 4 | Train accuracy: 0.92733, f1: 0.82660, roc-auc: 0.99222\n",
      "            Test accuracy: 0.89788, f1: 0.73078, roc-auc: 0.98556\n"
     ]
    },
    {
     "data": {
      "text/plain": "Epoch 5:   0%|          | 0/30 [00:00<?, ?batch/s]",
      "application/vnd.jupyter.widget-view+json": {
       "version_major": 2,
       "version_minor": 0,
       "model_id": "6a9e9511513546d99df99c75f738633d"
      }
     },
     "metadata": {},
     "output_type": "display_data"
    },
    {
     "data": {
      "text/plain": "Evaluating:   0%|          | 0/8 [00:00<?, ?batch/s]",
      "application/vnd.jupyter.widget-view+json": {
       "version_major": 2,
       "version_minor": 0,
       "model_id": "3f2412a17d464a23bf3728902862f150"
      }
     },
     "metadata": {},
     "output_type": "display_data"
    },
    {
     "data": {
      "text/plain": "Evaluating:   0%|          | 0/30 [00:00<?, ?batch/s]",
      "application/vnd.jupyter.widget-view+json": {
       "version_major": 2,
       "version_minor": 0,
       "model_id": "254cc28b814442b9a7c18fbc640cd9cd"
      }
     },
     "metadata": {},
     "output_type": "display_data"
    },
    {
     "name": "stdout",
     "output_type": "stream",
     "text": [
      "Epoch 5 | Train accuracy: 0.93281, f1: 0.83827, roc-auc: 0.99449\n",
      "            Test accuracy: 0.90206, f1: 0.74925, roc-auc: 0.98642\n"
     ]
    },
    {
     "data": {
      "text/plain": "Epoch 6:   0%|          | 0/30 [00:00<?, ?batch/s]",
      "application/vnd.jupyter.widget-view+json": {
       "version_major": 2,
       "version_minor": 0,
       "model_id": "e3477a9aa72e429cb0e55b6d0c438198"
      }
     },
     "metadata": {},
     "output_type": "display_data"
    },
    {
     "data": {
      "text/plain": "Evaluating:   0%|          | 0/8 [00:00<?, ?batch/s]",
      "application/vnd.jupyter.widget-view+json": {
       "version_major": 2,
       "version_minor": 0,
       "model_id": "a8ceac91133348e2bb8c5f59d9f5ef93"
      }
     },
     "metadata": {},
     "output_type": "display_data"
    },
    {
     "data": {
      "text/plain": "Evaluating:   0%|          | 0/30 [00:00<?, ?batch/s]",
      "application/vnd.jupyter.widget-view+json": {
       "version_major": 2,
       "version_minor": 0,
       "model_id": "66e9ead4257b476e89309d1fe019b6ce"
      }
     },
     "metadata": {},
     "output_type": "display_data"
    },
    {
     "name": "stdout",
     "output_type": "stream",
     "text": [
      "Epoch 6 | Train accuracy: 0.93392, f1: 0.83624, roc-auc: 0.99388\n",
      "            Test accuracy: 0.90011, f1: 0.74733, roc-auc: 0.98622\n"
     ]
    },
    {
     "data": {
      "text/plain": "<Figure size 640x480 with 1 Axes>",
      "image/png": "[encoded data removed]"
     },
     "metadata": {},
     "output_type": "display_data"
    },
    {
     "data": {
      "text/plain": "<Figure size 640x480 with 1 Axes>",
      "image/png": "[encoded data removed]"
     },
     "metadata": {},
     "output_type": "display_data"
    },
    {
     "data": {
      "text/plain": "(0.8362427157898168, 0.7473251120779281)"
     },
     "execution_count": 14,
     "metadata": {},
     "output_type": "execute_result"
    }
   ],
   "source": [
    "train(model, train_loader, val_loader, optimizer, scheduler, criterion, device, n_epochs=num_epochs)"
   ],
   "metadata": {
    "collapsed": false,
    "ExecuteTime": {
     "end_time": "2023-12-19T01:27:24.889972500Z",
     "start_time": "2023-12-19T01:26:11.476069Z"
    }
   },
   "id": "f74585fbeb61890d"
  },
  {
   "cell_type": "code",
   "execution_count": null,
   "outputs": [],
   "source": [],
   "metadata": {
    "collapsed": false,
    "ExecuteTime": {
     "start_time": "2023-12-19T01:19:25.718182100Z"
    }
   },
   "id": "78896422ffc2589a"
  }
 ],
 "metadata": {
  "kernelspec": {
   "display_name": "Python 3",
   "language": "python",
   "name": "python3"
  },
  "language_info": {
   "codemirror_mode": {
    "name": "ipython",
    "version": 2
   },
   "file_extension": ".py",
   "mimetype": "text/x-python",
   "name": "python",
   "nbconvert_exporter": "python",
   "pygments_lexer": "ipython2",
   "version": "2.7.6"
  }
 },
 "nbformat": 4,
 "nbformat_minor": 5
}
