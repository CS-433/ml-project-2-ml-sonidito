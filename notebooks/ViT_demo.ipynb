{
 "cells": [
  {
   "cell_type": "code",
   "execution_count": 1,
   "id": "initial_id",
   "metadata": {
    "collapsed": true,
    "ExecuteTime": {
     "end_time": "2023-12-08T00:54:32.665211Z",
     "start_time": "2023-12-08T00:54:30.306321Z"
    }
   },
   "outputs": [],
   "source": [
    "%load_ext autoreload\n",
    "%autoreload 2\n",
    "\n",
    "import sys\n",
    "sys.path.append('../src/')\n",
    "\n",
    "import torch\n",
    "import torch.nn as nn\n",
    "import torchvision\n",
    "import torchvision.transforms as transforms\n",
    "from torch.utils.data import DataLoader, Dataset\n",
    "import torchvision.models as models\n",
    "\n",
    "from torchsummary import summary"
   ]
  },
  {
   "cell_type": "code",
   "execution_count": 2,
   "outputs": [],
   "source": [
    "device = \"mps\" if torch.backends.mps.is_available() else \"cuda\" if torch.cuda.is_available() else \"cpu\""
   ],
   "metadata": {
    "collapsed": false,
    "ExecuteTime": {
     "end_time": "2023-12-08T00:54:32.763215100Z",
     "start_time": "2023-12-08T00:54:32.666727200Z"
    }
   },
   "id": "11e6e24060a24582"
  },
  {
   "cell_type": "code",
   "execution_count": 3,
   "outputs": [],
   "source": [
    "transform = transforms.Compose([\n",
    "    transforms.Resize((224, 224)),\n",
    "    transforms.Grayscale(num_output_channels=3),  # Convert to 3-channel grayscale\n",
    "    transforms.ToTensor(),\n",
    "    transforms.Normalize([0.485, 0.456, 0.406], [0.229, 0.224, 0.225])  # ImageNet normalization\n",
    "])"
   ],
   "metadata": {
    "collapsed": false,
    "ExecuteTime": {
     "end_time": "2023-12-08T00:54:32.836310700Z",
     "start_time": "2023-12-08T00:54:32.760716800Z"
    }
   },
   "id": "d2d32c023000dc85"
  },
  {
   "cell_type": "code",
   "execution_count": 4,
   "outputs": [],
   "source": [
    "train_dataset = torchvision.datasets.MNIST(root='./data', train=True, download=True, transform=transform)\n",
    "test_dataset = torchvision.datasets.MNIST(root='./data', train=False, download=True, transform=transform)"
   ],
   "metadata": {
    "collapsed": false,
    "ExecuteTime": {
     "end_time": "2023-12-08T00:54:32.946450400Z",
     "start_time": "2023-12-08T00:54:32.834798700Z"
    }
   },
   "id": "682ab5b04c89eb40"
  },
  {
   "cell_type": "code",
   "execution_count": 5,
   "outputs": [],
   "source": [
    "class CustomMNISTDataset(Dataset):\n",
    "    def __init__(self, mnist_dataset):\n",
    "        self.mnist_dataset = mnist_dataset\n",
    "\n",
    "    def __len__(self):\n",
    "        return len(self.mnist_dataset)\n",
    "\n",
    "    def __getitem__(self, idx):\n",
    "        image, label = self.mnist_dataset[idx]\n",
    "        # convert labels <5 -> True, else -> False\n",
    "        label = 1 if label < 5 else 0\n",
    "        return image, label"
   ],
   "metadata": {
    "collapsed": false,
    "ExecuteTime": {
     "end_time": "2023-12-08T00:54:33.035793100Z",
     "start_time": "2023-12-08T00:54:32.939936400Z"
    }
   },
   "id": "14d4f9614ba0f962"
  },
  {
   "cell_type": "code",
   "execution_count": 6,
   "outputs": [],
   "source": [
    "from torch.utils.data import Subset\n",
    "import numpy as np\n",
    "# Define the size of the smaller dataset\n",
    "subset_size = 1000\n",
    "\n",
    "# Generate random indices for the subset\n",
    "train_indices = np.random.choice(len(train_dataset), subset_size, replace=False)\n",
    "test_indices = np.random.choice(len(test_dataset), subset_size, replace=False)\n",
    "\n",
    "# Create the smaller datasets using the Subset utility\n",
    "train_dataset = Subset(train_dataset, train_indices)\n",
    "test_dataset = Subset(test_dataset, test_indices)\n",
    "\n",
    "\n",
    "train_custom_dataset = CustomMNISTDataset(train_dataset)\n",
    "test_custom_dataset = CustomMNISTDataset(test_dataset)"
   ],
   "metadata": {
    "collapsed": false,
    "ExecuteTime": {
     "end_time": "2023-12-08T00:54:33.128594800Z",
     "start_time": "2023-12-08T00:54:33.037798300Z"
    }
   },
   "id": "d72baf964355da7e"
  },
  {
   "cell_type": "code",
   "execution_count": 7,
   "outputs": [
    {
     "name": "stdout",
     "output_type": "stream",
     "text": [
      "----------------------------------------------------------------\n",
      "        Layer (type)               Output Shape         Param #\n",
      "================================================================\n",
      "            Conv2d-1          [-1, 192, 14, 14]         147,648\n",
      "          Identity-2             [-1, 196, 192]               0\n",
      "        PatchEmbed-3             [-1, 196, 192]               0\n",
      "           Dropout-4             [-1, 197, 192]               0\n",
      "          Identity-5             [-1, 197, 192]               0\n",
      "          Identity-6             [-1, 197, 192]               0\n",
      "         LayerNorm-7             [-1, 197, 192]             384\n",
      "            Linear-8             [-1, 197, 576]         111,168\n",
      "          Identity-9           [-1, 3, 197, 64]               0\n",
      "         Identity-10           [-1, 3, 197, 64]               0\n",
      "           Linear-11             [-1, 197, 192]          37,056\n",
      "          Dropout-12             [-1, 197, 192]               0\n",
      "        Attention-13             [-1, 197, 192]               0\n",
      "         Identity-14             [-1, 197, 192]               0\n",
      "         Identity-15             [-1, 197, 192]               0\n",
      "        LayerNorm-16             [-1, 197, 192]             384\n",
      "           Linear-17             [-1, 197, 768]         148,224\n",
      "             GELU-18             [-1, 197, 768]               0\n",
      "          Dropout-19             [-1, 197, 768]               0\n",
      "         Identity-20             [-1, 197, 768]               0\n",
      "           Linear-21             [-1, 197, 192]         147,648\n",
      "          Dropout-22             [-1, 197, 192]               0\n",
      "              Mlp-23             [-1, 197, 192]               0\n",
      "         Identity-24             [-1, 197, 192]               0\n",
      "         Identity-25             [-1, 197, 192]               0\n",
      "            Block-26             [-1, 197, 192]               0\n",
      "        LayerNorm-27             [-1, 197, 192]             384\n",
      "           Linear-28             [-1, 197, 576]         111,168\n",
      "         Identity-29           [-1, 3, 197, 64]               0\n",
      "         Identity-30           [-1, 3, 197, 64]               0\n",
      "           Linear-31             [-1, 197, 192]          37,056\n",
      "          Dropout-32             [-1, 197, 192]               0\n",
      "        Attention-33             [-1, 197, 192]               0\n",
      "         Identity-34             [-1, 197, 192]               0\n",
      "         Identity-35             [-1, 197, 192]               0\n",
      "        LayerNorm-36             [-1, 197, 192]             384\n",
      "           Linear-37             [-1, 197, 768]         148,224\n",
      "             GELU-38             [-1, 197, 768]               0\n",
      "          Dropout-39             [-1, 197, 768]               0\n",
      "         Identity-40             [-1, 197, 768]               0\n",
      "           Linear-41             [-1, 197, 192]         147,648\n",
      "          Dropout-42             [-1, 197, 192]               0\n",
      "              Mlp-43             [-1, 197, 192]               0\n",
      "         Identity-44             [-1, 197, 192]               0\n",
      "         Identity-45             [-1, 197, 192]               0\n",
      "            Block-46             [-1, 197, 192]               0\n",
      "        LayerNorm-47             [-1, 197, 192]             384\n",
      "           Linear-48             [-1, 197, 576]         111,168\n",
      "         Identity-49           [-1, 3, 197, 64]               0\n",
      "         Identity-50           [-1, 3, 197, 64]               0\n",
      "           Linear-51             [-1, 197, 192]          37,056\n",
      "          Dropout-52             [-1, 197, 192]               0\n",
      "        Attention-53             [-1, 197, 192]               0\n",
      "         Identity-54             [-1, 197, 192]               0\n",
      "         Identity-55             [-1, 197, 192]               0\n",
      "        LayerNorm-56             [-1, 197, 192]             384\n",
      "           Linear-57             [-1, 197, 768]         148,224\n",
      "             GELU-58             [-1, 197, 768]               0\n",
      "          Dropout-59             [-1, 197, 768]               0\n",
      "         Identity-60             [-1, 197, 768]               0\n",
      "           Linear-61             [-1, 197, 192]         147,648\n",
      "          Dropout-62             [-1, 197, 192]               0\n",
      "              Mlp-63             [-1, 197, 192]               0\n",
      "         Identity-64             [-1, 197, 192]               0\n",
      "         Identity-65             [-1, 197, 192]               0\n",
      "            Block-66             [-1, 197, 192]               0\n",
      "        LayerNorm-67             [-1, 197, 192]             384\n",
      "           Linear-68             [-1, 197, 576]         111,168\n",
      "         Identity-69           [-1, 3, 197, 64]               0\n",
      "         Identity-70           [-1, 3, 197, 64]               0\n",
      "           Linear-71             [-1, 197, 192]          37,056\n",
      "          Dropout-72             [-1, 197, 192]               0\n",
      "        Attention-73             [-1, 197, 192]               0\n",
      "         Identity-74             [-1, 197, 192]               0\n",
      "         Identity-75             [-1, 197, 192]               0\n",
      "        LayerNorm-76             [-1, 197, 192]             384\n",
      "           Linear-77             [-1, 197, 768]         148,224\n",
      "             GELU-78             [-1, 197, 768]               0\n",
      "          Dropout-79             [-1, 197, 768]               0\n",
      "         Identity-80             [-1, 197, 768]               0\n",
      "           Linear-81             [-1, 197, 192]         147,648\n",
      "          Dropout-82             [-1, 197, 192]               0\n",
      "              Mlp-83             [-1, 197, 192]               0\n",
      "         Identity-84             [-1, 197, 192]               0\n",
      "         Identity-85             [-1, 197, 192]               0\n",
      "            Block-86             [-1, 197, 192]               0\n",
      "        LayerNorm-87             [-1, 197, 192]             384\n",
      "           Linear-88             [-1, 197, 576]         111,168\n",
      "         Identity-89           [-1, 3, 197, 64]               0\n",
      "         Identity-90           [-1, 3, 197, 64]               0\n",
      "           Linear-91             [-1, 197, 192]          37,056\n",
      "          Dropout-92             [-1, 197, 192]               0\n",
      "        Attention-93             [-1, 197, 192]               0\n",
      "         Identity-94             [-1, 197, 192]               0\n",
      "         Identity-95             [-1, 197, 192]               0\n",
      "        LayerNorm-96             [-1, 197, 192]             384\n",
      "           Linear-97             [-1, 197, 768]         148,224\n",
      "             GELU-98             [-1, 197, 768]               0\n",
      "          Dropout-99             [-1, 197, 768]               0\n",
      "        Identity-100             [-1, 197, 768]               0\n",
      "          Linear-101             [-1, 197, 192]         147,648\n",
      "         Dropout-102             [-1, 197, 192]               0\n",
      "             Mlp-103             [-1, 197, 192]               0\n",
      "        Identity-104             [-1, 197, 192]               0\n",
      "        Identity-105             [-1, 197, 192]               0\n",
      "           Block-106             [-1, 197, 192]               0\n",
      "       LayerNorm-107             [-1, 197, 192]             384\n",
      "          Linear-108             [-1, 197, 576]         111,168\n",
      "        Identity-109           [-1, 3, 197, 64]               0\n",
      "        Identity-110           [-1, 3, 197, 64]               0\n",
      "          Linear-111             [-1, 197, 192]          37,056\n",
      "         Dropout-112             [-1, 197, 192]               0\n",
      "       Attention-113             [-1, 197, 192]               0\n",
      "        Identity-114             [-1, 197, 192]               0\n",
      "        Identity-115             [-1, 197, 192]               0\n",
      "       LayerNorm-116             [-1, 197, 192]             384\n",
      "          Linear-117             [-1, 197, 768]         148,224\n",
      "            GELU-118             [-1, 197, 768]               0\n",
      "         Dropout-119             [-1, 197, 768]               0\n",
      "        Identity-120             [-1, 197, 768]               0\n",
      "          Linear-121             [-1, 197, 192]         147,648\n",
      "         Dropout-122             [-1, 197, 192]               0\n",
      "             Mlp-123             [-1, 197, 192]               0\n",
      "        Identity-124             [-1, 197, 192]               0\n",
      "        Identity-125             [-1, 197, 192]               0\n",
      "           Block-126             [-1, 197, 192]               0\n",
      "       LayerNorm-127             [-1, 197, 192]             384\n",
      "          Linear-128             [-1, 197, 576]         111,168\n",
      "        Identity-129           [-1, 3, 197, 64]               0\n",
      "        Identity-130           [-1, 3, 197, 64]               0\n",
      "          Linear-131             [-1, 197, 192]          37,056\n",
      "         Dropout-132             [-1, 197, 192]               0\n",
      "       Attention-133             [-1, 197, 192]               0\n",
      "        Identity-134             [-1, 197, 192]               0\n",
      "        Identity-135             [-1, 197, 192]               0\n",
      "       LayerNorm-136             [-1, 197, 192]             384\n",
      "          Linear-137             [-1, 197, 768]         148,224\n",
      "            GELU-138             [-1, 197, 768]               0\n",
      "         Dropout-139             [-1, 197, 768]               0\n",
      "        Identity-140             [-1, 197, 768]               0\n",
      "          Linear-141             [-1, 197, 192]         147,648\n",
      "         Dropout-142             [-1, 197, 192]               0\n",
      "             Mlp-143             [-1, 197, 192]               0\n",
      "        Identity-144             [-1, 197, 192]               0\n",
      "        Identity-145             [-1, 197, 192]               0\n",
      "           Block-146             [-1, 197, 192]               0\n",
      "       LayerNorm-147             [-1, 197, 192]             384\n",
      "          Linear-148             [-1, 197, 576]         111,168\n",
      "        Identity-149           [-1, 3, 197, 64]               0\n",
      "        Identity-150           [-1, 3, 197, 64]               0\n",
      "          Linear-151             [-1, 197, 192]          37,056\n",
      "         Dropout-152             [-1, 197, 192]               0\n",
      "       Attention-153             [-1, 197, 192]               0\n",
      "        Identity-154             [-1, 197, 192]               0\n",
      "        Identity-155             [-1, 197, 192]               0\n",
      "       LayerNorm-156             [-1, 197, 192]             384\n",
      "          Linear-157             [-1, 197, 768]         148,224\n",
      "            GELU-158             [-1, 197, 768]               0\n",
      "         Dropout-159             [-1, 197, 768]               0\n",
      "        Identity-160             [-1, 197, 768]               0\n",
      "          Linear-161             [-1, 197, 192]         147,648\n",
      "         Dropout-162             [-1, 197, 192]               0\n",
      "             Mlp-163             [-1, 197, 192]               0\n",
      "        Identity-164             [-1, 197, 192]               0\n",
      "        Identity-165             [-1, 197, 192]               0\n",
      "           Block-166             [-1, 197, 192]               0\n",
      "       LayerNorm-167             [-1, 197, 192]             384\n",
      "          Linear-168             [-1, 197, 576]         111,168\n",
      "        Identity-169           [-1, 3, 197, 64]               0\n",
      "        Identity-170           [-1, 3, 197, 64]               0\n",
      "          Linear-171             [-1, 197, 192]          37,056\n",
      "         Dropout-172             [-1, 197, 192]               0\n",
      "       Attention-173             [-1, 197, 192]               0\n",
      "        Identity-174             [-1, 197, 192]               0\n",
      "        Identity-175             [-1, 197, 192]               0\n",
      "       LayerNorm-176             [-1, 197, 192]             384\n",
      "          Linear-177             [-1, 197, 768]         148,224\n",
      "            GELU-178             [-1, 197, 768]               0\n",
      "         Dropout-179             [-1, 197, 768]               0\n",
      "        Identity-180             [-1, 197, 768]               0\n",
      "          Linear-181             [-1, 197, 192]         147,648\n",
      "         Dropout-182             [-1, 197, 192]               0\n",
      "             Mlp-183             [-1, 197, 192]               0\n",
      "        Identity-184             [-1, 197, 192]               0\n",
      "        Identity-185             [-1, 197, 192]               0\n",
      "           Block-186             [-1, 197, 192]               0\n",
      "       LayerNorm-187             [-1, 197, 192]             384\n",
      "          Linear-188             [-1, 197, 576]         111,168\n",
      "        Identity-189           [-1, 3, 197, 64]               0\n",
      "        Identity-190           [-1, 3, 197, 64]               0\n",
      "          Linear-191             [-1, 197, 192]          37,056\n",
      "         Dropout-192             [-1, 197, 192]               0\n",
      "       Attention-193             [-1, 197, 192]               0\n",
      "        Identity-194             [-1, 197, 192]               0\n",
      "        Identity-195             [-1, 197, 192]               0\n",
      "       LayerNorm-196             [-1, 197, 192]             384\n",
      "          Linear-197             [-1, 197, 768]         148,224\n",
      "            GELU-198             [-1, 197, 768]               0\n",
      "         Dropout-199             [-1, 197, 768]               0\n",
      "        Identity-200             [-1, 197, 768]               0\n",
      "          Linear-201             [-1, 197, 192]         147,648\n",
      "         Dropout-202             [-1, 197, 192]               0\n",
      "             Mlp-203             [-1, 197, 192]               0\n",
      "        Identity-204             [-1, 197, 192]               0\n",
      "        Identity-205             [-1, 197, 192]               0\n",
      "           Block-206             [-1, 197, 192]               0\n",
      "       LayerNorm-207             [-1, 197, 192]             384\n",
      "          Linear-208             [-1, 197, 576]         111,168\n",
      "        Identity-209           [-1, 3, 197, 64]               0\n",
      "        Identity-210           [-1, 3, 197, 64]               0\n",
      "          Linear-211             [-1, 197, 192]          37,056\n",
      "         Dropout-212             [-1, 197, 192]               0\n",
      "       Attention-213             [-1, 197, 192]               0\n",
      "        Identity-214             [-1, 197, 192]               0\n",
      "        Identity-215             [-1, 197, 192]               0\n",
      "       LayerNorm-216             [-1, 197, 192]             384\n",
      "          Linear-217             [-1, 197, 768]         148,224\n",
      "            GELU-218             [-1, 197, 768]               0\n",
      "         Dropout-219             [-1, 197, 768]               0\n",
      "        Identity-220             [-1, 197, 768]               0\n",
      "          Linear-221             [-1, 197, 192]         147,648\n",
      "         Dropout-222             [-1, 197, 192]               0\n",
      "             Mlp-223             [-1, 197, 192]               0\n",
      "        Identity-224             [-1, 197, 192]               0\n",
      "        Identity-225             [-1, 197, 192]               0\n",
      "           Block-226             [-1, 197, 192]               0\n",
      "       LayerNorm-227             [-1, 197, 192]             384\n",
      "          Linear-228             [-1, 197, 576]         111,168\n",
      "        Identity-229           [-1, 3, 197, 64]               0\n",
      "        Identity-230           [-1, 3, 197, 64]               0\n",
      "          Linear-231             [-1, 197, 192]          37,056\n",
      "         Dropout-232             [-1, 197, 192]               0\n",
      "       Attention-233             [-1, 197, 192]               0\n",
      "        Identity-234             [-1, 197, 192]               0\n",
      "        Identity-235             [-1, 197, 192]               0\n",
      "       LayerNorm-236             [-1, 197, 192]             384\n",
      "          Linear-237             [-1, 197, 768]         148,224\n",
      "            GELU-238             [-1, 197, 768]               0\n",
      "         Dropout-239             [-1, 197, 768]               0\n",
      "        Identity-240             [-1, 197, 768]               0\n",
      "          Linear-241             [-1, 197, 192]         147,648\n",
      "         Dropout-242             [-1, 197, 192]               0\n",
      "             Mlp-243             [-1, 197, 192]               0\n",
      "        Identity-244             [-1, 197, 192]               0\n",
      "        Identity-245             [-1, 197, 192]               0\n",
      "           Block-246             [-1, 197, 192]               0\n",
      "       LayerNorm-247             [-1, 197, 192]             384\n",
      "        Identity-248                  [-1, 192]               0\n",
      "         Dropout-249                  [-1, 192]               0\n",
      "          Linear-250                    [-1, 1]             193\n",
      "         Sigmoid-251                    [-1, 1]               0\n",
      "================================================================\n",
      "Total params: 5,486,593\n",
      "Trainable params: 5,486,593\n",
      "Non-trainable params: 0\n",
      "----------------------------------------------------------------\n",
      "Input size (MB): 0.57\n",
      "Forward/backward pass size (MB): 119.76\n",
      "Params size (MB): 20.93\n",
      "Estimated Total Size (MB): 141.26\n",
      "----------------------------------------------------------------\n"
     ]
    }
   ],
   "source": [
    "import timm\n",
    "model = timm.create_model('deit_tiny_patch16_224', pretrained=True)\n",
    "\n",
    "model.head = nn.Sequential(\n",
    "    nn.Linear(model.head.in_features, 1),  # output one value\n",
    "    nn.Sigmoid()\n",
    ")\n",
    "summary(model.to(device), (3, 224, 224))"
   ],
   "metadata": {
    "collapsed": false,
    "ExecuteTime": {
     "end_time": "2023-12-08T00:54:37.906739900Z",
     "start_time": "2023-12-08T00:54:33.129599100Z"
    }
   },
   "id": "e51fb592a4747c38"
  },
  {
   "cell_type": "code",
   "execution_count": 8,
   "outputs": [
    {
     "name": "stdout",
     "output_type": "stream",
     "text": [
      "Adjusting learning rate of group 0 to 1.0000e-04.\n"
     ]
    }
   ],
   "source": [
    "from torch.optim.lr_scheduler import CosineAnnealingWarmRestarts\n",
    "# define data loaders, loss and optimizer\n",
    "train_loader = DataLoader(train_custom_dataset, batch_size=32, shuffle=True)\n",
    "test_loader = DataLoader(test_custom_dataset, batch_size=32, shuffle=False)\n",
    "\n",
    "criterion = nn.BCELoss()  # Binary Cross Entropy Loss\n",
    "optimizer = torch.optim.Adam(model.parameters(), lr=1e-4)\n",
    "num_epochs=12\n",
    "\n",
    "scheduler = torch.optim.lr_scheduler.CosineAnnealingLR(\n",
    "        optimizer,\n",
    "        T_max=(len(train_loader.dataset) * num_epochs) // train_loader.batch_size,\n",
    "    verbose=True, eta_min=0)\n",
    "scheduler = CosineAnnealingWarmRestarts(optimizer, T_0=(len(train_loader.dataset) * num_epochs) // (train_loader.batch_size * 3), T_mult=1, verbose=False)"
   ],
   "metadata": {
    "collapsed": false,
    "ExecuteTime": {
     "end_time": "2023-12-08T00:54:37.997666800Z",
     "start_time": "2023-12-08T00:54:37.904726800Z"
    }
   },
   "id": "d51f6325e770a353"
  },
  {
   "cell_type": "code",
   "execution_count": 9,
   "outputs": [],
   "source": [
    "from tqdm.notebook import tqdm\n",
    "import torch\n",
    "import matplotlib.pyplot as plt\n",
    "from sklearn.metrics import precision_score, f1_score\n",
    "\n",
    "def accuracy(predicted_probs, reference):\n",
    "    \"\"\"\n",
    "    Compute the accuracy for binary classification.\n",
    "\n",
    "    @param predicted_logits: float32 tensor of shape (batch size, 1) representing raw model outputs (logits).\n",
    "    @param reference: int64 tensor of shape (batch size,) with the binary class labels (0 or 1).\n",
    "    \"\"\"\n",
    "    # Convert probabilities to binary predictions (0 or 1)\n",
    "    predicted_labels = (predicted_probs > 0.5).float().squeeze()\n",
    "    \n",
    "    # Convert tensors to numpy arrays for compatibility with sklearn metrics\n",
    "    predicted_labels_np = predicted_labels.cpu().numpy()\n",
    "    reference_np = reference.cpu().numpy()\n",
    "\n",
    "    # Calculate precision, recall, and F1 score\n",
    "    precision = precision_score(reference_np, predicted_labels_np, zero_division=0)\n",
    "    f1 = f1_score(reference_np, predicted_labels_np, zero_division=0)\n",
    "\n",
    "    return precision, f1\n",
    "\n",
    "\n",
    "def train(model, train_loader, test_loader, optimizer, scheduler, criterion, device, n_epochs=1):\n",
    "    device = torch.device(device)\n",
    "    model.to(device)\n",
    "    print(f\"training on device '{device}'\")\n",
    "\n",
    "    losses = []\n",
    "    f1s = []\n",
    "\n",
    "    for epoch in range(n_epochs):\n",
    "        model.train()\n",
    "        with tqdm(train_loader, unit='batch') as tepoch:\n",
    "            for x_batch, y_batch in tepoch :\n",
    "                tepoch.set_description(f'Epoch {epoch}')\n",
    "\n",
    "                x_batch = x_batch.to(device)\n",
    "                y_batch = y_batch.to(device)\n",
    "\n",
    "                y_pred = model(x_batch).squeeze()\n",
    "                y_batch = y_batch.float()\n",
    "\n",
    "                loss = criterion(y_pred, y_batch)\n",
    "\n",
    "                optimizer.zero_grad()\n",
    "                loss.backward()\n",
    "                optimizer.step()\n",
    "                scheduler.step()\n",
    "\n",
    "                tepoch.set_postfix(loss=loss.item())\n",
    "               \n",
    "                losses.append(loss.item())\n",
    "                \n",
    "        # evaluate on test set\n",
    "        model.eval()\n",
    "        accuracies_test = []\n",
    "        f1_test = []\n",
    "        for batch_x, batch_y in test_loader:\n",
    "            batch_x, batch_y = batch_x.to(device), batch_y.to(device)\n",
    "            with torch.no_grad():\n",
    "                prediction = model(batch_x)\n",
    "                acc, f1 = accuracy(prediction, batch_y)\n",
    "                accuracies_test.append(acc)\n",
    "                f1_test.append(f1)\n",
    "        f1s.append(np.mean(f1_test))\n",
    "\n",
    "        print(\n",
    "            \"Epoch {} | Test accuracy: {:.5f}, f1: {:.5f}\".format(\n",
    "                epoch, sum(accuracies_test).item() / len(accuracies_test),\n",
    "                sum(f1_test).item() / len(f1_test)\n",
    "            )\n",
    "        )\n",
    "    \n",
    "    plot_losses(losses)\n",
    "    plot_f1(f1s)\n",
    "\n",
    "def plot_losses(losses):\n",
    "    plt.plot(losses, label='train')\n",
    "    plt.title(\"loss\")\n",
    "    plt.ylabel('loss')\n",
    "    plt.xlabel('iterations')\n",
    "    plt.legend()\n",
    "    plt.show()\n",
    "def plot_f1(f1s):\n",
    "    plt.plot(f1s, label='test')\n",
    "    plt.title(\"f1\")\n",
    "    plt.ylabel('f1')\n",
    "    plt.xlabel('iterations')\n",
    "    plt.legend()\n",
    "    plt.show()"
   ],
   "metadata": {
    "collapsed": false,
    "ExecuteTime": {
     "end_time": "2023-12-08T00:54:38.924700700Z",
     "start_time": "2023-12-08T00:54:38.000167500Z"
    }
   },
   "id": "9117db38bfca932a"
  },
  {
   "cell_type": "code",
   "execution_count": 10,
   "outputs": [
    {
     "name": "stdout",
     "output_type": "stream",
     "text": [
      "training on device 'cuda'\n"
     ]
    },
    {
     "data": {
      "text/plain": "  0%|          | 0/32 [00:00<?, ?batch/s]",
      "application/vnd.jupyter.widget-view+json": {
       "version_major": 2,
       "version_minor": 0,
       "model_id": "de3b65093d474313a776a3e85d47238a"
      }
     },
     "metadata": {},
     "output_type": "display_data"
    },
    {
     "name": "stdout",
     "output_type": "stream",
     "text": [
      "Epoch 0 | Test accuracy: 0.99163, f1: 0.34684\n"
     ]
    },
    {
     "data": {
      "text/plain": "  0%|          | 0/32 [00:00<?, ?batch/s]",
      "application/vnd.jupyter.widget-view+json": {
       "version_major": 2,
       "version_minor": 0,
       "model_id": "14bd32ae0f6243f0a656aca85482f680"
      }
     },
     "metadata": {},
     "output_type": "display_data"
    },
    {
     "name": "stdout",
     "output_type": "stream",
     "text": [
      "Epoch 1 | Test accuracy: 0.83045, f1: 0.59259\n"
     ]
    },
    {
     "data": {
      "text/plain": "  0%|          | 0/32 [00:00<?, ?batch/s]",
      "application/vnd.jupyter.widget-view+json": {
       "version_major": 2,
       "version_minor": 0,
       "model_id": "e92eea497b214820891e692ae9fe9dfb"
      }
     },
     "metadata": {},
     "output_type": "display_data"
    },
    {
     "name": "stdout",
     "output_type": "stream",
     "text": [
      "Epoch 2 | Test accuracy: 0.71715, f1: 0.82604\n"
     ]
    },
    {
     "data": {
      "text/plain": "  0%|          | 0/32 [00:00<?, ?batch/s]",
      "application/vnd.jupyter.widget-view+json": {
       "version_major": 2,
       "version_minor": 0,
       "model_id": "f87a520571c845e6a044d0081eefb1df"
      }
     },
     "metadata": {},
     "output_type": "display_data"
    },
    {
     "name": "stdout",
     "output_type": "stream",
     "text": [
      "Epoch 3 | Test accuracy: 1.00000, f1: 0.50722\n"
     ]
    },
    {
     "data": {
      "text/plain": "  0%|          | 0/32 [00:00<?, ?batch/s]",
      "application/vnd.jupyter.widget-view+json": {
       "version_major": 2,
       "version_minor": 0,
       "model_id": "a75eca59e038419d8d5850db98827282"
      }
     },
     "metadata": {},
     "output_type": "display_data"
    },
    {
     "name": "stdout",
     "output_type": "stream",
     "text": [
      "Epoch 4 | Test accuracy: 0.98339, f1: 0.84817\n"
     ]
    },
    {
     "data": {
      "text/plain": "  0%|          | 0/32 [00:00<?, ?batch/s]",
      "application/vnd.jupyter.widget-view+json": {
       "version_major": 2,
       "version_minor": 0,
       "model_id": "675b41a8a504424fb23c4940fabf7009"
      }
     },
     "metadata": {},
     "output_type": "display_data"
    },
    {
     "name": "stdout",
     "output_type": "stream",
     "text": [
      "Epoch 5 | Test accuracy: 0.95377, f1: 0.95643\n"
     ]
    },
    {
     "data": {
      "text/plain": "  0%|          | 0/32 [00:00<?, ?batch/s]",
      "application/vnd.jupyter.widget-view+json": {
       "version_major": 2,
       "version_minor": 0,
       "model_id": "9931b9cb43dc4883bbc907bed37b4f9a"
      }
     },
     "metadata": {},
     "output_type": "display_data"
    },
    {
     "name": "stdout",
     "output_type": "stream",
     "text": [
      "Epoch 6 | Test accuracy: 0.96257, f1: 0.95544\n"
     ]
    },
    {
     "data": {
      "text/plain": "  0%|          | 0/32 [00:00<?, ?batch/s]",
      "application/vnd.jupyter.widget-view+json": {
       "version_major": 2,
       "version_minor": 0,
       "model_id": "75737df4535049eaace80874991575ad"
      }
     },
     "metadata": {},
     "output_type": "display_data"
    },
    {
     "name": "stdout",
     "output_type": "stream",
     "text": [
      "Epoch 7 | Test accuracy: 0.92895, f1: 0.95466\n"
     ]
    },
    {
     "data": {
      "text/plain": "  0%|          | 0/32 [00:00<?, ?batch/s]",
      "application/vnd.jupyter.widget-view+json": {
       "version_major": 2,
       "version_minor": 0,
       "model_id": "b1ecedae28cf4ceebc835003c4aebedc"
      }
     },
     "metadata": {},
     "output_type": "display_data"
    },
    {
     "name": "stdout",
     "output_type": "stream",
     "text": [
      "Epoch 8 | Test accuracy: 0.93784, f1: 0.95279\n"
     ]
    },
    {
     "data": {
      "text/plain": "  0%|          | 0/32 [00:00<?, ?batch/s]",
      "application/vnd.jupyter.widget-view+json": {
       "version_major": 2,
       "version_minor": 0,
       "model_id": "d8eab8520775425bbf0a83a12f73100f"
      }
     },
     "metadata": {},
     "output_type": "display_data"
    },
    {
     "name": "stdout",
     "output_type": "stream",
     "text": [
      "Epoch 9 | Test accuracy: 0.98248, f1: 0.95136\n"
     ]
    },
    {
     "data": {
      "text/plain": "  0%|          | 0/32 [00:00<?, ?batch/s]",
      "application/vnd.jupyter.widget-view+json": {
       "version_major": 2,
       "version_minor": 0,
       "model_id": "4e09b3229b1942459e5bc1a08038487e"
      }
     },
     "metadata": {},
     "output_type": "display_data"
    },
    {
     "name": "stdout",
     "output_type": "stream",
     "text": [
      "Epoch 10 | Test accuracy: 0.96967, f1: 0.96669\n"
     ]
    },
    {
     "data": {
      "text/plain": "  0%|          | 0/32 [00:00<?, ?batch/s]",
      "application/vnd.jupyter.widget-view+json": {
       "version_major": 2,
       "version_minor": 0,
       "model_id": "0192459bb3c843f696a13373ba145ea7"
      }
     },
     "metadata": {},
     "output_type": "display_data"
    },
    {
     "name": "stdout",
     "output_type": "stream",
     "text": [
      "Epoch 11 | Test accuracy: 0.96475, f1: 0.96449\n"
     ]
    },
    {
     "data": {
      "text/plain": "<Figure size 640x480 with 1 Axes>",
      "image/png": "[encoded data removed]"
     },
     "metadata": {},
     "output_type": "display_data"
    },
    {
     "data": {
      "text/plain": "<Figure size 640x480 with 1 Axes>",
      "image/png": "[encoded data removed]"
     },
     "metadata": {},
     "output_type": "display_data"
    }
   ],
   "source": [
    "train(model, train_loader, test_loader, optimizer, scheduler, criterion, device, n_epochs=12)"
   ],
   "metadata": {
    "collapsed": false,
    "ExecuteTime": {
     "end_time": "2023-12-08T00:55:25.271094600Z",
     "start_time": "2023-12-08T00:54:38.926206500Z"
    }
   },
   "id": "2c97bfb743c2f8c7"
  },
  {
   "cell_type": "code",
   "execution_count": 10,
   "outputs": [],
   "source": [],
   "metadata": {
    "collapsed": false,
    "ExecuteTime": {
     "end_time": "2023-12-08T00:55:25.271594200Z",
     "start_time": "2023-12-08T00:55:25.263072400Z"
    }
   },
   "id": "b48892e5bbc4f4a1"
  }
 ],
 "metadata": {
  "kernelspec": {
   "display_name": "Python 3",
   "language": "python",
   "name": "python3"
  },
  "language_info": {
   "codemirror_mode": {
    "name": "ipython",
    "version": 2
   },
   "file_extension": ".py",
   "mimetype": "text/x-python",
   "name": "python",
   "nbconvert_exporter": "python",
   "pygments_lexer": "ipython2",
   "version": "2.7.6"
  }
 },
 "nbformat": 4,
 "nbformat_minor": 5
}
